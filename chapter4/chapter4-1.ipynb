{
 "cells": [
  {
   "cell_type": "code",
   "execution_count": 1,
   "metadata": {},
   "outputs": [],
   "source": [
    "import plotly\n",
    "plotly.tools.set_credentials_file(username=\"qiwsir\", api_key='hbbkYLeh9QuUwRDIMwn1')"
   ]
  },
  {
   "cell_type": "code",
   "execution_count": 2,
   "metadata": {},
   "outputs": [
    {
     "data": {
      "text/plain": [
       "'https://plot.ly/~qiwsir/12'"
      ]
     },
     "execution_count": 2,
     "metadata": {},
     "output_type": "execute_result"
    }
   ],
   "source": [
    "import plotly.plotly as py\n",
    "import plotly.graph_objs as go\n",
    "\n",
    "t0 = go.Scatter(x = [1, 2, 3, 4],\n",
    "                y = [10, 15, 13, 17])\n",
    "t1 = go.Scatter(x = [1, 2, 3, 4],\n",
    "                y = [16, 18, 13, 17])\n",
    "data = [t0, t1]\n",
    "py.plot(data, filename=\"example_image\")    #①"
   ]
  },
  {
   "cell_type": "code",
   "execution_count": 3,
   "metadata": {},
   "outputs": [
    {
     "data": {
      "text/plain": [
       "'file:///Users/qiwsir/Documents/Codes/data_visualization/chapter4/temp-plot.html'"
      ]
     },
     "execution_count": 3,
     "metadata": {},
     "output_type": "execute_result"
    }
   ],
   "source": [
    "import plotly\n",
    "import plotly.graph_objs as go\n",
    "\n",
    "plotly.offline.plot({\"data\": [go.Scatter(x=[1,2,3,4], y=[6,7,8,9])],\n",
    "                     \"layout\": go.Layout(title=\"laoqi_third_image\")}, \n",
    "                     auto_open = True)"
   ]
  },
  {
   "cell_type": "code",
   "execution_count": 4,
   "metadata": {},
   "outputs": [
    {
     "data": {
      "text/html": [
       "<script>requirejs.config({paths: { 'plotly': ['https://cdn.plot.ly/plotly-latest.min']},});if(!window.Plotly) {{require(['plotly'],function(plotly) {window.Plotly=plotly;});}}</script>"
      ],
      "text/vnd.plotly.v1+html": [
       "<script>requirejs.config({paths: { 'plotly': ['https://cdn.plot.ly/plotly-latest.min']},});if(!window.Plotly) {{require(['plotly'],function(plotly) {window.Plotly=plotly;});}}</script>"
      ]
     },
     "metadata": {},
     "output_type": "display_data"
    },
    {
     "data": {
      "application/vnd.plotly.v1+json": {
       "data": [
        {
         "type": "scatter",
         "uid": "ddfbf084-2c17-11e9-96bc-920014f8e201",
         "x": [
          1,
          2,
          3,
          4
         ],
         "y": [
          4,
          3,
          2,
          1
         ]
        }
       ],
       "layout": {
        "title": "hello world"
       }
      },
      "text/html": [
       "<div id=\"414550ac-44d6-4162-8882-7b4ca75fb38d\" style=\"height: 525px; width: 100%;\" class=\"plotly-graph-div\"></div><script type=\"text/javascript\">require([\"plotly\"], function(Plotly) { window.PLOTLYENV=window.PLOTLYENV || {};window.PLOTLYENV.BASE_URL=\"https://plot.ly\";Plotly.newPlot(\"414550ac-44d6-4162-8882-7b4ca75fb38d\", [{\"x\": [1, 2, 3, 4], \"y\": [4, 3, 2, 1], \"type\": \"scatter\", \"uid\": \"ddff006c-2c17-11e9-96bc-920014f8e201\"}], {\"title\": \"hello world\"}, {\"showLink\": true, \"linkText\": \"Export to plot.ly\"})});</script>"
      ],
      "text/vnd.plotly.v1+html": [
       "<div id=\"414550ac-44d6-4162-8882-7b4ca75fb38d\" style=\"height: 525px; width: 100%;\" class=\"plotly-graph-div\"></div><script type=\"text/javascript\">require([\"plotly\"], function(Plotly) { window.PLOTLYENV=window.PLOTLYENV || {};window.PLOTLYENV.BASE_URL=\"https://plot.ly\";Plotly.newPlot(\"414550ac-44d6-4162-8882-7b4ca75fb38d\", [{\"x\": [1, 2, 3, 4], \"y\": [4, 3, 2, 1], \"type\": \"scatter\", \"uid\": \"ddff006c-2c17-11e9-96bc-920014f8e201\"}], {\"title\": \"hello world\"}, {\"showLink\": true, \"linkText\": \"Export to plot.ly\"})});</script>"
      ]
     },
     "metadata": {},
     "output_type": "display_data"
    }
   ],
   "source": [
    "plotly.offline.init_notebook_mode(connected=True)\n",
    "\n",
    "plotly.offline.iplot({\n",
    "    \"data\": [go.Scatter(x=[1, 2, 3, 4], y=[4, 3, 2, 1])],\n",
    "    \"layout\": go.Layout(title=\"hello world\")\n",
    "})"
   ]
  },
  {
   "cell_type": "code",
   "execution_count": 5,
   "metadata": {},
   "outputs": [],
   "source": [
    "import plotly.plotly as py"
   ]
  },
  {
   "cell_type": "code",
   "execution_count": 6,
   "metadata": {},
   "outputs": [
    {
     "data": {
      "text/html": [
       "<script>requirejs.config({paths: { 'plotly': ['https://cdn.plot.ly/plotly-latest.min']},});if(!window.Plotly) {{require(['plotly'],function(plotly) {window.Plotly=plotly;});}}</script>"
      ],
      "text/vnd.plotly.v1+html": [
       "<script>requirejs.config({paths: { 'plotly': ['https://cdn.plot.ly/plotly-latest.min']},});if(!window.Plotly) {{require(['plotly'],function(plotly) {window.Plotly=plotly;});}}</script>"
      ]
     },
     "metadata": {},
     "output_type": "display_data"
    },
    {
     "data": {
      "application/vnd.plotly.v1+json": {
       "data": [
        {
         "marker": {
          "color": "red",
          "symbol": 104
         },
         "mode": "markers+lines",
         "name": "a trace",
         "text": [
          "one",
          "two",
          "three"
         ],
         "type": "scatter",
         "uid": "e575bf1a-2c18-11e9-96bc-920014f8e201",
         "x": [
          1,
          2,
          3
         ],
         "y": [
          4,
          5,
          6
         ]
        },
        {
         "marker": {
          "color": "black"
         },
         "name": "a trace",
         "text": [
          "FIRST",
          "SECOND",
          "THIRD"
         ],
         "type": "scatter",
         "uid": "e575c0b4-2c18-11e9-96bc-920014f8e201",
         "x": [
          3,
          2,
          1
         ],
         "y": [
          4,
          4.5,
          5
         ]
        }
       ],
       "layout": {}
      },
      "text/html": [
       "<div id=\"89e456ec-34ad-4487-9338-99e8f8c91f05\" style=\"height: 525px; width: 100%;\" class=\"plotly-graph-div\"></div><script type=\"text/javascript\">require([\"plotly\"], function(Plotly) { window.PLOTLYENV=window.PLOTLYENV || {};window.PLOTLYENV.BASE_URL=\"https://plot.ly\";Plotly.newPlot(\"89e456ec-34ad-4487-9338-99e8f8c91f05\", [{\"marker\": {\"color\": \"red\", \"symbol\": 104}, \"mode\": \"markers+lines\", \"name\": \"a trace\", \"text\": [\"one\", \"two\", \"three\"], \"x\": [1, 2, 3], \"y\": [4, 5, 6], \"type\": \"scatter\", \"uid\": \"e5797d30-2c18-11e9-96bc-920014f8e201\"}, {\"marker\": {\"color\": \"black\"}, \"name\": \"a trace\", \"text\": [\"FIRST\", \"SECOND\", \"THIRD\"], \"x\": [3, 2, 1], \"y\": [4, 4.5, 5], \"type\": \"scatter\", \"uid\": \"e5797ee8-2c18-11e9-96bc-920014f8e201\"}], {}, {\"showLink\": true, \"linkText\": \"Export to plot.ly\"})});</script>"
      ],
      "text/vnd.plotly.v1+html": [
       "<div id=\"89e456ec-34ad-4487-9338-99e8f8c91f05\" style=\"height: 525px; width: 100%;\" class=\"plotly-graph-div\"></div><script type=\"text/javascript\">require([\"plotly\"], function(Plotly) { window.PLOTLYENV=window.PLOTLYENV || {};window.PLOTLYENV.BASE_URL=\"https://plot.ly\";Plotly.newPlot(\"89e456ec-34ad-4487-9338-99e8f8c91f05\", [{\"marker\": {\"color\": \"red\", \"symbol\": 104}, \"mode\": \"markers+lines\", \"name\": \"a trace\", \"text\": [\"one\", \"two\", \"three\"], \"x\": [1, 2, 3], \"y\": [4, 5, 6], \"type\": \"scatter\", \"uid\": \"e5797d30-2c18-11e9-96bc-920014f8e201\"}, {\"marker\": {\"color\": \"black\"}, \"name\": \"a trace\", \"text\": [\"FIRST\", \"SECOND\", \"THIRD\"], \"x\": [3, 2, 1], \"y\": [4, 4.5, 5], \"type\": \"scatter\", \"uid\": \"e5797ee8-2c18-11e9-96bc-920014f8e201\"}], {}, {\"showLink\": true, \"linkText\": \"Export to plot.ly\"})});</script>"
      ]
     },
     "metadata": {},
     "output_type": "display_data"
    }
   ],
   "source": [
    "import plotly.graph_objs as go\n",
    "plotly.offline.init_notebook_mode(connected=True)\n",
    "\n",
    "plotly.offline.iplot({\"data\": [{'x': [1, 2, 3],\n",
    "                                'y': [4, 5, 6],\n",
    "                                'name': 'a trace',\n",
    "                                \"text\":['one', 'two', 'three'],\n",
    "                                \"mode\": \"markers+lines\",\n",
    "                                \"marker\":{'color':'red', 'symbol': 104}\n",
    "                               },\n",
    "                               {'x': [3, 2, 1],\n",
    "                                'y': [4, 4.5, 5],\n",
    "                                'name': 'a trace',\n",
    "                                \"text\":['FIRST', 'SECOND', 'THIRD'],\n",
    "                                \"marker\":{'color':'black',}\n",
    "                               }\n",
    "                              ],\n",
    "                     })"
   ]
  },
  {
   "cell_type": "code",
   "execution_count": 7,
   "metadata": {},
   "outputs": [
    {
     "data": {
      "text/plain": [
       "plotly.graph_objs._scatter.Scatter"
      ]
     },
     "execution_count": 7,
     "metadata": {},
     "output_type": "execute_result"
    }
   ],
   "source": [
    "t0 = go.Scatter(x=[1,2,3], \n",
    "                y=[4,5,6], \n",
    "                marker={'color':'red', 'size':10}, \n",
    "                text=['one', 'two', 'three'])\n",
    "type(t0)"
   ]
  },
  {
   "cell_type": "code",
   "execution_count": 8,
   "metadata": {},
   "outputs": [
    {
     "data": {
      "application/vnd.plotly.v1+json": {
       "data": [
        {
         "marker": {
          "color": "red",
          "size": 10
         },
         "text": [
          "one",
          "two",
          "three"
         ],
         "type": "scatter",
         "uid": "d681054a-2c19-11e9-96bc-920014f8e201",
         "x": [
          1,
          2,
          3
         ],
         "y": [
          4,
          5,
          6
         ]
        }
       ],
       "layout": {}
      },
      "text/html": [
       "<div id=\"a71bdcf2-1df1-41fe-883f-95fd60802273\" style=\"height: 525px; width: 100%;\" class=\"plotly-graph-div\"></div><script type=\"text/javascript\">require([\"plotly\"], function(Plotly) { window.PLOTLYENV=window.PLOTLYENV || {};window.PLOTLYENV.BASE_URL=\"https://plot.ly\";Plotly.newPlot(\"a71bdcf2-1df1-41fe-883f-95fd60802273\", [{\"marker\": {\"color\": \"red\", \"size\": 10}, \"text\": [\"one\", \"two\", \"three\"], \"x\": [1, 2, 3], \"y\": [4, 5, 6], \"type\": \"scatter\", \"uid\": \"d68425c2-2c19-11e9-96bc-920014f8e201\"}], {}, {\"showLink\": true, \"linkText\": \"Export to plot.ly\"})});</script>"
      ],
      "text/vnd.plotly.v1+html": [
       "<div id=\"a71bdcf2-1df1-41fe-883f-95fd60802273\" style=\"height: 525px; width: 100%;\" class=\"plotly-graph-div\"></div><script type=\"text/javascript\">require([\"plotly\"], function(Plotly) { window.PLOTLYENV=window.PLOTLYENV || {};window.PLOTLYENV.BASE_URL=\"https://plot.ly\";Plotly.newPlot(\"a71bdcf2-1df1-41fe-883f-95fd60802273\", [{\"marker\": {\"color\": \"red\", \"size\": 10}, \"text\": [\"one\", \"two\", \"three\"], \"x\": [1, 2, 3], \"y\": [4, 5, 6], \"type\": \"scatter\", \"uid\": \"d68425c2-2c19-11e9-96bc-920014f8e201\"}], {}, {\"showLink\": true, \"linkText\": \"Export to plot.ly\"})});</script>"
      ]
     },
     "metadata": {},
     "output_type": "display_data"
    }
   ],
   "source": [
    "plotly.offline.iplot([t0])    # ②"
   ]
  },
  {
   "cell_type": "code",
   "execution_count": 9,
   "metadata": {},
   "outputs": [
    {
     "name": "stderr",
     "output_type": "stream",
     "text": [
      "/Library/Frameworks/Python.framework/Versions/3.7/lib/python3.7/site-packages/plotly/graph_objs/_deprecations.py:39: DeprecationWarning:\n",
      "\n",
      "plotly.graph_objs.Data is deprecated.\n",
      "Please replace it with a list or tuple of instances of the following types\n",
      "  - plotly.graph_objs.Scatter\n",
      "  - plotly.graph_objs.Bar\n",
      "  - plotly.graph_objs.Area\n",
      "  - plotly.graph_objs.Histogram\n",
      "  - etc.\n",
      "\n",
      "\n"
     ]
    },
    {
     "data": {
      "text/plain": [
       "plotly.graph_objs._deprecations.Data"
      ]
     },
     "execution_count": 9,
     "metadata": {},
     "output_type": "execute_result"
    }
   ],
   "source": [
    "t1 = go.Scatter(x=[3, 2, 1],\n",
    "                y=[4, 4.5, 5],\n",
    "                name='black trace',\n",
    "                text=['FIRST', 'SECOND', 'THIRD'],\n",
    "                marker={'color':'black'})\n",
    "data = go.Data([t0, t1])\n",
    "type(data)\n",
    "\n"
   ]
  },
  {
   "cell_type": "code",
   "execution_count": 10,
   "metadata": {},
   "outputs": [
    {
     "data": {
      "application/vnd.plotly.v1+json": {
       "data": [
        {
         "marker": {
          "color": "red",
          "size": 10
         },
         "text": [
          "one",
          "two",
          "three"
         ],
         "type": "scatter",
         "uid": "5674b1c0-2c1a-11e9-96bc-920014f8e201",
         "x": [
          1,
          2,
          3
         ],
         "y": [
          4,
          5,
          6
         ]
        },
        {
         "marker": {
          "color": "black"
         },
         "name": "black trace",
         "text": [
          "FIRST",
          "SECOND",
          "THIRD"
         ],
         "type": "scatter",
         "uid": "5674b3fa-2c1a-11e9-96bc-920014f8e201",
         "x": [
          3,
          2,
          1
         ],
         "y": [
          4,
          4.5,
          5
         ]
        }
       ],
       "layout": {}
      },
      "text/html": [
       "<div id=\"21b12eb0-7226-4b10-b283-9c7bb4a71393\" style=\"height: 525px; width: 100%;\" class=\"plotly-graph-div\"></div><script type=\"text/javascript\">require([\"plotly\"], function(Plotly) { window.PLOTLYENV=window.PLOTLYENV || {};window.PLOTLYENV.BASE_URL=\"https://plot.ly\";Plotly.newPlot(\"21b12eb0-7226-4b10-b283-9c7bb4a71393\", [{\"marker\": {\"color\": \"red\", \"size\": 10}, \"text\": [\"one\", \"two\", \"three\"], \"x\": [1, 2, 3], \"y\": [4, 5, 6], \"type\": \"scatter\", \"uid\": \"56781ebe-2c1a-11e9-96bc-920014f8e201\"}, {\"marker\": {\"color\": \"black\"}, \"name\": \"black trace\", \"text\": [\"FIRST\", \"SECOND\", \"THIRD\"], \"x\": [3, 2, 1], \"y\": [4, 4.5, 5], \"type\": \"scatter\", \"uid\": \"5678209e-2c1a-11e9-96bc-920014f8e201\"}], {}, {\"showLink\": true, \"linkText\": \"Export to plot.ly\"})});</script>"
      ],
      "text/vnd.plotly.v1+html": [
       "<div id=\"21b12eb0-7226-4b10-b283-9c7bb4a71393\" style=\"height: 525px; width: 100%;\" class=\"plotly-graph-div\"></div><script type=\"text/javascript\">require([\"plotly\"], function(Plotly) { window.PLOTLYENV=window.PLOTLYENV || {};window.PLOTLYENV.BASE_URL=\"https://plot.ly\";Plotly.newPlot(\"21b12eb0-7226-4b10-b283-9c7bb4a71393\", [{\"marker\": {\"color\": \"red\", \"size\": 10}, \"text\": [\"one\", \"two\", \"three\"], \"x\": [1, 2, 3], \"y\": [4, 5, 6], \"type\": \"scatter\", \"uid\": \"56781ebe-2c1a-11e9-96bc-920014f8e201\"}, {\"marker\": {\"color\": \"black\"}, \"name\": \"black trace\", \"text\": [\"FIRST\", \"SECOND\", \"THIRD\"], \"x\": [3, 2, 1], \"y\": [4, 4.5, 5], \"type\": \"scatter\", \"uid\": \"5678209e-2c1a-11e9-96bc-920014f8e201\"}], {}, {\"showLink\": true, \"linkText\": \"Export to plot.ly\"})});</script>"
      ]
     },
     "metadata": {},
     "output_type": "display_data"
    }
   ],
   "source": [
    "plotly.offline.iplot({\"data\":data})"
   ]
  },
  {
   "cell_type": "code",
   "execution_count": 11,
   "metadata": {},
   "outputs": [
    {
     "data": {
      "text/plain": [
       "plotly.graph_objs._layout.Layout"
      ]
     },
     "execution_count": 11,
     "metadata": {},
     "output_type": "execute_result"
    }
   ],
   "source": [
    "layout=go.Layout(title=\"First Plot\", xaxis={'title':'x1'}, yaxis={'title':'x2'})\n",
    "type(layout)"
   ]
  },
  {
   "cell_type": "code",
   "execution_count": 12,
   "metadata": {},
   "outputs": [
    {
     "data": {
      "application/vnd.plotly.v1+json": {
       "data": [
        {
         "marker": {
          "color": "red",
          "size": 10
         },
         "text": [
          "one",
          "two",
          "three"
         ],
         "type": "scatter",
         "uid": "9c4e5ef8-2c1a-11e9-96bc-920014f8e201",
         "x": [
          1,
          2,
          3
         ],
         "y": [
          4,
          5,
          6
         ]
        },
        {
         "marker": {
          "color": "black"
         },
         "name": "black trace",
         "text": [
          "FIRST",
          "SECOND",
          "THIRD"
         ],
         "type": "scatter",
         "uid": "9c4e609c-2c1a-11e9-96bc-920014f8e201",
         "x": [
          3,
          2,
          1
         ],
         "y": [
          4,
          4.5,
          5
         ]
        }
       ],
       "layout": {
        "title": "First Plot",
        "xaxis": {
         "title": "x1"
        },
        "yaxis": {
         "title": "x2"
        }
       }
      },
      "text/html": [
       "<div id=\"9b82af92-b5bf-4042-9350-38447c9ba826\" style=\"height: 525px; width: 100%;\" class=\"plotly-graph-div\"></div><script type=\"text/javascript\">require([\"plotly\"], function(Plotly) { window.PLOTLYENV=window.PLOTLYENV || {};window.PLOTLYENV.BASE_URL=\"https://plot.ly\";Plotly.newPlot(\"9b82af92-b5bf-4042-9350-38447c9ba826\", [{\"marker\": {\"color\": \"red\", \"size\": 10}, \"text\": [\"one\", \"two\", \"three\"], \"x\": [1, 2, 3], \"y\": [4, 5, 6], \"type\": \"scatter\", \"uid\": \"9c523d20-2c1a-11e9-96bc-920014f8e201\"}, {\"marker\": {\"color\": \"black\"}, \"name\": \"black trace\", \"text\": [\"FIRST\", \"SECOND\", \"THIRD\"], \"x\": [3, 2, 1], \"y\": [4, 4.5, 5], \"type\": \"scatter\", \"uid\": \"9c523ec4-2c1a-11e9-96bc-920014f8e201\"}], {\"title\": \"First Plot\", \"xaxis\": {\"title\": \"x1\"}, \"yaxis\": {\"title\": \"x2\"}}, {\"showLink\": true, \"linkText\": \"Export to plot.ly\"})});</script>"
      ],
      "text/vnd.plotly.v1+html": [
       "<div id=\"9b82af92-b5bf-4042-9350-38447c9ba826\" style=\"height: 525px; width: 100%;\" class=\"plotly-graph-div\"></div><script type=\"text/javascript\">require([\"plotly\"], function(Plotly) { window.PLOTLYENV=window.PLOTLYENV || {};window.PLOTLYENV.BASE_URL=\"https://plot.ly\";Plotly.newPlot(\"9b82af92-b5bf-4042-9350-38447c9ba826\", [{\"marker\": {\"color\": \"red\", \"size\": 10}, \"text\": [\"one\", \"two\", \"three\"], \"x\": [1, 2, 3], \"y\": [4, 5, 6], \"type\": \"scatter\", \"uid\": \"9c523d20-2c1a-11e9-96bc-920014f8e201\"}, {\"marker\": {\"color\": \"black\"}, \"name\": \"black trace\", \"text\": [\"FIRST\", \"SECOND\", \"THIRD\"], \"x\": [3, 2, 1], \"y\": [4, 4.5, 5], \"type\": \"scatter\", \"uid\": \"9c523ec4-2c1a-11e9-96bc-920014f8e201\"}], {\"title\": \"First Plot\", \"xaxis\": {\"title\": \"x1\"}, \"yaxis\": {\"title\": \"x2\"}}, {\"showLink\": true, \"linkText\": \"Export to plot.ly\"})});</script>"
      ]
     },
     "metadata": {},
     "output_type": "display_data"
    }
   ],
   "source": [
    "plotly.offline.iplot({\"data\":data, 'layout':layout})"
   ]
  },
  {
   "cell_type": "code",
   "execution_count": 13,
   "metadata": {},
   "outputs": [
    {
     "name": "stderr",
     "output_type": "stream",
     "text": [
      "/Library/Frameworks/Python.framework/Versions/3.7/lib/python3.7/site-packages/plotly/graph_objs/_deprecations.py:144: DeprecationWarning:\n",
      "\n",
      "plotly.graph_objs.Annotation is deprecated.\n",
      "Please replace it with one of the following more specific types\n",
      "  - plotly.graph_objs.layout.Annotation\n",
      "  - plotly.graph_objs.layout.scene.Annotation\n",
      "\n",
      "\n"
     ]
    },
    {
     "data": {
      "application/vnd.plotly.v1+json": {
       "data": [
        {
         "marker": {
          "color": "red",
          "size": 10
         },
         "text": [
          "one",
          "two",
          "three"
         ],
         "type": "scatter",
         "uid": "b08b6438-2c1a-11e9-96bc-920014f8e201",
         "x": [
          1,
          2,
          3
         ],
         "y": [
          4,
          5,
          6
         ]
        },
        {
         "marker": {
          "color": "black"
         },
         "name": "black trace",
         "text": [
          "FIRST",
          "SECOND",
          "THIRD"
         ],
         "type": "scatter",
         "uid": "b08b66c2-2c1a-11e9-96bc-920014f8e201",
         "x": [
          3,
          2,
          1
         ],
         "y": [
          4,
          4.5,
          5
         ]
        }
       ],
       "layout": {
        "annotations": [
         {
          "text": "Center Point",
          "x": 2,
          "y": 5
         }
        ],
        "title": "First Plot",
        "xaxis": {
         "title": "x1"
        },
        "yaxis": {
         "title": "x2"
        }
       }
      },
      "text/html": [
       "<div id=\"9b65ce44-0bc3-4a0b-945f-9b747476bd89\" style=\"height: 525px; width: 100%;\" class=\"plotly-graph-div\"></div><script type=\"text/javascript\">require([\"plotly\"], function(Plotly) { window.PLOTLYENV=window.PLOTLYENV || {};window.PLOTLYENV.BASE_URL=\"https://plot.ly\";Plotly.newPlot(\"9b65ce44-0bc3-4a0b-945f-9b747476bd89\", [{\"marker\": {\"color\": \"red\", \"size\": 10}, \"text\": [\"one\", \"two\", \"three\"], \"x\": [1, 2, 3], \"y\": [4, 5, 6], \"type\": \"scatter\", \"uid\": \"b08f0822-2c1a-11e9-96bc-920014f8e201\"}, {\"marker\": {\"color\": \"black\"}, \"name\": \"black trace\", \"text\": [\"FIRST\", \"SECOND\", \"THIRD\"], \"x\": [3, 2, 1], \"y\": [4, 4.5, 5], \"type\": \"scatter\", \"uid\": \"b08f0b10-2c1a-11e9-96bc-920014f8e201\"}], {\"annotations\": [{\"text\": \"Center Point\", \"x\": 2, \"y\": 5}], \"title\": \"First Plot\", \"xaxis\": {\"title\": \"x1\"}, \"yaxis\": {\"title\": \"x2\"}}, {\"showLink\": true, \"linkText\": \"Export to plot.ly\"})});</script>"
      ],
      "text/vnd.plotly.v1+html": [
       "<div id=\"9b65ce44-0bc3-4a0b-945f-9b747476bd89\" style=\"height: 525px; width: 100%;\" class=\"plotly-graph-div\"></div><script type=\"text/javascript\">require([\"plotly\"], function(Plotly) { window.PLOTLYENV=window.PLOTLYENV || {};window.PLOTLYENV.BASE_URL=\"https://plot.ly\";Plotly.newPlot(\"9b65ce44-0bc3-4a0b-945f-9b747476bd89\", [{\"marker\": {\"color\": \"red\", \"size\": 10}, \"text\": [\"one\", \"two\", \"three\"], \"x\": [1, 2, 3], \"y\": [4, 5, 6], \"type\": \"scatter\", \"uid\": \"b08f0822-2c1a-11e9-96bc-920014f8e201\"}, {\"marker\": {\"color\": \"black\"}, \"name\": \"black trace\", \"text\": [\"FIRST\", \"SECOND\", \"THIRD\"], \"x\": [3, 2, 1], \"y\": [4, 4.5, 5], \"type\": \"scatter\", \"uid\": \"b08f0b10-2c1a-11e9-96bc-920014f8e201\"}], {\"annotations\": [{\"text\": \"Center Point\", \"x\": 2, \"y\": 5}], \"title\": \"First Plot\", \"xaxis\": {\"title\": \"x1\"}, \"yaxis\": {\"title\": \"x2\"}}, {\"showLink\": true, \"linkText\": \"Export to plot.ly\"})});</script>"
      ]
     },
     "metadata": {},
     "output_type": "display_data"
    }
   ],
   "source": [
    "layout.update(dict(annotations=[go.Annotation(text='Center Point',x=2,y=5)]))    # ④\n",
    "plotly.offline.iplot({\"data\":data, 'layout':layout})"
   ]
  },
  {
   "cell_type": "code",
   "execution_count": 14,
   "metadata": {},
   "outputs": [
    {
     "data": {
      "text/plain": [
       "plotly.graph_objs._figure.Figure"
      ]
     },
     "execution_count": 14,
     "metadata": {},
     "output_type": "execute_result"
    }
   ],
   "source": [
    "figure = go.Figure(data=data, layout=layout)\n",
    "type(figure)"
   ]
  },
  {
   "cell_type": "code",
   "execution_count": 15,
   "metadata": {},
   "outputs": [
    {
     "data": {
      "application/vnd.plotly.v1+json": {
       "data": [
        {
         "marker": {
          "color": "red",
          "size": 10
         },
         "text": [
          "one",
          "two",
          "three"
         ],
         "type": "scatter",
         "uid": "cf18f6a4-2c1a-11e9-96bc-920014f8e201",
         "x": [
          1,
          2,
          3
         ],
         "y": [
          4,
          5,
          6
         ]
        },
        {
         "marker": {
          "color": "black"
         },
         "name": "black trace",
         "text": [
          "FIRST",
          "SECOND",
          "THIRD"
         ],
         "type": "scatter",
         "uid": "cf18f884-2c1a-11e9-96bc-920014f8e201",
         "x": [
          3,
          2,
          1
         ],
         "y": [
          4,
          4.5,
          5
         ]
        }
       ],
       "layout": {
        "annotations": [
         {
          "text": "Center Point",
          "x": 2,
          "y": 5
         }
        ],
        "title": "First Plot",
        "xaxis": {
         "title": "x1"
        },
        "yaxis": {
         "title": "x2"
        }
       }
      },
      "text/html": [
       "<div id=\"608bc94e-74cc-42de-bc8f-95b70d0faca5\" style=\"height: 525px; width: 100%;\" class=\"plotly-graph-div\"></div><script type=\"text/javascript\">require([\"plotly\"], function(Plotly) { window.PLOTLYENV=window.PLOTLYENV || {};window.PLOTLYENV.BASE_URL=\"https://plot.ly\";Plotly.newPlot(\"608bc94e-74cc-42de-bc8f-95b70d0faca5\", [{\"marker\": {\"color\": \"red\", \"size\": 10}, \"text\": [\"one\", \"two\", \"three\"], \"x\": [1, 2, 3], \"y\": [4, 5, 6], \"type\": \"scatter\", \"uid\": \"cf18f6a4-2c1a-11e9-96bc-920014f8e201\"}, {\"marker\": {\"color\": \"black\"}, \"name\": \"black trace\", \"text\": [\"FIRST\", \"SECOND\", \"THIRD\"], \"x\": [3, 2, 1], \"y\": [4, 4.5, 5], \"type\": \"scatter\", \"uid\": \"cf18f884-2c1a-11e9-96bc-920014f8e201\"}], {\"annotations\": [{\"text\": \"Center Point\", \"x\": 2, \"y\": 5}], \"title\": \"First Plot\", \"xaxis\": {\"title\": \"x1\"}, \"yaxis\": {\"title\": \"x2\"}}, {\"showLink\": true, \"linkText\": \"Export to plot.ly\"})});</script>"
      ],
      "text/vnd.plotly.v1+html": [
       "<div id=\"608bc94e-74cc-42de-bc8f-95b70d0faca5\" style=\"height: 525px; width: 100%;\" class=\"plotly-graph-div\"></div><script type=\"text/javascript\">require([\"plotly\"], function(Plotly) { window.PLOTLYENV=window.PLOTLYENV || {};window.PLOTLYENV.BASE_URL=\"https://plot.ly\";Plotly.newPlot(\"608bc94e-74cc-42de-bc8f-95b70d0faca5\", [{\"marker\": {\"color\": \"red\", \"size\": 10}, \"text\": [\"one\", \"two\", \"three\"], \"x\": [1, 2, 3], \"y\": [4, 5, 6], \"type\": \"scatter\", \"uid\": \"cf18f6a4-2c1a-11e9-96bc-920014f8e201\"}, {\"marker\": {\"color\": \"black\"}, \"name\": \"black trace\", \"text\": [\"FIRST\", \"SECOND\", \"THIRD\"], \"x\": [3, 2, 1], \"y\": [4, 4.5, 5], \"type\": \"scatter\", \"uid\": \"cf18f884-2c1a-11e9-96bc-920014f8e201\"}], {\"annotations\": [{\"text\": \"Center Point\", \"x\": 2, \"y\": 5}], \"title\": \"First Plot\", \"xaxis\": {\"title\": \"x1\"}, \"yaxis\": {\"title\": \"x2\"}}, {\"showLink\": true, \"linkText\": \"Export to plot.ly\"})});</script>"
      ]
     },
     "metadata": {},
     "output_type": "display_data"
    }
   ],
   "source": [
    "plotly.offline.iplot(figure)"
   ]
  },
  {
   "cell_type": "code",
   "execution_count": null,
   "metadata": {},
   "outputs": [],
   "source": []
  }
 ],
 "metadata": {
  "kernelspec": {
   "display_name": "Python 3",
   "language": "python",
   "name": "python3"
  },
  "language_info": {
   "codemirror_mode": {
    "name": "ipython",
    "version": 3
   },
   "file_extension": ".py",
   "mimetype": "text/x-python",
   "name": "python",
   "nbconvert_exporter": "python",
   "pygments_lexer": "ipython3",
   "version": "3.7.1"
  }
 },
 "nbformat": 4,
 "nbformat_minor": 2
}
