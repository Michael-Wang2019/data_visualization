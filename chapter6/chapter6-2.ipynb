{
 "cells": [
  {
   "cell_type": "code",
   "execution_count": 1,
   "metadata": {},
   "outputs": [
    {
     "data": {
      "text/html": [
       "\n",
       "    <div class=\"bk-root\">\n",
       "        <a href=\"https://bokeh.pydata.org\" target=\"_blank\" class=\"bk-logo bk-logo-small bk-logo-notebook\"></a>\n",
       "        <span id=\"1001\">Loading BokehJS ...</span>\n",
       "    </div>"
      ]
     },
     "metadata": {},
     "output_type": "display_data"
    },
    {
     "data": {
      "application/javascript": [
       "\n",
       "(function(root) {\n",
       "  function now() {\n",
       "    return new Date();\n",
       "  }\n",
       "\n",
       "  var force = true;\n",
       "\n",
       "  if (typeof (root._bokeh_onload_callbacks) === \"undefined\" || force === true) {\n",
       "    root._bokeh_onload_callbacks = [];\n",
       "    root._bokeh_is_loading = undefined;\n",
       "  }\n",
       "\n",
       "  var JS_MIME_TYPE = 'application/javascript';\n",
       "  var HTML_MIME_TYPE = 'text/html';\n",
       "  var EXEC_MIME_TYPE = 'application/vnd.bokehjs_exec.v0+json';\n",
       "  var CLASS_NAME = 'output_bokeh rendered_html';\n",
       "\n",
       "  /**\n",
       "   * Render data to the DOM node\n",
       "   */\n",
       "  function render(props, node) {\n",
       "    var script = document.createElement(\"script\");\n",
       "    node.appendChild(script);\n",
       "  }\n",
       "\n",
       "  /**\n",
       "   * Handle when an output is cleared or removed\n",
       "   */\n",
       "  function handleClearOutput(event, handle) {\n",
       "    var cell = handle.cell;\n",
       "\n",
       "    var id = cell.output_area._bokeh_element_id;\n",
       "    var server_id = cell.output_area._bokeh_server_id;\n",
       "    // Clean up Bokeh references\n",
       "    if (id != null && id in Bokeh.index) {\n",
       "      Bokeh.index[id].model.document.clear();\n",
       "      delete Bokeh.index[id];\n",
       "    }\n",
       "\n",
       "    if (server_id !== undefined) {\n",
       "      // Clean up Bokeh references\n",
       "      var cmd = \"from bokeh.io.state import curstate; print(curstate().uuid_to_server['\" + server_id + \"'].get_sessions()[0].document.roots[0]._id)\";\n",
       "      cell.notebook.kernel.execute(cmd, {\n",
       "        iopub: {\n",
       "          output: function(msg) {\n",
       "            var id = msg.content.text.trim();\n",
       "            if (id in Bokeh.index) {\n",
       "              Bokeh.index[id].model.document.clear();\n",
       "              delete Bokeh.index[id];\n",
       "            }\n",
       "          }\n",
       "        }\n",
       "      });\n",
       "      // Destroy server and session\n",
       "      var cmd = \"import bokeh.io.notebook as ion; ion.destroy_server('\" + server_id + \"')\";\n",
       "      cell.notebook.kernel.execute(cmd);\n",
       "    }\n",
       "  }\n",
       "\n",
       "  /**\n",
       "   * Handle when a new output is added\n",
       "   */\n",
       "  function handleAddOutput(event, handle) {\n",
       "    var output_area = handle.output_area;\n",
       "    var output = handle.output;\n",
       "\n",
       "    // limit handleAddOutput to display_data with EXEC_MIME_TYPE content only\n",
       "    if ((output.output_type != \"display_data\") || (!output.data.hasOwnProperty(EXEC_MIME_TYPE))) {\n",
       "      return\n",
       "    }\n",
       "\n",
       "    var toinsert = output_area.element.find(\".\" + CLASS_NAME.split(' ')[0]);\n",
       "\n",
       "    if (output.metadata[EXEC_MIME_TYPE][\"id\"] !== undefined) {\n",
       "      toinsert[toinsert.length - 1].firstChild.textContent = output.data[JS_MIME_TYPE];\n",
       "      // store reference to embed id on output_area\n",
       "      output_area._bokeh_element_id = output.metadata[EXEC_MIME_TYPE][\"id\"];\n",
       "    }\n",
       "    if (output.metadata[EXEC_MIME_TYPE][\"server_id\"] !== undefined) {\n",
       "      var bk_div = document.createElement(\"div\");\n",
       "      bk_div.innerHTML = output.data[HTML_MIME_TYPE];\n",
       "      var script_attrs = bk_div.children[0].attributes;\n",
       "      for (var i = 0; i < script_attrs.length; i++) {\n",
       "        toinsert[toinsert.length - 1].firstChild.setAttribute(script_attrs[i].name, script_attrs[i].value);\n",
       "      }\n",
       "      // store reference to server id on output_area\n",
       "      output_area._bokeh_server_id = output.metadata[EXEC_MIME_TYPE][\"server_id\"];\n",
       "    }\n",
       "  }\n",
       "\n",
       "  function register_renderer(events, OutputArea) {\n",
       "\n",
       "    function append_mime(data, metadata, element) {\n",
       "      // create a DOM node to render to\n",
       "      var toinsert = this.create_output_subarea(\n",
       "        metadata,\n",
       "        CLASS_NAME,\n",
       "        EXEC_MIME_TYPE\n",
       "      );\n",
       "      this.keyboard_manager.register_events(toinsert);\n",
       "      // Render to node\n",
       "      var props = {data: data, metadata: metadata[EXEC_MIME_TYPE]};\n",
       "      render(props, toinsert[toinsert.length - 1]);\n",
       "      element.append(toinsert);\n",
       "      return toinsert\n",
       "    }\n",
       "\n",
       "    /* Handle when an output is cleared or removed */\n",
       "    events.on('clear_output.CodeCell', handleClearOutput);\n",
       "    events.on('delete.Cell', handleClearOutput);\n",
       "\n",
       "    /* Handle when a new output is added */\n",
       "    events.on('output_added.OutputArea', handleAddOutput);\n",
       "\n",
       "    /**\n",
       "     * Register the mime type and append_mime function with output_area\n",
       "     */\n",
       "    OutputArea.prototype.register_mime_type(EXEC_MIME_TYPE, append_mime, {\n",
       "      /* Is output safe? */\n",
       "      safe: true,\n",
       "      /* Index of renderer in `output_area.display_order` */\n",
       "      index: 0\n",
       "    });\n",
       "  }\n",
       "\n",
       "  // register the mime type if in Jupyter Notebook environment and previously unregistered\n",
       "  if (root.Jupyter !== undefined) {\n",
       "    var events = require('base/js/events');\n",
       "    var OutputArea = require('notebook/js/outputarea').OutputArea;\n",
       "\n",
       "    if (OutputArea.prototype.mime_types().indexOf(EXEC_MIME_TYPE) == -1) {\n",
       "      register_renderer(events, OutputArea);\n",
       "    }\n",
       "  }\n",
       "\n",
       "  \n",
       "  if (typeof (root._bokeh_timeout) === \"undefined\" || force === true) {\n",
       "    root._bokeh_timeout = Date.now() + 5000;\n",
       "    root._bokeh_failed_load = false;\n",
       "  }\n",
       "\n",
       "  var NB_LOAD_WARNING = {'data': {'text/html':\n",
       "     \"<div style='background-color: #fdd'>\\n\"+\n",
       "     \"<p>\\n\"+\n",
       "     \"BokehJS does not appear to have successfully loaded. If loading BokehJS from CDN, this \\n\"+\n",
       "     \"may be due to a slow or bad network connection. Possible fixes:\\n\"+\n",
       "     \"</p>\\n\"+\n",
       "     \"<ul>\\n\"+\n",
       "     \"<li>re-rerun `output_notebook()` to attempt to load from CDN again, or</li>\\n\"+\n",
       "     \"<li>use INLINE resources instead, as so:</li>\\n\"+\n",
       "     \"</ul>\\n\"+\n",
       "     \"<code>\\n\"+\n",
       "     \"from bokeh.resources import INLINE\\n\"+\n",
       "     \"output_notebook(resources=INLINE)\\n\"+\n",
       "     \"</code>\\n\"+\n",
       "     \"</div>\"}};\n",
       "\n",
       "  function display_loaded() {\n",
       "    var el = document.getElementById(\"1001\");\n",
       "    if (el != null) {\n",
       "      el.textContent = \"BokehJS is loading...\";\n",
       "    }\n",
       "    if (root.Bokeh !== undefined) {\n",
       "      if (el != null) {\n",
       "        el.textContent = \"BokehJS \" + root.Bokeh.version + \" successfully loaded.\";\n",
       "      }\n",
       "    } else if (Date.now() < root._bokeh_timeout) {\n",
       "      setTimeout(display_loaded, 100)\n",
       "    }\n",
       "  }\n",
       "\n",
       "\n",
       "  function run_callbacks() {\n",
       "    try {\n",
       "      root._bokeh_onload_callbacks.forEach(function(callback) { callback() });\n",
       "    }\n",
       "    finally {\n",
       "      delete root._bokeh_onload_callbacks\n",
       "    }\n",
       "    console.info(\"Bokeh: all callbacks have finished\");\n",
       "  }\n",
       "\n",
       "  function load_libs(js_urls, callback) {\n",
       "    root._bokeh_onload_callbacks.push(callback);\n",
       "    if (root._bokeh_is_loading > 0) {\n",
       "      console.log(\"Bokeh: BokehJS is being loaded, scheduling callback at\", now());\n",
       "      return null;\n",
       "    }\n",
       "    if (js_urls == null || js_urls.length === 0) {\n",
       "      run_callbacks();\n",
       "      return null;\n",
       "    }\n",
       "    console.log(\"Bokeh: BokehJS not loaded, scheduling load and callback at\", now());\n",
       "    root._bokeh_is_loading = js_urls.length;\n",
       "    for (var i = 0; i < js_urls.length; i++) {\n",
       "      var url = js_urls[i];\n",
       "      var s = document.createElement('script');\n",
       "      s.src = url;\n",
       "      s.async = false;\n",
       "      s.onreadystatechange = s.onload = function() {\n",
       "        root._bokeh_is_loading--;\n",
       "        if (root._bokeh_is_loading === 0) {\n",
       "          console.log(\"Bokeh: all BokehJS libraries loaded\");\n",
       "          run_callbacks()\n",
       "        }\n",
       "      };\n",
       "      s.onerror = function() {\n",
       "        console.warn(\"failed to load library \" + url);\n",
       "      };\n",
       "      console.log(\"Bokeh: injecting script tag for BokehJS library: \", url);\n",
       "      document.getElementsByTagName(\"head\")[0].appendChild(s);\n",
       "    }\n",
       "  };var element = document.getElementById(\"1001\");\n",
       "  if (element == null) {\n",
       "    console.log(\"Bokeh: ERROR: autoload.js configured with elementid '1001' but no matching script tag was found. \")\n",
       "    return false;\n",
       "  }\n",
       "\n",
       "  var js_urls = [\"https://cdn.pydata.org/bokeh/release/bokeh-1.0.4.min.js\", \"https://cdn.pydata.org/bokeh/release/bokeh-widgets-1.0.4.min.js\", \"https://cdn.pydata.org/bokeh/release/bokeh-tables-1.0.4.min.js\", \"https://cdn.pydata.org/bokeh/release/bokeh-gl-1.0.4.min.js\"];\n",
       "\n",
       "  var inline_js = [\n",
       "    function(Bokeh) {\n",
       "      Bokeh.set_log_level(\"info\");\n",
       "    },\n",
       "    \n",
       "    function(Bokeh) {\n",
       "      \n",
       "    },\n",
       "    function(Bokeh) {\n",
       "      console.log(\"Bokeh: injecting CSS: https://cdn.pydata.org/bokeh/release/bokeh-1.0.4.min.css\");\n",
       "      Bokeh.embed.inject_css(\"https://cdn.pydata.org/bokeh/release/bokeh-1.0.4.min.css\");\n",
       "      console.log(\"Bokeh: injecting CSS: https://cdn.pydata.org/bokeh/release/bokeh-widgets-1.0.4.min.css\");\n",
       "      Bokeh.embed.inject_css(\"https://cdn.pydata.org/bokeh/release/bokeh-widgets-1.0.4.min.css\");\n",
       "      console.log(\"Bokeh: injecting CSS: https://cdn.pydata.org/bokeh/release/bokeh-tables-1.0.4.min.css\");\n",
       "      Bokeh.embed.inject_css(\"https://cdn.pydata.org/bokeh/release/bokeh-tables-1.0.4.min.css\");\n",
       "    }\n",
       "  ];\n",
       "\n",
       "  function run_inline_js() {\n",
       "    \n",
       "    if ((root.Bokeh !== undefined) || (force === true)) {\n",
       "      for (var i = 0; i < inline_js.length; i++) {\n",
       "        inline_js[i].call(root, root.Bokeh);\n",
       "      }if (force === true) {\n",
       "        display_loaded();\n",
       "      }} else if (Date.now() < root._bokeh_timeout) {\n",
       "      setTimeout(run_inline_js, 100);\n",
       "    } else if (!root._bokeh_failed_load) {\n",
       "      console.log(\"Bokeh: BokehJS failed to load within specified timeout.\");\n",
       "      root._bokeh_failed_load = true;\n",
       "    } else if (force !== true) {\n",
       "      var cell = $(document.getElementById(\"1001\")).parents('.cell').data().cell;\n",
       "      cell.output_area.append_execute_result(NB_LOAD_WARNING)\n",
       "    }\n",
       "\n",
       "  }\n",
       "\n",
       "  if (root._bokeh_is_loading === 0) {\n",
       "    console.log(\"Bokeh: BokehJS loaded, going straight to plotting\");\n",
       "    run_inline_js();\n",
       "  } else {\n",
       "    load_libs(js_urls, function() {\n",
       "      console.log(\"Bokeh: BokehJS plotting callback run at\", now());\n",
       "      run_inline_js();\n",
       "    });\n",
       "  }\n",
       "}(window));"
      ],
      "application/vnd.bokehjs_load.v0+json": "\n(function(root) {\n  function now() {\n    return new Date();\n  }\n\n  var force = true;\n\n  if (typeof (root._bokeh_onload_callbacks) === \"undefined\" || force === true) {\n    root._bokeh_onload_callbacks = [];\n    root._bokeh_is_loading = undefined;\n  }\n\n  \n\n  \n  if (typeof (root._bokeh_timeout) === \"undefined\" || force === true) {\n    root._bokeh_timeout = Date.now() + 5000;\n    root._bokeh_failed_load = false;\n  }\n\n  var NB_LOAD_WARNING = {'data': {'text/html':\n     \"<div style='background-color: #fdd'>\\n\"+\n     \"<p>\\n\"+\n     \"BokehJS does not appear to have successfully loaded. If loading BokehJS from CDN, this \\n\"+\n     \"may be due to a slow or bad network connection. Possible fixes:\\n\"+\n     \"</p>\\n\"+\n     \"<ul>\\n\"+\n     \"<li>re-rerun `output_notebook()` to attempt to load from CDN again, or</li>\\n\"+\n     \"<li>use INLINE resources instead, as so:</li>\\n\"+\n     \"</ul>\\n\"+\n     \"<code>\\n\"+\n     \"from bokeh.resources import INLINE\\n\"+\n     \"output_notebook(resources=INLINE)\\n\"+\n     \"</code>\\n\"+\n     \"</div>\"}};\n\n  function display_loaded() {\n    var el = document.getElementById(\"1001\");\n    if (el != null) {\n      el.textContent = \"BokehJS is loading...\";\n    }\n    if (root.Bokeh !== undefined) {\n      if (el != null) {\n        el.textContent = \"BokehJS \" + root.Bokeh.version + \" successfully loaded.\";\n      }\n    } else if (Date.now() < root._bokeh_timeout) {\n      setTimeout(display_loaded, 100)\n    }\n  }\n\n\n  function run_callbacks() {\n    try {\n      root._bokeh_onload_callbacks.forEach(function(callback) { callback() });\n    }\n    finally {\n      delete root._bokeh_onload_callbacks\n    }\n    console.info(\"Bokeh: all callbacks have finished\");\n  }\n\n  function load_libs(js_urls, callback) {\n    root._bokeh_onload_callbacks.push(callback);\n    if (root._bokeh_is_loading > 0) {\n      console.log(\"Bokeh: BokehJS is being loaded, scheduling callback at\", now());\n      return null;\n    }\n    if (js_urls == null || js_urls.length === 0) {\n      run_callbacks();\n      return null;\n    }\n    console.log(\"Bokeh: BokehJS not loaded, scheduling load and callback at\", now());\n    root._bokeh_is_loading = js_urls.length;\n    for (var i = 0; i < js_urls.length; i++) {\n      var url = js_urls[i];\n      var s = document.createElement('script');\n      s.src = url;\n      s.async = false;\n      s.onreadystatechange = s.onload = function() {\n        root._bokeh_is_loading--;\n        if (root._bokeh_is_loading === 0) {\n          console.log(\"Bokeh: all BokehJS libraries loaded\");\n          run_callbacks()\n        }\n      };\n      s.onerror = function() {\n        console.warn(\"failed to load library \" + url);\n      };\n      console.log(\"Bokeh: injecting script tag for BokehJS library: \", url);\n      document.getElementsByTagName(\"head\")[0].appendChild(s);\n    }\n  };var element = document.getElementById(\"1001\");\n  if (element == null) {\n    console.log(\"Bokeh: ERROR: autoload.js configured with elementid '1001' but no matching script tag was found. \")\n    return false;\n  }\n\n  var js_urls = [\"https://cdn.pydata.org/bokeh/release/bokeh-1.0.4.min.js\", \"https://cdn.pydata.org/bokeh/release/bokeh-widgets-1.0.4.min.js\", \"https://cdn.pydata.org/bokeh/release/bokeh-tables-1.0.4.min.js\", \"https://cdn.pydata.org/bokeh/release/bokeh-gl-1.0.4.min.js\"];\n\n  var inline_js = [\n    function(Bokeh) {\n      Bokeh.set_log_level(\"info\");\n    },\n    \n    function(Bokeh) {\n      \n    },\n    function(Bokeh) {\n      console.log(\"Bokeh: injecting CSS: https://cdn.pydata.org/bokeh/release/bokeh-1.0.4.min.css\");\n      Bokeh.embed.inject_css(\"https://cdn.pydata.org/bokeh/release/bokeh-1.0.4.min.css\");\n      console.log(\"Bokeh: injecting CSS: https://cdn.pydata.org/bokeh/release/bokeh-widgets-1.0.4.min.css\");\n      Bokeh.embed.inject_css(\"https://cdn.pydata.org/bokeh/release/bokeh-widgets-1.0.4.min.css\");\n      console.log(\"Bokeh: injecting CSS: https://cdn.pydata.org/bokeh/release/bokeh-tables-1.0.4.min.css\");\n      Bokeh.embed.inject_css(\"https://cdn.pydata.org/bokeh/release/bokeh-tables-1.0.4.min.css\");\n    }\n  ];\n\n  function run_inline_js() {\n    \n    if ((root.Bokeh !== undefined) || (force === true)) {\n      for (var i = 0; i < inline_js.length; i++) {\n        inline_js[i].call(root, root.Bokeh);\n      }if (force === true) {\n        display_loaded();\n      }} else if (Date.now() < root._bokeh_timeout) {\n      setTimeout(run_inline_js, 100);\n    } else if (!root._bokeh_failed_load) {\n      console.log(\"Bokeh: BokehJS failed to load within specified timeout.\");\n      root._bokeh_failed_load = true;\n    } else if (force !== true) {\n      var cell = $(document.getElementById(\"1001\")).parents('.cell').data().cell;\n      cell.output_area.append_execute_result(NB_LOAD_WARNING)\n    }\n\n  }\n\n  if (root._bokeh_is_loading === 0) {\n    console.log(\"Bokeh: BokehJS loaded, going straight to plotting\");\n    run_inline_js();\n  } else {\n    load_libs(js_urls, function() {\n      console.log(\"Bokeh: BokehJS plotting callback run at\", now());\n      run_inline_js();\n    });\n  }\n}(window));"
     },
     "metadata": {},
     "output_type": "display_data"
    }
   ],
   "source": [
    "from bokeh.plotting import output_notebook\n",
    "output_notebook()"
   ]
  },
  {
   "cell_type": "code",
   "execution_count": 2,
   "metadata": {},
   "outputs": [
    {
     "data": {
      "text/html": [
       "\n",
       "\n",
       "\n",
       "\n",
       "\n",
       "\n",
       "  <div class=\"bk-root\" id=\"8d23ec60-6418-43e1-a71a-e94e42b36d8d\" data-root-id=\"1002\"></div>\n"
      ]
     },
     "metadata": {},
     "output_type": "display_data"
    },
    {
     "data": {
      "application/javascript": [
       "(function(root) {\n",
       "  function embed_document(root) {\n",
       "    \n",
       "  var docs_json = {\"0e2d3c29-fd57-485d-855d-0cd31c3f8865\":{\"roots\":{\"references\":[{\"attributes\":{\"below\":[{\"id\":\"1011\",\"type\":\"LinearAxis\"}],\"left\":[{\"id\":\"1016\",\"type\":\"LinearAxis\"}],\"plot_height\":300,\"plot_width\":500,\"renderers\":[{\"id\":\"1011\",\"type\":\"LinearAxis\"},{\"id\":\"1015\",\"type\":\"Grid\"},{\"id\":\"1016\",\"type\":\"LinearAxis\"},{\"id\":\"1020\",\"type\":\"Grid\"},{\"id\":\"1029\",\"type\":\"BoxAnnotation\"},{\"id\":\"1039\",\"type\":\"GlyphRenderer\"}],\"title\":{\"id\":\"1041\",\"type\":\"Title\"},\"toolbar\":{\"id\":\"1027\",\"type\":\"Toolbar\"},\"x_range\":{\"id\":\"1003\",\"type\":\"DataRange1d\"},\"x_scale\":{\"id\":\"1007\",\"type\":\"LinearScale\"},\"y_range\":{\"id\":\"1005\",\"type\":\"DataRange1d\"},\"y_scale\":{\"id\":\"1009\",\"type\":\"LinearScale\"}},\"id\":\"1002\",\"subtype\":\"Figure\",\"type\":\"Plot\"},{\"attributes\":{\"callback\":null},\"id\":\"1003\",\"type\":\"DataRange1d\"},{\"attributes\":{},\"id\":\"1045\",\"type\":\"BasicTickFormatter\"},{\"attributes\":{\"dimension\":1,\"plot\":{\"id\":\"1002\",\"subtype\":\"Figure\",\"type\":\"Plot\"},\"ticker\":{\"id\":\"1017\",\"type\":\"BasicTicker\"}},\"id\":\"1020\",\"type\":\"Grid\"},{\"attributes\":{},\"id\":\"1007\",\"type\":\"LinearScale\"},{\"attributes\":{},\"id\":\"1047\",\"type\":\"UnionRenderers\"},{\"attributes\":{\"fill_alpha\":{\"value\":0.1},\"fill_color\":{\"value\":\"#1f77b4\"},\"line_alpha\":{\"value\":0.1},\"line_color\":{\"value\":\"#1f77b4\"},\"size\":{\"units\":\"screen\",\"value\":20},\"x\":{\"field\":\"x\"},\"y\":{\"field\":\"y\"}},\"id\":\"1038\",\"type\":\"Circle\"},{\"attributes\":{},\"id\":\"1048\",\"type\":\"Selection\"},{\"attributes\":{\"fill_color\":{\"value\":\"yellow\"},\"line_color\":{\"value\":\"#1f77b4\"},\"size\":{\"units\":\"screen\",\"value\":20},\"x\":{\"field\":\"x\"},\"y\":{\"field\":\"y\"}},\"id\":\"1037\",\"type\":\"Circle\"},{\"attributes\":{},\"id\":\"1021\",\"type\":\"PanTool\"},{\"attributes\":{},\"id\":\"1022\",\"type\":\"WheelZoomTool\"},{\"attributes\":{\"overlay\":{\"id\":\"1029\",\"type\":\"BoxAnnotation\"}},\"id\":\"1023\",\"type\":\"BoxZoomTool\"},{\"attributes\":{},\"id\":\"1024\",\"type\":\"SaveTool\"},{\"attributes\":{},\"id\":\"1025\",\"type\":\"ResetTool\"},{\"attributes\":{},\"id\":\"1026\",\"type\":\"HelpTool\"},{\"attributes\":{\"active_drag\":\"auto\",\"active_inspect\":\"auto\",\"active_multi\":null,\"active_scroll\":\"auto\",\"active_tap\":\"auto\",\"tools\":[{\"id\":\"1021\",\"type\":\"PanTool\"},{\"id\":\"1022\",\"type\":\"WheelZoomTool\"},{\"id\":\"1023\",\"type\":\"BoxZoomTool\"},{\"id\":\"1024\",\"type\":\"SaveTool\"},{\"id\":\"1025\",\"type\":\"ResetTool\"},{\"id\":\"1026\",\"type\":\"HelpTool\"}]},\"id\":\"1027\",\"type\":\"Toolbar\"},{\"attributes\":{\"callback\":null,\"data\":{\"x\":[1,2,3,4,5],\"y\":[1,2,3,4,5]},\"selected\":{\"id\":\"1048\",\"type\":\"Selection\"},\"selection_policy\":{\"id\":\"1047\",\"type\":\"UnionRenderers\"}},\"id\":\"1036\",\"type\":\"ColumnDataSource\"},{\"attributes\":{\"data_source\":{\"id\":\"1036\",\"type\":\"ColumnDataSource\"},\"glyph\":{\"id\":\"1037\",\"type\":\"Circle\"},\"hover_glyph\":null,\"muted_glyph\":null,\"nonselection_glyph\":{\"id\":\"1038\",\"type\":\"Circle\"},\"selection_glyph\":null,\"view\":{\"id\":\"1040\",\"type\":\"CDSView\"}},\"id\":\"1039\",\"type\":\"GlyphRenderer\"},{\"attributes\":{\"callback\":null},\"id\":\"1005\",\"type\":\"DataRange1d\"},{\"attributes\":{},\"id\":\"1009\",\"type\":\"LinearScale\"},{\"attributes\":{\"formatter\":{\"id\":\"1043\",\"type\":\"BasicTickFormatter\"},\"plot\":{\"id\":\"1002\",\"subtype\":\"Figure\",\"type\":\"Plot\"},\"ticker\":{\"id\":\"1012\",\"type\":\"BasicTicker\"}},\"id\":\"1011\",\"type\":\"LinearAxis\"},{\"attributes\":{},\"id\":\"1012\",\"type\":\"BasicTicker\"},{\"attributes\":{\"bottom_units\":\"screen\",\"fill_alpha\":{\"value\":0.5},\"fill_color\":{\"value\":\"lightgrey\"},\"left_units\":\"screen\",\"level\":\"overlay\",\"line_alpha\":{\"value\":1.0},\"line_color\":{\"value\":\"black\"},\"line_dash\":[4,4],\"line_width\":{\"value\":2},\"plot\":null,\"render_mode\":\"css\",\"right_units\":\"screen\",\"top_units\":\"screen\"},\"id\":\"1029\",\"type\":\"BoxAnnotation\"},{\"attributes\":{\"source\":{\"id\":\"1036\",\"type\":\"ColumnDataSource\"}},\"id\":\"1040\",\"type\":\"CDSView\"},{\"attributes\":{\"plot\":{\"id\":\"1002\",\"subtype\":\"Figure\",\"type\":\"Plot\"},\"ticker\":{\"id\":\"1012\",\"type\":\"BasicTicker\"}},\"id\":\"1015\",\"type\":\"Grid\"},{\"attributes\":{\"formatter\":{\"id\":\"1045\",\"type\":\"BasicTickFormatter\"},\"plot\":{\"id\":\"1002\",\"subtype\":\"Figure\",\"type\":\"Plot\"},\"ticker\":{\"id\":\"1017\",\"type\":\"BasicTicker\"}},\"id\":\"1016\",\"type\":\"LinearAxis\"},{\"attributes\":{\"plot\":null,\"text\":\"\"},\"id\":\"1041\",\"type\":\"Title\"},{\"attributes\":{},\"id\":\"1017\",\"type\":\"BasicTicker\"},{\"attributes\":{},\"id\":\"1043\",\"type\":\"BasicTickFormatter\"}],\"root_ids\":[\"1002\"]},\"title\":\"Bokeh Application\",\"version\":\"1.0.4\"}};\n",
       "  var render_items = [{\"docid\":\"0e2d3c29-fd57-485d-855d-0cd31c3f8865\",\"roots\":{\"1002\":\"8d23ec60-6418-43e1-a71a-e94e42b36d8d\"}}];\n",
       "  root.Bokeh.embed.embed_items_notebook(docs_json, render_items);\n",
       "\n",
       "  }\n",
       "  if (root.Bokeh !== undefined) {\n",
       "    embed_document(root);\n",
       "  } else {\n",
       "    var attempts = 0;\n",
       "    var timer = setInterval(function(root) {\n",
       "      if (root.Bokeh !== undefined) {\n",
       "        embed_document(root);\n",
       "        clearInterval(timer);\n",
       "      }\n",
       "      attempts++;\n",
       "      if (attempts > 100) {\n",
       "        console.log(\"Bokeh: ERROR: Unable to run BokehJS code because BokehJS library is missing\");\n",
       "        clearInterval(timer);\n",
       "      }\n",
       "    }, 10, root)\n",
       "  }\n",
       "})(window);"
      ],
      "application/vnd.bokehjs_exec.v0+json": ""
     },
     "metadata": {
      "application/vnd.bokehjs_exec.v0+json": {
       "id": "1002"
      }
     },
     "output_type": "display_data"
    }
   ],
   "source": [
    "from bokeh.plotting import figure, show\n",
    "\n",
    "fig = figure(plot_width = 500, plot_height = 300)\n",
    "fig.circle(x = [1, 2, 3, 4, 5],\n",
    "           y = [1, 2, 3, 4, 5],\n",
    "           size = 20,\n",
    "           #angle = 45,\n",
    "           fill_color = 'yellow',\n",
    "          )\n",
    "show(fig)"
   ]
  },
  {
   "cell_type": "code",
   "execution_count": 3,
   "metadata": {},
   "outputs": [
    {
     "data": {
      "text/html": [
       "\n",
       "\n",
       "\n",
       "\n",
       "\n",
       "\n",
       "  <div class=\"bk-root\" id=\"938e6d94-8de0-4fbc-8150-f71df1ffd536\" data-root-id=\"1104\"></div>\n"
      ]
     },
     "metadata": {},
     "output_type": "display_data"
    },
    {
     "data": {
      "application/javascript": [
       "(function(root) {\n",
       "  function embed_document(root) {\n",
       "    \n",
       "  var docs_json = {\"5a8fb38b-ff43-4a8b-8966-f11b5135d748\":{\"roots\":{\"references\":[{\"attributes\":{\"below\":[{\"id\":\"1113\",\"type\":\"LinearAxis\"}],\"left\":[{\"id\":\"1118\",\"type\":\"LinearAxis\"}],\"plot_height\":300,\"plot_width\":500,\"renderers\":[{\"id\":\"1113\",\"type\":\"LinearAxis\"},{\"id\":\"1117\",\"type\":\"Grid\"},{\"id\":\"1118\",\"type\":\"LinearAxis\"},{\"id\":\"1122\",\"type\":\"Grid\"},{\"id\":\"1131\",\"type\":\"BoxAnnotation\"},{\"id\":\"1141\",\"type\":\"GlyphRenderer\"}],\"title\":{\"id\":\"1152\",\"type\":\"Title\"},\"toolbar\":{\"id\":\"1129\",\"type\":\"Toolbar\"},\"x_range\":{\"id\":\"1105\",\"type\":\"DataRange1d\"},\"x_scale\":{\"id\":\"1109\",\"type\":\"LinearScale\"},\"y_range\":{\"id\":\"1107\",\"type\":\"DataRange1d\"},\"y_scale\":{\"id\":\"1111\",\"type\":\"LinearScale\"}},\"id\":\"1104\",\"subtype\":\"Figure\",\"type\":\"Plot\"},{\"attributes\":{\"overlay\":{\"id\":\"1131\",\"type\":\"BoxAnnotation\"}},\"id\":\"1125\",\"type\":\"BoxZoomTool\"},{\"attributes\":{},\"id\":\"1127\",\"type\":\"ResetTool\"},{\"attributes\":{\"active_drag\":\"auto\",\"active_inspect\":\"auto\",\"active_multi\":null,\"active_scroll\":\"auto\",\"active_tap\":\"auto\",\"tools\":[{\"id\":\"1123\",\"type\":\"PanTool\"},{\"id\":\"1124\",\"type\":\"WheelZoomTool\"},{\"id\":\"1125\",\"type\":\"BoxZoomTool\"},{\"id\":\"1126\",\"type\":\"SaveTool\"},{\"id\":\"1127\",\"type\":\"ResetTool\"},{\"id\":\"1128\",\"type\":\"HelpTool\"}]},\"id\":\"1129\",\"type\":\"Toolbar\"},{\"attributes\":{\"callback\":null},\"id\":\"1105\",\"type\":\"DataRange1d\"},{\"attributes\":{},\"id\":\"1128\",\"type\":\"HelpTool\"},{\"attributes\":{\"source\":{\"id\":\"1138\",\"type\":\"ColumnDataSource\"}},\"id\":\"1142\",\"type\":\"CDSView\"},{\"attributes\":{},\"id\":\"1126\",\"type\":\"SaveTool\"},{\"attributes\":{},\"id\":\"1156\",\"type\":\"BasicTickFormatter\"},{\"attributes\":{},\"id\":\"1154\",\"type\":\"BasicTickFormatter\"},{\"attributes\":{\"callback\":null},\"id\":\"1107\",\"type\":\"DataRange1d\"},{\"attributes\":{\"plot\":null,\"text\":\"\"},\"id\":\"1152\",\"type\":\"Title\"},{\"attributes\":{\"callback\":null,\"data\":{\"x\":[3],\"y\":[3]},\"selected\":{\"id\":\"1159\",\"type\":\"Selection\"},\"selection_policy\":{\"id\":\"1158\",\"type\":\"UnionRenderers\"}},\"id\":\"1138\",\"type\":\"ColumnDataSource\"},{\"attributes\":{},\"id\":\"1159\",\"type\":\"Selection\"},{\"attributes\":{},\"id\":\"1123\",\"type\":\"PanTool\"},{\"attributes\":{},\"id\":\"1111\",\"type\":\"LinearScale\"},{\"attributes\":{\"bottom_units\":\"screen\",\"fill_alpha\":{\"value\":0.5},\"fill_color\":{\"value\":\"lightgrey\"},\"left_units\":\"screen\",\"level\":\"overlay\",\"line_alpha\":{\"value\":1.0},\"line_color\":{\"value\":\"black\"},\"line_dash\":[4,4],\"line_width\":{\"value\":2},\"plot\":null,\"render_mode\":\"css\",\"right_units\":\"screen\",\"top_units\":\"screen\"},\"id\":\"1131\",\"type\":\"BoxAnnotation\"},{\"attributes\":{},\"id\":\"1158\",\"type\":\"UnionRenderers\"},{\"attributes\":{\"data_source\":{\"id\":\"1138\",\"type\":\"ColumnDataSource\"},\"glyph\":{\"id\":\"1139\",\"type\":\"Annulus\"},\"hover_glyph\":null,\"muted_glyph\":null,\"nonselection_glyph\":{\"id\":\"1140\",\"type\":\"Annulus\"},\"selection_glyph\":null,\"view\":{\"id\":\"1142\",\"type\":\"CDSView\"}},\"id\":\"1141\",\"type\":\"GlyphRenderer\"},{\"attributes\":{\"dimension\":1,\"plot\":{\"id\":\"1104\",\"subtype\":\"Figure\",\"type\":\"Plot\"},\"ticker\":{\"id\":\"1119\",\"type\":\"BasicTicker\"}},\"id\":\"1122\",\"type\":\"Grid\"},{\"attributes\":{},\"id\":\"1119\",\"type\":\"BasicTicker\"},{\"attributes\":{\"fill_alpha\":{\"value\":0.1},\"fill_color\":{\"value\":\"#1f77b4\"},\"inner_radius\":{\"units\":\"data\",\"value\":0.2},\"line_alpha\":{\"value\":0.1},\"line_color\":{\"value\":\"#1f77b4\"},\"outer_radius\":{\"units\":\"data\",\"value\":0.6},\"x\":{\"field\":\"x\"},\"y\":{\"field\":\"y\"}},\"id\":\"1140\",\"type\":\"Annulus\"},{\"attributes\":{},\"id\":\"1124\",\"type\":\"WheelZoomTool\"},{\"attributes\":{\"formatter\":{\"id\":\"1154\",\"type\":\"BasicTickFormatter\"},\"plot\":{\"id\":\"1104\",\"subtype\":\"Figure\",\"type\":\"Plot\"},\"ticker\":{\"id\":\"1114\",\"type\":\"BasicTicker\"}},\"id\":\"1113\",\"type\":\"LinearAxis\"},{\"attributes\":{\"fill_color\":{\"value\":\"green\"},\"inner_radius\":{\"units\":\"data\",\"value\":0.2},\"line_color\":{\"value\":\"green\"},\"outer_radius\":{\"units\":\"data\",\"value\":0.6},\"x\":{\"field\":\"x\"},\"y\":{\"field\":\"y\"}},\"id\":\"1139\",\"type\":\"Annulus\"},{\"attributes\":{\"formatter\":{\"id\":\"1156\",\"type\":\"BasicTickFormatter\"},\"plot\":{\"id\":\"1104\",\"subtype\":\"Figure\",\"type\":\"Plot\"},\"ticker\":{\"id\":\"1119\",\"type\":\"BasicTicker\"}},\"id\":\"1118\",\"type\":\"LinearAxis\"},{\"attributes\":{},\"id\":\"1109\",\"type\":\"LinearScale\"},{\"attributes\":{\"plot\":{\"id\":\"1104\",\"subtype\":\"Figure\",\"type\":\"Plot\"},\"ticker\":{\"id\":\"1114\",\"type\":\"BasicTicker\"}},\"id\":\"1117\",\"type\":\"Grid\"},{\"attributes\":{},\"id\":\"1114\",\"type\":\"BasicTicker\"}],\"root_ids\":[\"1104\"]},\"title\":\"Bokeh Application\",\"version\":\"1.0.4\"}};\n",
       "  var render_items = [{\"docid\":\"5a8fb38b-ff43-4a8b-8966-f11b5135d748\",\"roots\":{\"1104\":\"938e6d94-8de0-4fbc-8150-f71df1ffd536\"}}];\n",
       "  root.Bokeh.embed.embed_items_notebook(docs_json, render_items);\n",
       "\n",
       "  }\n",
       "  if (root.Bokeh !== undefined) {\n",
       "    embed_document(root);\n",
       "  } else {\n",
       "    var attempts = 0;\n",
       "    var timer = setInterval(function(root) {\n",
       "      if (root.Bokeh !== undefined) {\n",
       "        embed_document(root);\n",
       "        clearInterval(timer);\n",
       "      }\n",
       "      attempts++;\n",
       "      if (attempts > 100) {\n",
       "        console.log(\"Bokeh: ERROR: Unable to run BokehJS code because BokehJS library is missing\");\n",
       "        clearInterval(timer);\n",
       "      }\n",
       "    }, 10, root)\n",
       "  }\n",
       "})(window);"
      ],
      "application/vnd.bokehjs_exec.v0+json": ""
     },
     "metadata": {
      "application/vnd.bokehjs_exec.v0+json": {
       "id": "1104"
      }
     },
     "output_type": "display_data"
    }
   ],
   "source": [
    "fig = figure(plot_width = 500, plot_height = 300)\n",
    "fig.annulus(x=[3], y=[3], color='green', inner_radius=0.2, outer_radius=0.6)\n",
    "show(fig)"
   ]
  },
  {
   "cell_type": "code",
   "execution_count": 4,
   "metadata": {},
   "outputs": [
    {
     "data": {
      "text/html": [
       "\n",
       "\n",
       "\n",
       "\n",
       "\n",
       "\n",
       "  <div class=\"bk-root\" id=\"65d213e5-79a6-40db-ac78-2afe978c6b5b\" data-root-id=\"1215\"></div>\n"
      ]
     },
     "metadata": {},
     "output_type": "display_data"
    },
    {
     "data": {
      "application/javascript": [
       "(function(root) {\n",
       "  function embed_document(root) {\n",
       "    \n",
       "  var docs_json = {\"b06eb6d3-36bf-452c-a9e5-2dffc9386094\":{\"roots\":{\"references\":[{\"attributes\":{\"below\":[{\"id\":\"1224\",\"type\":\"LinearAxis\"}],\"left\":[{\"id\":\"1229\",\"type\":\"LinearAxis\"}],\"plot_height\":300,\"plot_width\":500,\"renderers\":[{\"id\":\"1224\",\"type\":\"LinearAxis\"},{\"id\":\"1228\",\"type\":\"Grid\"},{\"id\":\"1229\",\"type\":\"LinearAxis\"},{\"id\":\"1233\",\"type\":\"Grid\"},{\"id\":\"1242\",\"type\":\"BoxAnnotation\"},{\"id\":\"1252\",\"type\":\"GlyphRenderer\"}],\"title\":{\"id\":\"1272\",\"type\":\"Title\"},\"toolbar\":{\"id\":\"1240\",\"type\":\"Toolbar\"},\"x_range\":{\"id\":\"1216\",\"type\":\"DataRange1d\"},\"x_scale\":{\"id\":\"1220\",\"type\":\"LinearScale\"},\"y_range\":{\"id\":\"1218\",\"type\":\"DataRange1d\"},\"y_scale\":{\"id\":\"1222\",\"type\":\"LinearScale\"}},\"id\":\"1215\",\"subtype\":\"Figure\",\"type\":\"Plot\"},{\"attributes\":{},\"id\":\"1238\",\"type\":\"ResetTool\"},{\"attributes\":{},\"id\":\"1239\",\"type\":\"HelpTool\"},{\"attributes\":{},\"id\":\"1234\",\"type\":\"PanTool\"},{\"attributes\":{\"data_source\":{\"id\":\"1249\",\"type\":\"ColumnDataSource\"},\"glyph\":{\"id\":\"1250\",\"type\":\"Wedge\"},\"hover_glyph\":null,\"muted_glyph\":null,\"nonselection_glyph\":{\"id\":\"1251\",\"type\":\"Wedge\"},\"selection_glyph\":null,\"view\":{\"id\":\"1253\",\"type\":\"CDSView\"}},\"id\":\"1252\",\"type\":\"GlyphRenderer\"},{\"attributes\":{},\"id\":\"1230\",\"type\":\"BasicTicker\"},{\"attributes\":{\"active_drag\":\"auto\",\"active_inspect\":\"auto\",\"active_multi\":null,\"active_scroll\":\"auto\",\"active_tap\":\"auto\",\"tools\":[{\"id\":\"1234\",\"type\":\"PanTool\"},{\"id\":\"1235\",\"type\":\"WheelZoomTool\"},{\"id\":\"1236\",\"type\":\"BoxZoomTool\"},{\"id\":\"1237\",\"type\":\"SaveTool\"},{\"id\":\"1238\",\"type\":\"ResetTool\"},{\"id\":\"1239\",\"type\":\"HelpTool\"}]},\"id\":\"1240\",\"type\":\"Toolbar\"},{\"attributes\":{\"dimension\":1,\"plot\":{\"id\":\"1215\",\"subtype\":\"Figure\",\"type\":\"Plot\"},\"ticker\":{\"id\":\"1230\",\"type\":\"BasicTicker\"}},\"id\":\"1233\",\"type\":\"Grid\"},{\"attributes\":{\"source\":{\"id\":\"1249\",\"type\":\"ColumnDataSource\"}},\"id\":\"1253\",\"type\":\"CDSView\"},{\"attributes\":{},\"id\":\"1279\",\"type\":\"Selection\"},{\"attributes\":{},\"id\":\"1237\",\"type\":\"SaveTool\"},{\"attributes\":{\"bottom_units\":\"screen\",\"fill_alpha\":{\"value\":0.5},\"fill_color\":{\"value\":\"lightgrey\"},\"left_units\":\"screen\",\"level\":\"overlay\",\"line_alpha\":{\"value\":1.0},\"line_color\":{\"value\":\"black\"},\"line_dash\":[4,4],\"line_width\":{\"value\":2},\"plot\":null,\"render_mode\":\"css\",\"right_units\":\"screen\",\"top_units\":\"screen\"},\"id\":\"1242\",\"type\":\"BoxAnnotation\"},{\"attributes\":{\"callback\":null},\"id\":\"1218\",\"type\":\"DataRange1d\"},{\"attributes\":{\"formatter\":{\"id\":\"1274\",\"type\":\"BasicTickFormatter\"},\"plot\":{\"id\":\"1215\",\"subtype\":\"Figure\",\"type\":\"Plot\"},\"ticker\":{\"id\":\"1225\",\"type\":\"BasicTicker\"}},\"id\":\"1224\",\"type\":\"LinearAxis\"},{\"attributes\":{},\"id\":\"1276\",\"type\":\"BasicTickFormatter\"},{\"attributes\":{\"end_angle\":{\"units\":\"rad\",\"value\":1.5707963267948966},\"fill_color\":{\"value\":\"#2b8cbe\"},\"line_color\":{\"value\":\"#2b8cbe\"},\"radius\":{\"units\":\"screen\",\"value\":80},\"start_angle\":{\"units\":\"rad\",\"value\":0},\"x\":{\"field\":\"x\"},\"y\":{\"field\":\"y\"}},\"id\":\"1250\",\"type\":\"Wedge\"},{\"attributes\":{},\"id\":\"1274\",\"type\":\"BasicTickFormatter\"},{\"attributes\":{\"plot\":null,\"text\":\"\"},\"id\":\"1272\",\"type\":\"Title\"},{\"attributes\":{\"callback\":null},\"id\":\"1216\",\"type\":\"DataRange1d\"},{\"attributes\":{},\"id\":\"1278\",\"type\":\"UnionRenderers\"},{\"attributes\":{},\"id\":\"1225\",\"type\":\"BasicTicker\"},{\"attributes\":{\"overlay\":{\"id\":\"1242\",\"type\":\"BoxAnnotation\"}},\"id\":\"1236\",\"type\":\"BoxZoomTool\"},{\"attributes\":{},\"id\":\"1220\",\"type\":\"LinearScale\"},{\"attributes\":{\"formatter\":{\"id\":\"1276\",\"type\":\"BasicTickFormatter\"},\"plot\":{\"id\":\"1215\",\"subtype\":\"Figure\",\"type\":\"Plot\"},\"ticker\":{\"id\":\"1230\",\"type\":\"BasicTicker\"}},\"id\":\"1229\",\"type\":\"LinearAxis\"},{\"attributes\":{\"callback\":null,\"data\":{\"x\":[3],\"y\":[3]},\"selected\":{\"id\":\"1279\",\"type\":\"Selection\"},\"selection_policy\":{\"id\":\"1278\",\"type\":\"UnionRenderers\"}},\"id\":\"1249\",\"type\":\"ColumnDataSource\"},{\"attributes\":{\"plot\":{\"id\":\"1215\",\"subtype\":\"Figure\",\"type\":\"Plot\"},\"ticker\":{\"id\":\"1225\",\"type\":\"BasicTicker\"}},\"id\":\"1228\",\"type\":\"Grid\"},{\"attributes\":{\"end_angle\":{\"units\":\"rad\",\"value\":1.5707963267948966},\"fill_alpha\":{\"value\":0.1},\"fill_color\":{\"value\":\"#1f77b4\"},\"line_alpha\":{\"value\":0.1},\"line_color\":{\"value\":\"#1f77b4\"},\"radius\":{\"units\":\"screen\",\"value\":80},\"start_angle\":{\"units\":\"rad\",\"value\":0},\"x\":{\"field\":\"x\"},\"y\":{\"field\":\"y\"}},\"id\":\"1251\",\"type\":\"Wedge\"},{\"attributes\":{},\"id\":\"1235\",\"type\":\"WheelZoomTool\"},{\"attributes\":{},\"id\":\"1222\",\"type\":\"LinearScale\"}],\"root_ids\":[\"1215\"]},\"title\":\"Bokeh Application\",\"version\":\"1.0.4\"}};\n",
       "  var render_items = [{\"docid\":\"b06eb6d3-36bf-452c-a9e5-2dffc9386094\",\"roots\":{\"1215\":\"65d213e5-79a6-40db-ac78-2afe978c6b5b\"}}];\n",
       "  root.Bokeh.embed.embed_items_notebook(docs_json, render_items);\n",
       "\n",
       "  }\n",
       "  if (root.Bokeh !== undefined) {\n",
       "    embed_document(root);\n",
       "  } else {\n",
       "    var attempts = 0;\n",
       "    var timer = setInterval(function(root) {\n",
       "      if (root.Bokeh !== undefined) {\n",
       "        embed_document(root);\n",
       "        clearInterval(timer);\n",
       "      }\n",
       "      attempts++;\n",
       "      if (attempts > 100) {\n",
       "        console.log(\"Bokeh: ERROR: Unable to run BokehJS code because BokehJS library is missing\");\n",
       "        clearInterval(timer);\n",
       "      }\n",
       "    }, 10, root)\n",
       "  }\n",
       "})(window);"
      ],
      "application/vnd.bokehjs_exec.v0+json": ""
     },
     "metadata": {
      "application/vnd.bokehjs_exec.v0+json": {
       "id": "1215"
      }
     },
     "output_type": "display_data"
    }
   ],
   "source": [
    "import numpy as np\n",
    "\n",
    "fig = figure(plot_width = 500, plot_height = 300)\n",
    "fig.wedge(x=[3,], y=[3,], \n",
    "          radius=80, \n",
    "          start_angle=0, \n",
    "          end_angle=np.pi/2, \n",
    "          radius_units=\"screen\", \n",
    "          color=\"#2b8cbe\")\n",
    "show(fig)"
   ]
  },
  {
   "cell_type": "code",
   "execution_count": 5,
   "metadata": {},
   "outputs": [
    {
     "data": {
      "text/html": [
       "\n",
       "\n",
       "\n",
       "\n",
       "\n",
       "\n",
       "  <div class=\"bk-root\" id=\"5480cab8-7f86-4aef-80a7-5a067b4b6f01\" data-root-id=\"1336\"></div>\n"
      ]
     },
     "metadata": {},
     "output_type": "display_data"
    },
    {
     "data": {
      "application/javascript": [
       "(function(root) {\n",
       "  function embed_document(root) {\n",
       "    \n",
       "  var docs_json = {\"1cf275ef-8f35-4188-92c2-9bae7142fd4b\":{\"roots\":{\"references\":[{\"attributes\":{\"below\":[{\"id\":\"1346\",\"type\":\"LinearAxis\"}],\"left\":[{\"id\":\"1351\",\"type\":\"LinearAxis\"}],\"renderers\":[{\"id\":\"1346\",\"type\":\"LinearAxis\"},{\"id\":\"1350\",\"type\":\"Grid\"},{\"id\":\"1351\",\"type\":\"LinearAxis\"},{\"id\":\"1355\",\"type\":\"Grid\"},{\"id\":\"1364\",\"type\":\"BoxAnnotation\"},{\"id\":\"1374\",\"type\":\"GlyphRenderer\"}],\"title\":{\"id\":\"1335\",\"type\":\"Title\"},\"toolbar\":{\"id\":\"1362\",\"type\":\"Toolbar\"},\"x_range\":{\"id\":\"1338\",\"type\":\"Range1d\"},\"x_scale\":{\"id\":\"1342\",\"type\":\"LinearScale\"},\"y_range\":{\"id\":\"1340\",\"type\":\"Range1d\"},\"y_scale\":{\"id\":\"1344\",\"type\":\"LinearScale\"}},\"id\":\"1336\",\"subtype\":\"Figure\",\"type\":\"Plot\"},{\"attributes\":{},\"id\":\"1344\",\"type\":\"LinearScale\"},{\"attributes\":{},\"id\":\"1406\",\"type\":\"BasicTickFormatter\"},{\"attributes\":{\"end_angle\":{\"field\":\"end_angle\",\"units\":\"rad\"},\"fill_alpha\":{\"value\":0.1},\"fill_color\":{\"value\":\"#1f77b4\"},\"line_alpha\":{\"value\":0.1},\"line_color\":{\"value\":\"#1f77b4\"},\"radius\":{\"units\":\"data\",\"value\":1},\"start_angle\":{\"field\":\"start_angle\",\"units\":\"rad\"},\"x\":{\"value\":0},\"y\":{\"value\":0}},\"id\":\"1373\",\"type\":\"Wedge\"},{\"attributes\":{\"end_angle\":{\"field\":\"end_angle\",\"units\":\"rad\"},\"fill_color\":{\"field\":\"fill_color\"},\"line_color\":{\"field\":\"line_color\"},\"radius\":{\"units\":\"data\",\"value\":1},\"start_angle\":{\"field\":\"start_angle\",\"units\":\"rad\"},\"x\":{\"value\":0},\"y\":{\"value\":0}},\"id\":\"1372\",\"type\":\"Wedge\"},{\"attributes\":{\"callback\":null,\"data\":{\"end_angle\":[1.8849555921538759,2.5132741228718345,3.7699111843077517,5.654866776461628,6.283185307179586],\"fill_color\":[\"red\",\"green\",\"blue\",\"orange\",\"yellow\"],\"line_color\":[\"red\",\"green\",\"blue\",\"orange\",\"yellow\"],\"start_angle\":[0.0,1.8849555921538759,2.5132741228718345,3.7699111843077517,5.654866776461628]},\"selected\":{\"id\":\"1409\",\"type\":\"Selection\"},\"selection_policy\":{\"id\":\"1408\",\"type\":\"UnionRenderers\"}},\"id\":\"1371\",\"type\":\"ColumnDataSource\"},{\"attributes\":{},\"id\":\"1361\",\"type\":\"HelpTool\"},{\"attributes\":{},\"id\":\"1357\",\"type\":\"WheelZoomTool\"},{\"attributes\":{},\"id\":\"1356\",\"type\":\"PanTool\"},{\"attributes\":{\"callback\":null,\"start\":-1},\"id\":\"1340\",\"type\":\"Range1d\"},{\"attributes\":{\"plot\":{\"id\":\"1336\",\"subtype\":\"Figure\",\"type\":\"Plot\"},\"ticker\":{\"id\":\"1347\",\"type\":\"BasicTicker\"}},\"id\":\"1350\",\"type\":\"Grid\"},{\"attributes\":{\"overlay\":{\"id\":\"1364\",\"type\":\"BoxAnnotation\"}},\"id\":\"1358\",\"type\":\"BoxZoomTool\"},{\"attributes\":{\"callback\":null,\"start\":-1},\"id\":\"1338\",\"type\":\"Range1d\"},{\"attributes\":{},\"id\":\"1359\",\"type\":\"SaveTool\"},{\"attributes\":{},\"id\":\"1347\",\"type\":\"BasicTicker\"},{\"attributes\":{},\"id\":\"1360\",\"type\":\"ResetTool\"},{\"attributes\":{\"formatter\":{\"id\":\"1404\",\"type\":\"BasicTickFormatter\"},\"plot\":{\"id\":\"1336\",\"subtype\":\"Figure\",\"type\":\"Plot\"},\"ticker\":{\"id\":\"1347\",\"type\":\"BasicTicker\"}},\"id\":\"1346\",\"type\":\"LinearAxis\"},{\"attributes\":{\"active_drag\":\"auto\",\"active_inspect\":\"auto\",\"active_multi\":null,\"active_scroll\":\"auto\",\"active_tap\":\"auto\",\"tools\":[{\"id\":\"1356\",\"type\":\"PanTool\"},{\"id\":\"1357\",\"type\":\"WheelZoomTool\"},{\"id\":\"1358\",\"type\":\"BoxZoomTool\"},{\"id\":\"1359\",\"type\":\"SaveTool\"},{\"id\":\"1360\",\"type\":\"ResetTool\"},{\"id\":\"1361\",\"type\":\"HelpTool\"}]},\"id\":\"1362\",\"type\":\"Toolbar\"},{\"attributes\":{\"formatter\":{\"id\":\"1406\",\"type\":\"BasicTickFormatter\"},\"plot\":{\"id\":\"1336\",\"subtype\":\"Figure\",\"type\":\"Plot\"},\"ticker\":{\"id\":\"1352\",\"type\":\"BasicTicker\"}},\"id\":\"1351\",\"type\":\"LinearAxis\"},{\"attributes\":{\"data_source\":{\"id\":\"1371\",\"type\":\"ColumnDataSource\"},\"glyph\":{\"id\":\"1372\",\"type\":\"Wedge\"},\"hover_glyph\":null,\"muted_glyph\":null,\"nonselection_glyph\":{\"id\":\"1373\",\"type\":\"Wedge\"},\"selection_glyph\":null,\"view\":{\"id\":\"1375\",\"type\":\"CDSView\"}},\"id\":\"1374\",\"type\":\"GlyphRenderer\"},{\"attributes\":{\"bottom_units\":\"screen\",\"fill_alpha\":{\"value\":0.5},\"fill_color\":{\"value\":\"lightgrey\"},\"left_units\":\"screen\",\"level\":\"overlay\",\"line_alpha\":{\"value\":1.0},\"line_color\":{\"value\":\"black\"},\"line_dash\":[4,4],\"line_width\":{\"value\":2},\"plot\":null,\"render_mode\":\"css\",\"right_units\":\"screen\",\"top_units\":\"screen\"},\"id\":\"1364\",\"type\":\"BoxAnnotation\"},{\"attributes\":{\"plot\":null,\"text\":\"Pie Chart\"},\"id\":\"1335\",\"type\":\"Title\"},{\"attributes\":{},\"id\":\"1409\",\"type\":\"Selection\"},{\"attributes\":{\"source\":{\"id\":\"1371\",\"type\":\"ColumnDataSource\"}},\"id\":\"1375\",\"type\":\"CDSView\"},{\"attributes\":{},\"id\":\"1342\",\"type\":\"LinearScale\"},{\"attributes\":{},\"id\":\"1404\",\"type\":\"BasicTickFormatter\"},{\"attributes\":{},\"id\":\"1352\",\"type\":\"BasicTicker\"},{\"attributes\":{\"dimension\":1,\"plot\":{\"id\":\"1336\",\"subtype\":\"Figure\",\"type\":\"Plot\"},\"ticker\":{\"id\":\"1352\",\"type\":\"BasicTicker\"}},\"id\":\"1355\",\"type\":\"Grid\"},{\"attributes\":{},\"id\":\"1408\",\"type\":\"UnionRenderers\"}],\"root_ids\":[\"1336\"]},\"title\":\"Bokeh Application\",\"version\":\"1.0.4\"}};\n",
       "  var render_items = [{\"docid\":\"1cf275ef-8f35-4188-92c2-9bae7142fd4b\",\"roots\":{\"1336\":\"5480cab8-7f86-4aef-80a7-5a067b4b6f01\"}}];\n",
       "  root.Bokeh.embed.embed_items_notebook(docs_json, render_items);\n",
       "\n",
       "  }\n",
       "  if (root.Bokeh !== undefined) {\n",
       "    embed_document(root);\n",
       "  } else {\n",
       "    var attempts = 0;\n",
       "    var timer = setInterval(function(root) {\n",
       "      if (root.Bokeh !== undefined) {\n",
       "        embed_document(root);\n",
       "        clearInterval(timer);\n",
       "      }\n",
       "      attempts++;\n",
       "      if (attempts > 100) {\n",
       "        console.log(\"Bokeh: ERROR: Unable to run BokehJS code because BokehJS library is missing\");\n",
       "        clearInterval(timer);\n",
       "      }\n",
       "    }, 10, root)\n",
       "  }\n",
       "})(window);"
      ],
      "application/vnd.bokehjs_exec.v0+json": ""
     },
     "metadata": {
      "application/vnd.bokehjs_exec.v0+json": {
       "id": "1336"
      }
     },
     "output_type": "display_data"
    }
   ],
   "source": [
    "# 定义每个扇形的起止半径相对水平线的角度\n",
    "percents = [0, 0.3, 0.4, 0.6, 0.9, 1]\n",
    "starts = [p*2*np.pi for p in percents[:-1]]\n",
    "ends = [p*2*np.pi for p in percents[1:]]\n",
    "\n",
    "# 每个扇形的色彩\n",
    "colors = [\"red\", \"green\", \"blue\", \"orange\", \"yellow\"]\n",
    "\n",
    "fig = figure(title='Pie Chart', x_range=(-1,1), y_range=(-1,1))\n",
    "fig.wedge(x=0, y=0, radius=1, start_angle=starts, end_angle=ends, color=colors)\n",
    "show(fig)"
   ]
  },
  {
   "cell_type": "code",
   "execution_count": 6,
   "metadata": {},
   "outputs": [
    {
     "data": {
      "text/html": [
       "\n",
       "\n",
       "\n",
       "\n",
       "\n",
       "\n",
       "  <div class=\"bk-root\" id=\"592aef12-586a-4ac1-ae05-d4836bf31d2c\" data-root-id=\"1459\"></div>\n"
      ]
     },
     "metadata": {},
     "output_type": "display_data"
    },
    {
     "data": {
      "application/javascript": [
       "(function(root) {\n",
       "  function embed_document(root) {\n",
       "    \n",
       "  var docs_json = {\"c8aaac99-fef8-42c3-a912-195328111f12\":{\"roots\":{\"references\":[{\"attributes\":{\"below\":[{\"id\":\"1468\",\"type\":\"LinearAxis\"}],\"left\":[{\"id\":\"1473\",\"type\":\"LinearAxis\"}],\"plot_height\":300,\"plot_width\":300,\"renderers\":[{\"id\":\"1468\",\"type\":\"LinearAxis\"},{\"id\":\"1472\",\"type\":\"Grid\"},{\"id\":\"1473\",\"type\":\"LinearAxis\"},{\"id\":\"1477\",\"type\":\"Grid\"},{\"id\":\"1486\",\"type\":\"BoxAnnotation\"},{\"id\":\"1496\",\"type\":\"GlyphRenderer\"}],\"title\":{\"id\":\"1533\",\"type\":\"Title\"},\"toolbar\":{\"id\":\"1484\",\"type\":\"Toolbar\"},\"x_range\":{\"id\":\"1460\",\"type\":\"DataRange1d\"},\"x_scale\":{\"id\":\"1464\",\"type\":\"LinearScale\"},\"y_range\":{\"id\":\"1462\",\"type\":\"DataRange1d\"},\"y_scale\":{\"id\":\"1466\",\"type\":\"LinearScale\"}},\"id\":\"1459\",\"subtype\":\"Figure\",\"type\":\"Plot\"},{\"attributes\":{},\"id\":\"1464\",\"type\":\"LinearScale\"},{\"attributes\":{},\"id\":\"1539\",\"type\":\"UnionRenderers\"},{\"attributes\":{},\"id\":\"1469\",\"type\":\"BasicTicker\"},{\"attributes\":{},\"id\":\"1537\",\"type\":\"BasicTickFormatter\"},{\"attributes\":{},\"id\":\"1535\",\"type\":\"BasicTickFormatter\"},{\"attributes\":{\"plot\":{\"id\":\"1459\",\"subtype\":\"Figure\",\"type\":\"Plot\"},\"ticker\":{\"id\":\"1469\",\"type\":\"BasicTicker\"}},\"id\":\"1472\",\"type\":\"Grid\"},{\"attributes\":{\"bottom_units\":\"screen\",\"fill_alpha\":{\"value\":0.5},\"fill_color\":{\"value\":\"lightgrey\"},\"left_units\":\"screen\",\"level\":\"overlay\",\"line_alpha\":{\"value\":1.0},\"line_color\":{\"value\":\"black\"},\"line_dash\":[4,4],\"line_width\":{\"value\":2},\"plot\":null,\"render_mode\":\"css\",\"right_units\":\"screen\",\"top_units\":\"screen\"},\"id\":\"1486\",\"type\":\"BoxAnnotation\"},{\"attributes\":{},\"id\":\"1479\",\"type\":\"WheelZoomTool\"},{\"attributes\":{\"active_drag\":\"auto\",\"active_inspect\":\"auto\",\"active_multi\":null,\"active_scroll\":\"auto\",\"active_tap\":\"auto\",\"tools\":[{\"id\":\"1478\",\"type\":\"PanTool\"},{\"id\":\"1479\",\"type\":\"WheelZoomTool\"},{\"id\":\"1480\",\"type\":\"BoxZoomTool\"},{\"id\":\"1481\",\"type\":\"SaveTool\"},{\"id\":\"1482\",\"type\":\"ResetTool\"},{\"id\":\"1483\",\"type\":\"HelpTool\"}]},\"id\":\"1484\",\"type\":\"Toolbar\"},{\"attributes\":{\"dimension\":1,\"plot\":{\"id\":\"1459\",\"subtype\":\"Figure\",\"type\":\"Plot\"},\"ticker\":{\"id\":\"1474\",\"type\":\"BasicTicker\"}},\"id\":\"1477\",\"type\":\"Grid\"},{\"attributes\":{},\"id\":\"1466\",\"type\":\"LinearScale\"},{\"attributes\":{\"formatter\":{\"id\":\"1535\",\"type\":\"BasicTickFormatter\"},\"plot\":{\"id\":\"1459\",\"subtype\":\"Figure\",\"type\":\"Plot\"},\"ticker\":{\"id\":\"1469\",\"type\":\"BasicTicker\"}},\"id\":\"1468\",\"type\":\"LinearAxis\"},{\"attributes\":{},\"id\":\"1482\",\"type\":\"ResetTool\"},{\"attributes\":{\"callback\":null},\"id\":\"1462\",\"type\":\"DataRange1d\"},{\"attributes\":{\"fill_color\":{\"value\":\"#666666\"},\"line_color\":{\"value\":\"#666666\"},\"line_width\":{\"value\":2},\"size\":{\"field\":\"size\",\"units\":\"screen\"},\"x\":{\"field\":\"x\"},\"y\":{\"field\":\"y\"}},\"id\":\"1494\",\"type\":\"Triangle\"},{\"attributes\":{\"source\":{\"id\":\"1493\",\"type\":\"ColumnDataSource\"}},\"id\":\"1497\",\"type\":\"CDSView\"},{\"attributes\":{\"plot\":null,\"text\":\"\"},\"id\":\"1533\",\"type\":\"Title\"},{\"attributes\":{},\"id\":\"1478\",\"type\":\"PanTool\"},{\"attributes\":{\"formatter\":{\"id\":\"1537\",\"type\":\"BasicTickFormatter\"},\"plot\":{\"id\":\"1459\",\"subtype\":\"Figure\",\"type\":\"Plot\"},\"ticker\":{\"id\":\"1474\",\"type\":\"BasicTicker\"}},\"id\":\"1473\",\"type\":\"LinearAxis\"},{\"attributes\":{},\"id\":\"1481\",\"type\":\"SaveTool\"},{\"attributes\":{},\"id\":\"1474\",\"type\":\"BasicTicker\"},{\"attributes\":{\"callback\":null,\"data\":{\"size\":[100],\"x\":[3],\"y\":[3]},\"selected\":{\"id\":\"1540\",\"type\":\"Selection\"},\"selection_policy\":{\"id\":\"1539\",\"type\":\"UnionRenderers\"}},\"id\":\"1493\",\"type\":\"ColumnDataSource\"},{\"attributes\":{},\"id\":\"1483\",\"type\":\"HelpTool\"},{\"attributes\":{},\"id\":\"1540\",\"type\":\"Selection\"},{\"attributes\":{\"data_source\":{\"id\":\"1493\",\"type\":\"ColumnDataSource\"},\"glyph\":{\"id\":\"1494\",\"type\":\"Triangle\"},\"hover_glyph\":null,\"muted_glyph\":null,\"nonselection_glyph\":{\"id\":\"1495\",\"type\":\"Triangle\"},\"selection_glyph\":null,\"view\":{\"id\":\"1497\",\"type\":\"CDSView\"}},\"id\":\"1496\",\"type\":\"GlyphRenderer\"},{\"attributes\":{\"fill_alpha\":{\"value\":0.1},\"fill_color\":{\"value\":\"#1f77b4\"},\"line_alpha\":{\"value\":0.1},\"line_color\":{\"value\":\"#1f77b4\"},\"line_width\":{\"value\":2},\"size\":{\"field\":\"size\",\"units\":\"screen\"},\"x\":{\"field\":\"x\"},\"y\":{\"field\":\"y\"}},\"id\":\"1495\",\"type\":\"Triangle\"},{\"attributes\":{\"overlay\":{\"id\":\"1486\",\"type\":\"BoxAnnotation\"}},\"id\":\"1480\",\"type\":\"BoxZoomTool\"},{\"attributes\":{\"callback\":null},\"id\":\"1460\",\"type\":\"DataRange1d\"}],\"root_ids\":[\"1459\"]},\"title\":\"Bokeh Application\",\"version\":\"1.0.4\"}};\n",
       "  var render_items = [{\"docid\":\"c8aaac99-fef8-42c3-a912-195328111f12\",\"roots\":{\"1459\":\"592aef12-586a-4ac1-ae05-d4836bf31d2c\"}}];\n",
       "  root.Bokeh.embed.embed_items_notebook(docs_json, render_items);\n",
       "\n",
       "  }\n",
       "  if (root.Bokeh !== undefined) {\n",
       "    embed_document(root);\n",
       "  } else {\n",
       "    var attempts = 0;\n",
       "    var timer = setInterval(function(root) {\n",
       "      if (root.Bokeh !== undefined) {\n",
       "        embed_document(root);\n",
       "        clearInterval(timer);\n",
       "      }\n",
       "      attempts++;\n",
       "      if (attempts > 100) {\n",
       "        console.log(\"Bokeh: ERROR: Unable to run BokehJS code because BokehJS library is missing\");\n",
       "        clearInterval(timer);\n",
       "      }\n",
       "    }, 10, root)\n",
       "  }\n",
       "})(window);"
      ],
      "application/vnd.bokehjs_exec.v0+json": ""
     },
     "metadata": {
      "application/vnd.bokehjs_exec.v0+json": {
       "id": "1459"
      }
     },
     "output_type": "display_data"
    }
   ],
   "source": [
    "from bokeh.plotting import figure, show\n",
    "\n",
    "fig = figure(plot_width=300, plot_height=300)\n",
    "fig.triangle(x=[3], y=[3], size=[100],\n",
    "              color=\"#666666\", line_width=2)\n",
    "\n",
    "show(fig)"
   ]
  },
  {
   "cell_type": "code",
   "execution_count": 7,
   "metadata": {},
   "outputs": [
    {
     "data": {
      "text/html": [
       "\n",
       "\n",
       "\n",
       "\n",
       "\n",
       "\n",
       "  <div class=\"bk-root\" id=\"aad4021a-8d4d-4be2-a286-712ef802e42e\" data-root-id=\"1596\"></div>\n"
      ]
     },
     "metadata": {},
     "output_type": "display_data"
    },
    {
     "data": {
      "application/javascript": [
       "(function(root) {\n",
       "  function embed_document(root) {\n",
       "    \n",
       "  var docs_json = {\"b705a541-4e55-477f-81e8-5c07e884506a\":{\"roots\":{\"references\":[{\"attributes\":{\"below\":[{\"id\":\"1605\",\"type\":\"LinearAxis\"}],\"left\":[{\"id\":\"1610\",\"type\":\"LinearAxis\"}],\"plot_height\":300,\"plot_width\":300,\"renderers\":[{\"id\":\"1605\",\"type\":\"LinearAxis\"},{\"id\":\"1609\",\"type\":\"Grid\"},{\"id\":\"1610\",\"type\":\"LinearAxis\"},{\"id\":\"1614\",\"type\":\"Grid\"},{\"id\":\"1623\",\"type\":\"BoxAnnotation\"},{\"id\":\"1633\",\"type\":\"GlyphRenderer\"},{\"id\":\"1638\",\"type\":\"GlyphRenderer\"}],\"title\":{\"id\":\"1684\",\"type\":\"Title\"},\"toolbar\":{\"id\":\"1621\",\"type\":\"Toolbar\"},\"x_range\":{\"id\":\"1597\",\"type\":\"DataRange1d\"},\"x_scale\":{\"id\":\"1601\",\"type\":\"LinearScale\"},\"y_range\":{\"id\":\"1599\",\"type\":\"DataRange1d\"},\"y_scale\":{\"id\":\"1603\",\"type\":\"LinearScale\"}},\"id\":\"1596\",\"subtype\":\"Figure\",\"type\":\"Plot\"},{\"attributes\":{\"callback\":null},\"id\":\"1599\",\"type\":\"DataRange1d\"},{\"attributes\":{\"line_alpha\":0.1,\"line_color\":\"#1f77b4\",\"x\":{\"field\":\"x\"},\"y\":{\"field\":\"y\"}},\"id\":\"1637\",\"type\":\"Line\"},{\"attributes\":{},\"id\":\"1616\",\"type\":\"WheelZoomTool\"},{\"attributes\":{\"data_source\":{\"id\":\"1635\",\"type\":\"ColumnDataSource\"},\"glyph\":{\"id\":\"1636\",\"type\":\"Line\"},\"hover_glyph\":null,\"muted_glyph\":null,\"nonselection_glyph\":{\"id\":\"1637\",\"type\":\"Line\"},\"selection_glyph\":null,\"view\":{\"id\":\"1639\",\"type\":\"CDSView\"}},\"id\":\"1638\",\"type\":\"GlyphRenderer\"},{\"attributes\":{},\"id\":\"1603\",\"type\":\"LinearScale\"},{\"attributes\":{\"source\":{\"id\":\"1630\",\"type\":\"ColumnDataSource\"}},\"id\":\"1634\",\"type\":\"CDSView\"},{\"attributes\":{\"callback\":null,\"data\":{\"size\":[10,30,20],\"x\":[1,2,3],\"y\":[1,2,3]},\"selected\":{\"id\":\"1691\",\"type\":\"Selection\"},\"selection_policy\":{\"id\":\"1690\",\"type\":\"UnionRenderers\"}},\"id\":\"1630\",\"type\":\"ColumnDataSource\"},{\"attributes\":{\"source\":{\"id\":\"1635\",\"type\":\"ColumnDataSource\"}},\"id\":\"1639\",\"type\":\"CDSView\"},{\"attributes\":{\"formatter\":{\"id\":\"1688\",\"type\":\"BasicTickFormatter\"},\"plot\":{\"id\":\"1596\",\"subtype\":\"Figure\",\"type\":\"Plot\"},\"ticker\":{\"id\":\"1611\",\"type\":\"BasicTicker\"}},\"id\":\"1610\",\"type\":\"LinearAxis\"},{\"attributes\":{},\"id\":\"1688\",\"type\":\"BasicTickFormatter\"},{\"attributes\":{\"plot\":{\"id\":\"1596\",\"subtype\":\"Figure\",\"type\":\"Plot\"},\"ticker\":{\"id\":\"1606\",\"type\":\"BasicTicker\"}},\"id\":\"1609\",\"type\":\"Grid\"},{\"attributes\":{},\"id\":\"1601\",\"type\":\"LinearScale\"},{\"attributes\":{\"callback\":null},\"id\":\"1597\",\"type\":\"DataRange1d\"},{\"attributes\":{},\"id\":\"1690\",\"type\":\"UnionRenderers\"},{\"attributes\":{},\"id\":\"1606\",\"type\":\"BasicTicker\"},{\"attributes\":{},\"id\":\"1691\",\"type\":\"Selection\"},{\"attributes\":{\"formatter\":{\"id\":\"1686\",\"type\":\"BasicTickFormatter\"},\"plot\":{\"id\":\"1596\",\"subtype\":\"Figure\",\"type\":\"Plot\"},\"ticker\":{\"id\":\"1606\",\"type\":\"BasicTicker\"}},\"id\":\"1605\",\"type\":\"LinearAxis\"},{\"attributes\":{},\"id\":\"1615\",\"type\":\"PanTool\"},{\"attributes\":{},\"id\":\"1692\",\"type\":\"UnionRenderers\"},{\"attributes\":{\"plot\":null,\"text\":\"\"},\"id\":\"1684\",\"type\":\"Title\"},{\"attributes\":{},\"id\":\"1693\",\"type\":\"Selection\"},{\"attributes\":{\"data_source\":{\"id\":\"1630\",\"type\":\"ColumnDataSource\"},\"glyph\":{\"id\":\"1631\",\"type\":\"Triangle\"},\"hover_glyph\":null,\"muted_glyph\":null,\"nonselection_glyph\":{\"id\":\"1632\",\"type\":\"Triangle\"},\"selection_glyph\":null,\"view\":{\"id\":\"1634\",\"type\":\"CDSView\"}},\"id\":\"1633\",\"type\":\"GlyphRenderer\"},{\"attributes\":{\"callback\":null,\"data\":{\"x\":[1,2,3],\"y\":[1,2,3]},\"selected\":{\"id\":\"1693\",\"type\":\"Selection\"},\"selection_policy\":{\"id\":\"1692\",\"type\":\"UnionRenderers\"}},\"id\":\"1635\",\"type\":\"ColumnDataSource\"},{\"attributes\":{\"fill_color\":{\"value\":\"#666666\"},\"line_color\":{\"value\":\"#666666\"},\"line_width\":{\"value\":2},\"size\":{\"field\":\"size\",\"units\":\"screen\"},\"x\":{\"field\":\"x\"},\"y\":{\"field\":\"y\"}},\"id\":\"1631\",\"type\":\"Triangle\"},{\"attributes\":{\"dimension\":1,\"plot\":{\"id\":\"1596\",\"subtype\":\"Figure\",\"type\":\"Plot\"},\"ticker\":{\"id\":\"1611\",\"type\":\"BasicTicker\"}},\"id\":\"1614\",\"type\":\"Grid\"},{\"attributes\":{},\"id\":\"1611\",\"type\":\"BasicTicker\"},{\"attributes\":{\"bottom_units\":\"screen\",\"fill_alpha\":{\"value\":0.5},\"fill_color\":{\"value\":\"lightgrey\"},\"left_units\":\"screen\",\"level\":\"overlay\",\"line_alpha\":{\"value\":1.0},\"line_color\":{\"value\":\"black\"},\"line_dash\":[4,4],\"line_width\":{\"value\":2},\"plot\":null,\"render_mode\":\"css\",\"right_units\":\"screen\",\"top_units\":\"screen\"},\"id\":\"1623\",\"type\":\"BoxAnnotation\"},{\"attributes\":{},\"id\":\"1686\",\"type\":\"BasicTickFormatter\"},{\"attributes\":{\"active_drag\":\"auto\",\"active_inspect\":\"auto\",\"active_multi\":null,\"active_scroll\":\"auto\",\"active_tap\":\"auto\",\"tools\":[{\"id\":\"1615\",\"type\":\"PanTool\"},{\"id\":\"1616\",\"type\":\"WheelZoomTool\"},{\"id\":\"1617\",\"type\":\"BoxZoomTool\"},{\"id\":\"1618\",\"type\":\"SaveTool\"},{\"id\":\"1619\",\"type\":\"ResetTool\"},{\"id\":\"1620\",\"type\":\"HelpTool\"}]},\"id\":\"1621\",\"type\":\"Toolbar\"},{\"attributes\":{\"fill_alpha\":{\"value\":0.1},\"fill_color\":{\"value\":\"#1f77b4\"},\"line_alpha\":{\"value\":0.1},\"line_color\":{\"value\":\"#1f77b4\"},\"line_width\":{\"value\":2},\"size\":{\"field\":\"size\",\"units\":\"screen\"},\"x\":{\"field\":\"x\"},\"y\":{\"field\":\"y\"}},\"id\":\"1632\",\"type\":\"Triangle\"},{\"attributes\":{\"overlay\":{\"id\":\"1623\",\"type\":\"BoxAnnotation\"}},\"id\":\"1617\",\"type\":\"BoxZoomTool\"},{\"attributes\":{},\"id\":\"1618\",\"type\":\"SaveTool\"},{\"attributes\":{\"line_color\":\"#1f77b4\",\"x\":{\"field\":\"x\"},\"y\":{\"field\":\"y\"}},\"id\":\"1636\",\"type\":\"Line\"},{\"attributes\":{},\"id\":\"1619\",\"type\":\"ResetTool\"},{\"attributes\":{},\"id\":\"1620\",\"type\":\"HelpTool\"}],\"root_ids\":[\"1596\"]},\"title\":\"Bokeh Application\",\"version\":\"1.0.4\"}};\n",
       "  var render_items = [{\"docid\":\"b705a541-4e55-477f-81e8-5c07e884506a\",\"roots\":{\"1596\":\"aad4021a-8d4d-4be2-a286-712ef802e42e\"}}];\n",
       "  root.Bokeh.embed.embed_items_notebook(docs_json, render_items);\n",
       "\n",
       "  }\n",
       "  if (root.Bokeh !== undefined) {\n",
       "    embed_document(root);\n",
       "  } else {\n",
       "    var attempts = 0;\n",
       "    var timer = setInterval(function(root) {\n",
       "      if (root.Bokeh !== undefined) {\n",
       "        embed_document(root);\n",
       "        clearInterval(timer);\n",
       "      }\n",
       "      attempts++;\n",
       "      if (attempts > 100) {\n",
       "        console.log(\"Bokeh: ERROR: Unable to run BokehJS code because BokehJS library is missing\");\n",
       "        clearInterval(timer);\n",
       "      }\n",
       "    }, 10, root)\n",
       "  }\n",
       "})(window);"
      ],
      "application/vnd.bokehjs_exec.v0+json": ""
     },
     "metadata": {
      "application/vnd.bokehjs_exec.v0+json": {
       "id": "1596"
      }
     },
     "output_type": "display_data"
    }
   ],
   "source": [
    "from bokeh.plotting import figure, show\n",
    "\n",
    "fig = figure(plot_width=300, plot_height=300)\n",
    "fig.triangle(x=[1, 2, 3], y=[1, 2, 3], size=[10, 30, 20],\n",
    "              color=\"#666666\", line_width=2)\n",
    "fig.line(x=[1,2,3], y=[1,2,3])\n",
    "show(fig)"
   ]
  },
  {
   "cell_type": "code",
   "execution_count": 8,
   "metadata": {},
   "outputs": [
    {
     "data": {
      "text/html": [
       "\n",
       "\n",
       "\n",
       "\n",
       "\n",
       "\n",
       "  <div class=\"bk-root\" id=\"dd86b846-e6fc-48b5-a60d-99c3afcb46f4\" data-root-id=\"1761\"></div>\n"
      ]
     },
     "metadata": {},
     "output_type": "display_data"
    },
    {
     "data": {
      "application/javascript": [
       "(function(root) {\n",
       "  function embed_document(root) {\n",
       "    \n",
       "  var docs_json = {\"d09021fd-ee8a-44c9-a3dc-74151cc25d0b\":{\"roots\":{\"references\":[{\"attributes\":{\"below\":[{\"id\":\"1770\",\"type\":\"LinearAxis\"}],\"left\":[{\"id\":\"1775\",\"type\":\"LinearAxis\"}],\"plot_height\":300,\"plot_width\":300,\"renderers\":[{\"id\":\"1770\",\"type\":\"LinearAxis\"},{\"id\":\"1774\",\"type\":\"Grid\"},{\"id\":\"1775\",\"type\":\"LinearAxis\"},{\"id\":\"1779\",\"type\":\"Grid\"},{\"id\":\"1788\",\"type\":\"BoxAnnotation\"},{\"id\":\"1798\",\"type\":\"GlyphRenderer\"}],\"title\":{\"id\":\"1855\",\"type\":\"Title\"},\"toolbar\":{\"id\":\"1786\",\"type\":\"Toolbar\"},\"x_range\":{\"id\":\"1762\",\"type\":\"DataRange1d\"},\"x_scale\":{\"id\":\"1766\",\"type\":\"LinearScale\"},\"y_range\":{\"id\":\"1764\",\"type\":\"DataRange1d\"},\"y_scale\":{\"id\":\"1768\",\"type\":\"LinearScale\"}},\"id\":\"1761\",\"subtype\":\"Figure\",\"type\":\"Plot\"},{\"attributes\":{},\"id\":\"1783\",\"type\":\"SaveTool\"},{\"attributes\":{},\"id\":\"1766\",\"type\":\"LinearScale\"},{\"attributes\":{\"callback\":null,\"data\":{\"x\":[1,3,2],\"y\":[1,2,3]},\"selected\":{\"id\":\"1862\",\"type\":\"Selection\"},\"selection_policy\":{\"id\":\"1861\",\"type\":\"UnionRenderers\"}},\"id\":\"1795\",\"type\":\"ColumnDataSource\"},{\"attributes\":{},\"id\":\"1857\",\"type\":\"BasicTickFormatter\"},{\"attributes\":{\"overlay\":{\"id\":\"1788\",\"type\":\"BoxAnnotation\"}},\"id\":\"1782\",\"type\":\"BoxZoomTool\"},{\"attributes\":{\"callback\":null},\"id\":\"1762\",\"type\":\"DataRange1d\"},{\"attributes\":{\"plot\":null,\"text\":\"\"},\"id\":\"1855\",\"type\":\"Title\"},{\"attributes\":{},\"id\":\"1862\",\"type\":\"Selection\"},{\"attributes\":{},\"id\":\"1781\",\"type\":\"WheelZoomTool\"},{\"attributes\":{\"data_source\":{\"id\":\"1795\",\"type\":\"ColumnDataSource\"},\"glyph\":{\"id\":\"1796\",\"type\":\"Patch\"},\"hover_glyph\":null,\"muted_glyph\":null,\"nonselection_glyph\":{\"id\":\"1797\",\"type\":\"Patch\"},\"selection_glyph\":null,\"view\":{\"id\":\"1799\",\"type\":\"CDSView\"}},\"id\":\"1798\",\"type\":\"GlyphRenderer\"},{\"attributes\":{\"source\":{\"id\":\"1795\",\"type\":\"ColumnDataSource\"}},\"id\":\"1799\",\"type\":\"CDSView\"},{\"attributes\":{\"bottom_units\":\"screen\",\"fill_alpha\":{\"value\":0.5},\"fill_color\":{\"value\":\"lightgrey\"},\"left_units\":\"screen\",\"level\":\"overlay\",\"line_alpha\":{\"value\":1.0},\"line_color\":{\"value\":\"black\"},\"line_dash\":[4,4],\"line_width\":{\"value\":2},\"plot\":null,\"render_mode\":\"css\",\"right_units\":\"screen\",\"top_units\":\"screen\"},\"id\":\"1788\",\"type\":\"BoxAnnotation\"},{\"attributes\":{},\"id\":\"1768\",\"type\":\"LinearScale\"},{\"attributes\":{\"formatter\":{\"id\":\"1859\",\"type\":\"BasicTickFormatter\"},\"plot\":{\"id\":\"1761\",\"subtype\":\"Figure\",\"type\":\"Plot\"},\"ticker\":{\"id\":\"1776\",\"type\":\"BasicTicker\"}},\"id\":\"1775\",\"type\":\"LinearAxis\"},{\"attributes\":{},\"id\":\"1861\",\"type\":\"UnionRenderers\"},{\"attributes\":{},\"id\":\"1771\",\"type\":\"BasicTicker\"},{\"attributes\":{\"active_drag\":\"auto\",\"active_inspect\":\"auto\",\"active_multi\":null,\"active_scroll\":\"auto\",\"active_tap\":\"auto\",\"tools\":[{\"id\":\"1780\",\"type\":\"PanTool\"},{\"id\":\"1781\",\"type\":\"WheelZoomTool\"},{\"id\":\"1782\",\"type\":\"BoxZoomTool\"},{\"id\":\"1783\",\"type\":\"SaveTool\"},{\"id\":\"1784\",\"type\":\"ResetTool\"},{\"id\":\"1785\",\"type\":\"HelpTool\"}]},\"id\":\"1786\",\"type\":\"Toolbar\"},{\"attributes\":{\"formatter\":{\"id\":\"1857\",\"type\":\"BasicTickFormatter\"},\"plot\":{\"id\":\"1761\",\"subtype\":\"Figure\",\"type\":\"Plot\"},\"ticker\":{\"id\":\"1771\",\"type\":\"BasicTicker\"}},\"id\":\"1770\",\"type\":\"LinearAxis\"},{\"attributes\":{\"callback\":null},\"id\":\"1764\",\"type\":\"DataRange1d\"},{\"attributes\":{\"plot\":{\"id\":\"1761\",\"subtype\":\"Figure\",\"type\":\"Plot\"},\"ticker\":{\"id\":\"1771\",\"type\":\"BasicTicker\"}},\"id\":\"1774\",\"type\":\"Grid\"},{\"attributes\":{},\"id\":\"1785\",\"type\":\"HelpTool\"},{\"attributes\":{\"fill_color\":\"#090909\",\"line_color\":\"#090909\",\"x\":{\"field\":\"x\"},\"y\":{\"field\":\"y\"}},\"id\":\"1796\",\"type\":\"Patch\"},{\"attributes\":{},\"id\":\"1780\",\"type\":\"PanTool\"},{\"attributes\":{\"fill_alpha\":0.1,\"fill_color\":\"#1f77b4\",\"line_alpha\":0.1,\"line_color\":\"#1f77b4\",\"x\":{\"field\":\"x\"},\"y\":{\"field\":\"y\"}},\"id\":\"1797\",\"type\":\"Patch\"},{\"attributes\":{},\"id\":\"1784\",\"type\":\"ResetTool\"},{\"attributes\":{\"dimension\":1,\"plot\":{\"id\":\"1761\",\"subtype\":\"Figure\",\"type\":\"Plot\"},\"ticker\":{\"id\":\"1776\",\"type\":\"BasicTicker\"}},\"id\":\"1779\",\"type\":\"Grid\"},{\"attributes\":{},\"id\":\"1859\",\"type\":\"BasicTickFormatter\"},{\"attributes\":{},\"id\":\"1776\",\"type\":\"BasicTicker\"}],\"root_ids\":[\"1761\"]},\"title\":\"Bokeh Application\",\"version\":\"1.0.4\"}};\n",
       "  var render_items = [{\"docid\":\"d09021fd-ee8a-44c9-a3dc-74151cc25d0b\",\"roots\":{\"1761\":\"dd86b846-e6fc-48b5-a60d-99c3afcb46f4\"}}];\n",
       "  root.Bokeh.embed.embed_items_notebook(docs_json, render_items);\n",
       "\n",
       "  }\n",
       "  if (root.Bokeh !== undefined) {\n",
       "    embed_document(root);\n",
       "  } else {\n",
       "    var attempts = 0;\n",
       "    var timer = setInterval(function(root) {\n",
       "      if (root.Bokeh !== undefined) {\n",
       "        embed_document(root);\n",
       "        clearInterval(timer);\n",
       "      }\n",
       "      attempts++;\n",
       "      if (attempts > 100) {\n",
       "        console.log(\"Bokeh: ERROR: Unable to run BokehJS code because BokehJS library is missing\");\n",
       "        clearInterval(timer);\n",
       "      }\n",
       "    }, 10, root)\n",
       "  }\n",
       "})(window);"
      ],
      "application/vnd.bokehjs_exec.v0+json": ""
     },
     "metadata": {
      "application/vnd.bokehjs_exec.v0+json": {
       "id": "1761"
      }
     },
     "output_type": "display_data"
    }
   ],
   "source": [
    "from bokeh.plotting import figure, show\n",
    "p = figure(plot_width=300, plot_height=300)\n",
    "p.patch(x=[1, 3, 2], y=[1, 2, 3], color=\"#090909\")\n",
    "show(p)"
   ]
  },
  {
   "cell_type": "code",
   "execution_count": 9,
   "metadata": {},
   "outputs": [
    {
     "data": {
      "text/html": [
       "\n",
       "\n",
       "\n",
       "\n",
       "\n",
       "\n",
       "  <div class=\"bk-root\" id=\"2aa8537e-796f-4f85-b9ed-5e37d4fa2c41\" data-root-id=\"1918\"></div>\n"
      ]
     },
     "metadata": {},
     "output_type": "display_data"
    },
    {
     "data": {
      "application/javascript": [
       "(function(root) {\n",
       "  function embed_document(root) {\n",
       "    \n",
       "  var docs_json = {\"62331fd7-d0f9-4420-a3ae-c82a59af18ae\":{\"roots\":{\"references\":[{\"attributes\":{\"below\":[{\"id\":\"1927\",\"type\":\"LinearAxis\"}],\"left\":[{\"id\":\"1932\",\"type\":\"LinearAxis\"}],\"plot_height\":300,\"plot_width\":300,\"renderers\":[{\"id\":\"1927\",\"type\":\"LinearAxis\"},{\"id\":\"1931\",\"type\":\"Grid\"},{\"id\":\"1932\",\"type\":\"LinearAxis\"},{\"id\":\"1936\",\"type\":\"Grid\"},{\"id\":\"1945\",\"type\":\"BoxAnnotation\"},{\"id\":\"1955\",\"type\":\"GlyphRenderer\"}],\"title\":{\"id\":\"2021\",\"type\":\"Title\"},\"toolbar\":{\"id\":\"1943\",\"type\":\"Toolbar\"},\"x_range\":{\"id\":\"1919\",\"type\":\"DataRange1d\"},\"x_scale\":{\"id\":\"1923\",\"type\":\"LinearScale\"},\"y_range\":{\"id\":\"1921\",\"type\":\"DataRange1d\"},\"y_scale\":{\"id\":\"1925\",\"type\":\"LinearScale\"}},\"id\":\"1918\",\"subtype\":\"Figure\",\"type\":\"Plot\"},{\"attributes\":{\"formatter\":{\"id\":\"2023\",\"type\":\"BasicTickFormatter\"},\"plot\":{\"id\":\"1918\",\"subtype\":\"Figure\",\"type\":\"Plot\"},\"ticker\":{\"id\":\"1928\",\"type\":\"BasicTicker\"}},\"id\":\"1927\",\"type\":\"LinearAxis\"},{\"attributes\":{\"source\":{\"id\":\"1952\",\"type\":\"ColumnDataSource\"}},\"id\":\"1956\",\"type\":\"CDSView\"},{\"attributes\":{},\"id\":\"1928\",\"type\":\"BasicTicker\"},{\"attributes\":{\"plot\":{\"id\":\"1918\",\"subtype\":\"Figure\",\"type\":\"Plot\"},\"ticker\":{\"id\":\"1928\",\"type\":\"BasicTicker\"}},\"id\":\"1931\",\"type\":\"Grid\"},{\"attributes\":{},\"id\":\"2023\",\"type\":\"BasicTickFormatter\"},{\"attributes\":{\"callback\":null,\"data\":{\"x\":[1,1,1.5,3,2.5],\"y\":[1,2,2,3,2]},\"selected\":{\"id\":\"2028\",\"type\":\"Selection\"},\"selection_policy\":{\"id\":\"2027\",\"type\":\"UnionRenderers\"}},\"id\":\"1952\",\"type\":\"ColumnDataSource\"},{\"attributes\":{},\"id\":\"2025\",\"type\":\"BasicTickFormatter\"},{\"attributes\":{\"formatter\":{\"id\":\"2025\",\"type\":\"BasicTickFormatter\"},\"plot\":{\"id\":\"1918\",\"subtype\":\"Figure\",\"type\":\"Plot\"},\"ticker\":{\"id\":\"1933\",\"type\":\"BasicTicker\"}},\"id\":\"1932\",\"type\":\"LinearAxis\"},{\"attributes\":{},\"id\":\"2027\",\"type\":\"UnionRenderers\"},{\"attributes\":{},\"id\":\"1933\",\"type\":\"BasicTicker\"},{\"attributes\":{},\"id\":\"2028\",\"type\":\"Selection\"},{\"attributes\":{\"dimension\":1,\"plot\":{\"id\":\"1918\",\"subtype\":\"Figure\",\"type\":\"Plot\"},\"ticker\":{\"id\":\"1933\",\"type\":\"BasicTicker\"}},\"id\":\"1936\",\"type\":\"Grid\"},{\"attributes\":{\"plot\":null,\"text\":\"\"},\"id\":\"2021\",\"type\":\"Title\"},{\"attributes\":{\"fill_alpha\":0.1,\"fill_color\":\"#1f77b4\",\"line_alpha\":0.1,\"line_color\":\"#1f77b4\",\"x\":{\"field\":\"x\"},\"y\":{\"field\":\"y\"}},\"id\":\"1954\",\"type\":\"Patch\"},{\"attributes\":{\"fill_color\":\"red\",\"line_color\":\"red\",\"x\":{\"field\":\"x\"},\"y\":{\"field\":\"y\"}},\"id\":\"1953\",\"type\":\"Patch\"},{\"attributes\":{},\"id\":\"1925\",\"type\":\"LinearScale\"},{\"attributes\":{},\"id\":\"1937\",\"type\":\"PanTool\"},{\"attributes\":{},\"id\":\"1938\",\"type\":\"WheelZoomTool\"},{\"attributes\":{\"overlay\":{\"id\":\"1945\",\"type\":\"BoxAnnotation\"}},\"id\":\"1939\",\"type\":\"BoxZoomTool\"},{\"attributes\":{},\"id\":\"1940\",\"type\":\"SaveTool\"},{\"attributes\":{\"callback\":null},\"id\":\"1921\",\"type\":\"DataRange1d\"},{\"attributes\":{},\"id\":\"1941\",\"type\":\"ResetTool\"},{\"attributes\":{},\"id\":\"1923\",\"type\":\"LinearScale\"},{\"attributes\":{},\"id\":\"1942\",\"type\":\"HelpTool\"},{\"attributes\":{\"active_drag\":\"auto\",\"active_inspect\":\"auto\",\"active_multi\":null,\"active_scroll\":\"auto\",\"active_tap\":\"auto\",\"tools\":[{\"id\":\"1937\",\"type\":\"PanTool\"},{\"id\":\"1938\",\"type\":\"WheelZoomTool\"},{\"id\":\"1939\",\"type\":\"BoxZoomTool\"},{\"id\":\"1940\",\"type\":\"SaveTool\"},{\"id\":\"1941\",\"type\":\"ResetTool\"},{\"id\":\"1942\",\"type\":\"HelpTool\"}]},\"id\":\"1943\",\"type\":\"Toolbar\"},{\"attributes\":{\"data_source\":{\"id\":\"1952\",\"type\":\"ColumnDataSource\"},\"glyph\":{\"id\":\"1953\",\"type\":\"Patch\"},\"hover_glyph\":null,\"muted_glyph\":null,\"nonselection_glyph\":{\"id\":\"1954\",\"type\":\"Patch\"},\"selection_glyph\":null,\"view\":{\"id\":\"1956\",\"type\":\"CDSView\"}},\"id\":\"1955\",\"type\":\"GlyphRenderer\"},{\"attributes\":{\"callback\":null},\"id\":\"1919\",\"type\":\"DataRange1d\"},{\"attributes\":{\"bottom_units\":\"screen\",\"fill_alpha\":{\"value\":0.5},\"fill_color\":{\"value\":\"lightgrey\"},\"left_units\":\"screen\",\"level\":\"overlay\",\"line_alpha\":{\"value\":1.0},\"line_color\":{\"value\":\"black\"},\"line_dash\":[4,4],\"line_width\":{\"value\":2},\"plot\":null,\"render_mode\":\"css\",\"right_units\":\"screen\",\"top_units\":\"screen\"},\"id\":\"1945\",\"type\":\"BoxAnnotation\"}],\"root_ids\":[\"1918\"]},\"title\":\"Bokeh Application\",\"version\":\"1.0.4\"}};\n",
       "  var render_items = [{\"docid\":\"62331fd7-d0f9-4420-a3ae-c82a59af18ae\",\"roots\":{\"1918\":\"2aa8537e-796f-4f85-b9ed-5e37d4fa2c41\"}}];\n",
       "  root.Bokeh.embed.embed_items_notebook(docs_json, render_items);\n",
       "\n",
       "  }\n",
       "  if (root.Bokeh !== undefined) {\n",
       "    embed_document(root);\n",
       "  } else {\n",
       "    var attempts = 0;\n",
       "    var timer = setInterval(function(root) {\n",
       "      if (root.Bokeh !== undefined) {\n",
       "        embed_document(root);\n",
       "        clearInterval(timer);\n",
       "      }\n",
       "      attempts++;\n",
       "      if (attempts > 100) {\n",
       "        console.log(\"Bokeh: ERROR: Unable to run BokehJS code because BokehJS library is missing\");\n",
       "        clearInterval(timer);\n",
       "      }\n",
       "    }, 10, root)\n",
       "  }\n",
       "})(window);"
      ],
      "application/vnd.bokehjs_exec.v0+json": ""
     },
     "metadata": {
      "application/vnd.bokehjs_exec.v0+json": {
       "id": "1918"
      }
     },
     "output_type": "display_data"
    }
   ],
   "source": [
    "p = figure(plot_width=300, plot_height=300)\n",
    "p.patch(x=[1, 1, 1.5, 3, 2.5], y=[1, 2, 2, 3,2], color=\"red\")\n",
    "show(p)"
   ]
  },
  {
   "cell_type": "code",
   "execution_count": 10,
   "metadata": {},
   "outputs": [
    {
     "data": {
      "text/html": [
       "\n",
       "\n",
       "\n",
       "\n",
       "\n",
       "\n",
       "  <div class=\"bk-root\" id=\"e86eb3a0-7e1d-4cc5-b8da-9a26f86996cc\" data-root-id=\"2084\"></div>\n"
      ]
     },
     "metadata": {},
     "output_type": "display_data"
    },
    {
     "data": {
      "application/javascript": [
       "(function(root) {\n",
       "  function embed_document(root) {\n",
       "    \n",
       "  var docs_json = {\"c142ce4b-49fa-4b42-97e4-27a86d450a2f\":{\"roots\":{\"references\":[{\"attributes\":{\"below\":[{\"id\":\"2093\",\"type\":\"LinearAxis\"}],\"left\":[{\"id\":\"2098\",\"type\":\"LinearAxis\"}],\"plot_height\":300,\"plot_width\":300,\"renderers\":[{\"id\":\"2093\",\"type\":\"LinearAxis\"},{\"id\":\"2097\",\"type\":\"Grid\"},{\"id\":\"2098\",\"type\":\"LinearAxis\"},{\"id\":\"2102\",\"type\":\"Grid\"},{\"id\":\"2111\",\"type\":\"BoxAnnotation\"},{\"id\":\"2121\",\"type\":\"GlyphRenderer\"}],\"title\":{\"id\":\"2196\",\"type\":\"Title\"},\"toolbar\":{\"id\":\"2109\",\"type\":\"Toolbar\"},\"x_range\":{\"id\":\"2085\",\"type\":\"DataRange1d\"},\"x_scale\":{\"id\":\"2089\",\"type\":\"LinearScale\"},\"y_range\":{\"id\":\"2087\",\"type\":\"DataRange1d\"},\"y_scale\":{\"id\":\"2091\",\"type\":\"LinearScale\"}},\"id\":\"2084\",\"subtype\":\"Figure\",\"type\":\"Plot\"},{\"attributes\":{\"formatter\":{\"id\":\"2198\",\"type\":\"BasicTickFormatter\"},\"plot\":{\"id\":\"2084\",\"subtype\":\"Figure\",\"type\":\"Plot\"},\"ticker\":{\"id\":\"2094\",\"type\":\"BasicTicker\"}},\"id\":\"2093\",\"type\":\"LinearAxis\"},{\"attributes\":{\"source\":{\"id\":\"2118\",\"type\":\"ColumnDataSource\"}},\"id\":\"2122\",\"type\":\"CDSView\"},{\"attributes\":{},\"id\":\"2094\",\"type\":\"BasicTicker\"},{\"attributes\":{\"plot\":{\"id\":\"2084\",\"subtype\":\"Figure\",\"type\":\"Plot\"},\"ticker\":{\"id\":\"2094\",\"type\":\"BasicTicker\"}},\"id\":\"2097\",\"type\":\"Grid\"},{\"attributes\":{},\"id\":\"2200\",\"type\":\"BasicTickFormatter\"},{\"attributes\":{\"formatter\":{\"id\":\"2200\",\"type\":\"BasicTickFormatter\"},\"plot\":{\"id\":\"2084\",\"subtype\":\"Figure\",\"type\":\"Plot\"},\"ticker\":{\"id\":\"2099\",\"type\":\"BasicTicker\"}},\"id\":\"2098\",\"type\":\"LinearAxis\"},{\"attributes\":{},\"id\":\"2202\",\"type\":\"UnionRenderers\"},{\"attributes\":{\"callback\":null},\"id\":\"2087\",\"type\":\"DataRange1d\"},{\"attributes\":{},\"id\":\"2099\",\"type\":\"BasicTicker\"},{\"attributes\":{},\"id\":\"2203\",\"type\":\"Selection\"},{\"attributes\":{\"dimension\":1,\"plot\":{\"id\":\"2084\",\"subtype\":\"Figure\",\"type\":\"Plot\"},\"ticker\":{\"id\":\"2099\",\"type\":\"BasicTicker\"}},\"id\":\"2102\",\"type\":\"Grid\"},{\"attributes\":{\"callback\":null,\"data\":{\"fill_color\":[\"gray\",\"#010199\"],\"line_color\":[\"gray\",\"#010199\"],\"xs\":[[1,1,3],[1,3,5,3]],\"ys\":[[1,2,1],[2,2,4,4]]},\"selected\":{\"id\":\"2203\",\"type\":\"Selection\"},\"selection_policy\":{\"id\":\"2202\",\"type\":\"UnionRenderers\"}},\"id\":\"2118\",\"type\":\"ColumnDataSource\"},{\"attributes\":{\"fill_alpha\":{\"value\":0.1},\"fill_color\":{\"value\":\"#1f77b4\"},\"line_alpha\":{\"value\":0.1},\"line_color\":{\"value\":\"#1f77b4\"},\"xs\":{\"field\":\"xs\"},\"ys\":{\"field\":\"ys\"}},\"id\":\"2120\",\"type\":\"Patches\"},{\"attributes\":{\"plot\":null,\"text\":\"\"},\"id\":\"2196\",\"type\":\"Title\"},{\"attributes\":{\"fill_color\":{\"field\":\"fill_color\"},\"line_color\":{\"field\":\"line_color\"},\"xs\":{\"field\":\"xs\"},\"ys\":{\"field\":\"ys\"}},\"id\":\"2119\",\"type\":\"Patches\"},{\"attributes\":{},\"id\":\"2103\",\"type\":\"PanTool\"},{\"attributes\":{\"callback\":null},\"id\":\"2085\",\"type\":\"DataRange1d\"},{\"attributes\":{},\"id\":\"2104\",\"type\":\"WheelZoomTool\"},{\"attributes\":{\"overlay\":{\"id\":\"2111\",\"type\":\"BoxAnnotation\"}},\"id\":\"2105\",\"type\":\"BoxZoomTool\"},{\"attributes\":{},\"id\":\"2091\",\"type\":\"LinearScale\"},{\"attributes\":{},\"id\":\"2106\",\"type\":\"SaveTool\"},{\"attributes\":{},\"id\":\"2107\",\"type\":\"ResetTool\"},{\"attributes\":{},\"id\":\"2108\",\"type\":\"HelpTool\"},{\"attributes\":{\"active_drag\":\"auto\",\"active_inspect\":\"auto\",\"active_multi\":null,\"active_scroll\":\"auto\",\"active_tap\":\"auto\",\"tools\":[{\"id\":\"2103\",\"type\":\"PanTool\"},{\"id\":\"2104\",\"type\":\"WheelZoomTool\"},{\"id\":\"2105\",\"type\":\"BoxZoomTool\"},{\"id\":\"2106\",\"type\":\"SaveTool\"},{\"id\":\"2107\",\"type\":\"ResetTool\"},{\"id\":\"2108\",\"type\":\"HelpTool\"}]},\"id\":\"2109\",\"type\":\"Toolbar\"},{\"attributes\":{\"data_source\":{\"id\":\"2118\",\"type\":\"ColumnDataSource\"},\"glyph\":{\"id\":\"2119\",\"type\":\"Patches\"},\"hover_glyph\":null,\"muted_glyph\":null,\"nonselection_glyph\":{\"id\":\"2120\",\"type\":\"Patches\"},\"selection_glyph\":null,\"view\":{\"id\":\"2122\",\"type\":\"CDSView\"}},\"id\":\"2121\",\"type\":\"GlyphRenderer\"},{\"attributes\":{\"bottom_units\":\"screen\",\"fill_alpha\":{\"value\":0.5},\"fill_color\":{\"value\":\"lightgrey\"},\"left_units\":\"screen\",\"level\":\"overlay\",\"line_alpha\":{\"value\":1.0},\"line_color\":{\"value\":\"black\"},\"line_dash\":[4,4],\"line_width\":{\"value\":2},\"plot\":null,\"render_mode\":\"css\",\"right_units\":\"screen\",\"top_units\":\"screen\"},\"id\":\"2111\",\"type\":\"BoxAnnotation\"},{\"attributes\":{},\"id\":\"2089\",\"type\":\"LinearScale\"},{\"attributes\":{},\"id\":\"2198\",\"type\":\"BasicTickFormatter\"}],\"root_ids\":[\"2084\"]},\"title\":\"Bokeh Application\",\"version\":\"1.0.4\"}};\n",
       "  var render_items = [{\"docid\":\"c142ce4b-49fa-4b42-97e4-27a86d450a2f\",\"roots\":{\"2084\":\"e86eb3a0-7e1d-4cc5-b8da-9a26f86996cc\"}}];\n",
       "  root.Bokeh.embed.embed_items_notebook(docs_json, render_items);\n",
       "\n",
       "  }\n",
       "  if (root.Bokeh !== undefined) {\n",
       "    embed_document(root);\n",
       "  } else {\n",
       "    var attempts = 0;\n",
       "    var timer = setInterval(function(root) {\n",
       "      if (root.Bokeh !== undefined) {\n",
       "        embed_document(root);\n",
       "        clearInterval(timer);\n",
       "      }\n",
       "      attempts++;\n",
       "      if (attempts > 100) {\n",
       "        console.log(\"Bokeh: ERROR: Unable to run BokehJS code because BokehJS library is missing\");\n",
       "        clearInterval(timer);\n",
       "      }\n",
       "    }, 10, root)\n",
       "  }\n",
       "})(window);"
      ],
      "application/vnd.bokehjs_exec.v0+json": ""
     },
     "metadata": {
      "application/vnd.bokehjs_exec.v0+json": {
       "id": "2084"
      }
     },
     "output_type": "display_data"
    }
   ],
   "source": [
    "p = figure(plot_width=300, plot_height=300)\n",
    "p.patches(xs=[[1,1,3],[1,3,5,3]], \n",
    "          ys=[[1,2,1],[2,2,4,4]],\n",
    "          color=[\"gray\", \"#010199\"])\n",
    "show(p)"
   ]
  },
  {
   "cell_type": "code",
   "execution_count": 11,
   "metadata": {},
   "outputs": [
    {
     "data": {
      "text/html": [
       "\n",
       "\n",
       "\n",
       "\n",
       "\n",
       "\n",
       "  <div class=\"bk-root\" id=\"b43fe284-9913-41d4-ac6f-f54498efce51\" data-root-id=\"2259\"></div>\n"
      ]
     },
     "metadata": {},
     "output_type": "display_data"
    },
    {
     "data": {
      "application/javascript": [
       "(function(root) {\n",
       "  function embed_document(root) {\n",
       "    \n",
       "  var docs_json = {\"87dd8b0e-5ede-4c75-b767-2de07c61770b\":{\"roots\":{\"references\":[{\"attributes\":{\"below\":[{\"id\":\"2268\",\"type\":\"LinearAxis\"}],\"left\":[{\"id\":\"2273\",\"type\":\"LinearAxis\"}],\"plot_height\":300,\"plot_width\":300,\"renderers\":[{\"id\":\"2268\",\"type\":\"LinearAxis\"},{\"id\":\"2272\",\"type\":\"Grid\"},{\"id\":\"2273\",\"type\":\"LinearAxis\"},{\"id\":\"2277\",\"type\":\"Grid\"},{\"id\":\"2286\",\"type\":\"BoxAnnotation\"},{\"id\":\"2296\",\"type\":\"GlyphRenderer\"}],\"title\":{\"id\":\"2380\",\"type\":\"Title\"},\"toolbar\":{\"id\":\"2284\",\"type\":\"Toolbar\"},\"x_range\":{\"id\":\"2260\",\"type\":\"DataRange1d\"},\"x_scale\":{\"id\":\"2264\",\"type\":\"LinearScale\"},\"y_range\":{\"id\":\"2262\",\"type\":\"DataRange1d\"},\"y_scale\":{\"id\":\"2266\",\"type\":\"LinearScale\"}},\"id\":\"2259\",\"subtype\":\"Figure\",\"type\":\"Plot\"},{\"attributes\":{\"plot\":{\"id\":\"2259\",\"subtype\":\"Figure\",\"type\":\"Plot\"},\"ticker\":{\"id\":\"2269\",\"type\":\"BasicTicker\"}},\"id\":\"2272\",\"type\":\"Grid\"},{\"attributes\":{\"bottom\":{\"field\":\"bottom\"},\"fill_alpha\":{\"value\":0.1},\"fill_color\":{\"value\":\"#1f77b4\"},\"left\":{\"field\":\"left\"},\"line_alpha\":{\"value\":0.1},\"line_color\":{\"value\":\"#1f77b4\"},\"right\":{\"field\":\"right\"},\"top\":{\"field\":\"top\"}},\"id\":\"2295\",\"type\":\"Quad\"},{\"attributes\":{},\"id\":\"2269\",\"type\":\"BasicTicker\"},{\"attributes\":{},\"id\":\"2278\",\"type\":\"PanTool\"},{\"attributes\":{},\"id\":\"2274\",\"type\":\"BasicTicker\"},{\"attributes\":{},\"id\":\"2279\",\"type\":\"WheelZoomTool\"},{\"attributes\":{\"overlay\":{\"id\":\"2286\",\"type\":\"BoxAnnotation\"}},\"id\":\"2280\",\"type\":\"BoxZoomTool\"},{\"attributes\":{},\"id\":\"2281\",\"type\":\"SaveTool\"},{\"attributes\":{},\"id\":\"2282\",\"type\":\"ResetTool\"},{\"attributes\":{},\"id\":\"2283\",\"type\":\"HelpTool\"},{\"attributes\":{\"callback\":null},\"id\":\"2260\",\"type\":\"DataRange1d\"},{\"attributes\":{\"plot\":null,\"text\":\"\"},\"id\":\"2380\",\"type\":\"Title\"},{\"attributes\":{\"active_drag\":\"auto\",\"active_inspect\":\"auto\",\"active_multi\":null,\"active_scroll\":\"auto\",\"active_tap\":\"auto\",\"tools\":[{\"id\":\"2278\",\"type\":\"PanTool\"},{\"id\":\"2279\",\"type\":\"WheelZoomTool\"},{\"id\":\"2280\",\"type\":\"BoxZoomTool\"},{\"id\":\"2281\",\"type\":\"SaveTool\"},{\"id\":\"2282\",\"type\":\"ResetTool\"},{\"id\":\"2283\",\"type\":\"HelpTool\"}]},\"id\":\"2284\",\"type\":\"Toolbar\"},{\"attributes\":{\"data_source\":{\"id\":\"2293\",\"type\":\"ColumnDataSource\"},\"glyph\":{\"id\":\"2294\",\"type\":\"Quad\"},\"hover_glyph\":null,\"muted_glyph\":null,\"nonselection_glyph\":{\"id\":\"2295\",\"type\":\"Quad\"},\"selection_glyph\":null,\"view\":{\"id\":\"2297\",\"type\":\"CDSView\"}},\"id\":\"2296\",\"type\":\"GlyphRenderer\"},{\"attributes\":{\"callback\":null,\"data\":{\"bottom\":[1,2,3],\"left\":[1,2,3],\"right\":[1.2,2.5,3.7],\"top\":[2,3,4]},\"selected\":{\"id\":\"2387\",\"type\":\"Selection\"},\"selection_policy\":{\"id\":\"2386\",\"type\":\"UnionRenderers\"}},\"id\":\"2293\",\"type\":\"ColumnDataSource\"},{\"attributes\":{\"bottom_units\":\"screen\",\"fill_alpha\":{\"value\":0.5},\"fill_color\":{\"value\":\"lightgrey\"},\"left_units\":\"screen\",\"level\":\"overlay\",\"line_alpha\":{\"value\":1.0},\"line_color\":{\"value\":\"black\"},\"line_dash\":[4,4],\"line_width\":{\"value\":2},\"plot\":null,\"render_mode\":\"css\",\"right_units\":\"screen\",\"top_units\":\"screen\"},\"id\":\"2286\",\"type\":\"BoxAnnotation\"},{\"attributes\":{\"dimension\":1,\"plot\":{\"id\":\"2259\",\"subtype\":\"Figure\",\"type\":\"Plot\"},\"ticker\":{\"id\":\"2274\",\"type\":\"BasicTicker\"}},\"id\":\"2277\",\"type\":\"Grid\"},{\"attributes\":{\"source\":{\"id\":\"2293\",\"type\":\"ColumnDataSource\"}},\"id\":\"2297\",\"type\":\"CDSView\"},{\"attributes\":{\"formatter\":{\"id\":\"2384\",\"type\":\"BasicTickFormatter\"},\"plot\":{\"id\":\"2259\",\"subtype\":\"Figure\",\"type\":\"Plot\"},\"ticker\":{\"id\":\"2274\",\"type\":\"BasicTicker\"}},\"id\":\"2273\",\"type\":\"LinearAxis\"},{\"attributes\":{},\"id\":\"2266\",\"type\":\"LinearScale\"},{\"attributes\":{\"formatter\":{\"id\":\"2382\",\"type\":\"BasicTickFormatter\"},\"plot\":{\"id\":\"2259\",\"subtype\":\"Figure\",\"type\":\"Plot\"},\"ticker\":{\"id\":\"2269\",\"type\":\"BasicTicker\"}},\"id\":\"2268\",\"type\":\"LinearAxis\"},{\"attributes\":{},\"id\":\"2264\",\"type\":\"LinearScale\"},{\"attributes\":{},\"id\":\"2382\",\"type\":\"BasicTickFormatter\"},{\"attributes\":{},\"id\":\"2384\",\"type\":\"BasicTickFormatter\"},{\"attributes\":{\"callback\":null},\"id\":\"2262\",\"type\":\"DataRange1d\"},{\"attributes\":{},\"id\":\"2386\",\"type\":\"UnionRenderers\"},{\"attributes\":{\"bottom\":{\"field\":\"bottom\"},\"fill_color\":{\"value\":\"#B3DE69\"},\"left\":{\"field\":\"left\"},\"line_color\":{\"value\":\"#B3DE69\"},\"right\":{\"field\":\"right\"},\"top\":{\"field\":\"top\"}},\"id\":\"2294\",\"type\":\"Quad\"},{\"attributes\":{},\"id\":\"2387\",\"type\":\"Selection\"}],\"root_ids\":[\"2259\"]},\"title\":\"Bokeh Application\",\"version\":\"1.0.4\"}};\n",
       "  var render_items = [{\"docid\":\"87dd8b0e-5ede-4c75-b767-2de07c61770b\",\"roots\":{\"2259\":\"b43fe284-9913-41d4-ac6f-f54498efce51\"}}];\n",
       "  root.Bokeh.embed.embed_items_notebook(docs_json, render_items);\n",
       "\n",
       "  }\n",
       "  if (root.Bokeh !== undefined) {\n",
       "    embed_document(root);\n",
       "  } else {\n",
       "    var attempts = 0;\n",
       "    var timer = setInterval(function(root) {\n",
       "      if (root.Bokeh !== undefined) {\n",
       "        embed_document(root);\n",
       "        clearInterval(timer);\n",
       "      }\n",
       "      attempts++;\n",
       "      if (attempts > 100) {\n",
       "        console.log(\"Bokeh: ERROR: Unable to run BokehJS code because BokehJS library is missing\");\n",
       "        clearInterval(timer);\n",
       "      }\n",
       "    }, 10, root)\n",
       "  }\n",
       "})(window);"
      ],
      "application/vnd.bokehjs_exec.v0+json": ""
     },
     "metadata": {
      "application/vnd.bokehjs_exec.v0+json": {
       "id": "2259"
      }
     },
     "output_type": "display_data"
    }
   ],
   "source": [
    "plot = figure(plot_width=300, plot_height=300)\n",
    "plot.quad(top=[2, 3, 4], bottom=[1, 2, 3], left=[1, 2, 3],\n",
    "          right=[1.2, 2.5, 3.7], color=\"#B3DE69\")\n",
    "show(plot)"
   ]
  },
  {
   "cell_type": "code",
   "execution_count": 12,
   "metadata": {},
   "outputs": [
    {
     "data": {
      "text/html": [
       "\n",
       "\n",
       "\n",
       "\n",
       "\n",
       "\n",
       "  <div class=\"bk-root\" id=\"7b8b6e18-c3f1-468a-8f72-36cb25a6be11\" data-root-id=\"2444\"></div>\n"
      ]
     },
     "metadata": {},
     "output_type": "display_data"
    },
    {
     "data": {
      "application/javascript": [
       "(function(root) {\n",
       "  function embed_document(root) {\n",
       "    \n",
       "  var docs_json = {\"000a5207-f29b-4148-b086-ea7ac0511352\":{\"roots\":{\"references\":[{\"attributes\":{\"below\":[{\"id\":\"2454\",\"type\":\"LinearAxis\"}],\"left\":[{\"id\":\"2459\",\"type\":\"LinearAxis\"}],\"renderers\":[{\"id\":\"2454\",\"type\":\"LinearAxis\"},{\"id\":\"2458\",\"type\":\"Grid\"},{\"id\":\"2459\",\"type\":\"LinearAxis\"},{\"id\":\"2463\",\"type\":\"Grid\"},{\"id\":\"2472\",\"type\":\"BoxAnnotation\"},{\"id\":\"2482\",\"type\":\"GlyphRenderer\"}],\"title\":{\"id\":\"2443\",\"type\":\"Title\"},\"toolbar\":{\"id\":\"2470\",\"type\":\"Toolbar\"},\"x_range\":{\"id\":\"2446\",\"type\":\"DataRange1d\"},\"x_scale\":{\"id\":\"2450\",\"type\":\"LinearScale\"},\"y_range\":{\"id\":\"2448\",\"type\":\"DataRange1d\"},\"y_scale\":{\"id\":\"2452\",\"type\":\"LinearScale\"}},\"id\":\"2444\",\"subtype\":\"Figure\",\"type\":\"Plot\"},{\"attributes\":{\"callback\":null,\"data\":{\"left\":{\"__ndarray__\":\"G0GG80qV+r/iPEKuj5r5v6k4/mjUn/i/cDS6Ixml9784MHbeXar2v/4rMpmir/W/xifuU+e09L+NI6oOLLrzv1QfZslwv/K/GxsihLXE8b/iFt4++snwv1MlNPN9nu+/4RysaAep7b9vFCTekLPrv/4LnFMavum/jAMUyaPI578a+4s+LdPlv6jyA7S23eO/Nup7KUDo4b+Iw+c9k+Xfv6Sy1yim+tu/xKHHE7kP2L/gkLf+yyTUv/x/p+neOdC/MN4uqeOdyL9ovA5/CcjAv0A13ale5LG/gI3nrFLFgb+go0b9E+aqP2CV41K+Hr0/eOyRUzllxj9ADrJ9EzvOPwQY6dN2CNM/5Cj56GPz1j/MOQn+UN7aP6xKGRM+yd4/yq0UlBVa4T86tpwejE/jP66+JKkCReU/HsesM3k65z+SzzS+7y/pPwLYvEhmJes/cuBE09wa7T/m6MxdUxDvP6t4KvTkgvA/5XxuOaB98T8dgbJ+W3jyP1eF9sMWc/M/j4k6CdJt9D/HjX5OjWj1Pw==\",\"dtype\":\"float64\",\"shape\":[50]},\"right\":{\"__ndarray__\":\"4jxCro+a+b+pOP5o1J/4v3A0uiMZpfe/ODB23l2q9r/+KzKZoq/1v8Yn7lPntPS/jSOqDiy6879UH2bJcL/yvxsbIoS1xPG/4hbePvrJ8L9TJTTzfZ7vv+EcrGgHqe2/bxQk3pCz67/+C5xTGr7pv4wDFMmjyOe/GvuLPi3T5b+o8gO0tt3jvzbqeylA6OG/iMPnPZPl37+kstcopvrbv8ShxxO5D9i/4JC3/ssk1L/8f6fp3jnQvzDeLqnjnci/aLwOfwnIwL9ANd2pXuSxv4CN56xSxYG/oKNG/RPmqj9gleNSvh69P3jskVM5ZcY/QA6yfRM7zj8EGOnTdgjTP+Qo+ehj89Y/zDkJ/lDe2j+sShkTPsneP8qtFJQVWuE/OracHoxP4z+uviSpAkXlPx7HrDN5Ouc/ks80vu8v6T8C2LxIZiXrP3LgRNPcGu0/5ujMXVMQ7z+reCr05ILwP+V8bjmgffE/HYGyflt48j9XhfbDFnPzP4+JOgnSbfQ/x41+To1o9T8CksKTSGP2Pw==\",\"dtype\":\"float64\",\"shape\":[50]},\"top\":{\"__ndarray__\":\"nD0Eu2+6kD8AAAAAAAAAAJw9BLtvupA/AAAAAAAAAABQXIaYpxepP609BLtvuqA/nD0Eu2+6oD+cPQS7b7qwPwJNxakL6bQ/nD0Eu2+6sD+kPQS7b7qwP7bUJaFZAMc/ttQloVkAxz9YxWSyvdHSPykJFa5k3dM/g/OnfpFdzz8pCRWuZN3TP0OgNpROI9o/g/OnfpFd3z9io4w06kviP7r2/R4thuc/o/b9Hi2G5z8pCRWuZN3jPzvnPDCRV+M/fDquGtSR6D9pXIaYpxfpP9yQdaWy9OU/EyiXi5w67D8d5OaP9S7rP2lchpinF+k/3JB1pbL05T/Qa0eHQ0bdP1DnPDCRV+M/KKA2lE4j2j8TKJeLnDrcP1CjjDTqS+I/rT0Eu2+64D/GkHWlsvTVP609BLtvutA/Y/OnfpFdzz8YTcWpC+nEP83UJaFZAMc/smtHh0NGvT9ixWSyvdHCPzvFZLK90cI/g1yGmKcXqT+KPQS7b7qgP609BLtvurA/AAAAAAAAAAB5PQS7b7qgPw==\",\"dtype\":\"float64\",\"shape\":[50]}},\"selected\":{\"id\":\"2581\",\"type\":\"Selection\"},\"selection_policy\":{\"id\":\"2580\",\"type\":\"UnionRenderers\"}},\"id\":\"2479\",\"type\":\"ColumnDataSource\"},{\"attributes\":{\"callback\":null},\"id\":\"2448\",\"type\":\"DataRange1d\"},{\"attributes\":{\"bottom_units\":\"screen\",\"fill_alpha\":{\"value\":0.5},\"fill_color\":{\"value\":\"lightgrey\"},\"left_units\":\"screen\",\"level\":\"overlay\",\"line_alpha\":{\"value\":1.0},\"line_color\":{\"value\":\"black\"},\"line_dash\":[4,4],\"line_width\":{\"value\":2},\"plot\":null,\"render_mode\":\"css\",\"right_units\":\"screen\",\"top_units\":\"screen\"},\"id\":\"2472\",\"type\":\"BoxAnnotation\"},{\"attributes\":{\"bottom\":{\"value\":0},\"fill_alpha\":{\"value\":0.1},\"fill_color\":{\"value\":\"#1f77b4\"},\"left\":{\"field\":\"left\"},\"line_alpha\":{\"value\":0.1},\"line_color\":{\"value\":\"#1f77b4\"},\"right\":{\"field\":\"right\"},\"top\":{\"field\":\"top\"}},\"id\":\"2481\",\"type\":\"Quad\"},{\"attributes\":{\"source\":{\"id\":\"2479\",\"type\":\"ColumnDataSource\"}},\"id\":\"2483\",\"type\":\"CDSView\"},{\"attributes\":{},\"id\":\"2452\",\"type\":\"LinearScale\"},{\"attributes\":{\"formatter\":{\"id\":\"2576\",\"type\":\"BasicTickFormatter\"},\"plot\":{\"id\":\"2444\",\"subtype\":\"Figure\",\"type\":\"Plot\"},\"ticker\":{\"id\":\"2455\",\"type\":\"BasicTicker\"}},\"id\":\"2454\",\"type\":\"LinearAxis\"},{\"attributes\":{},\"id\":\"2576\",\"type\":\"BasicTickFormatter\"},{\"attributes\":{},\"id\":\"2455\",\"type\":\"BasicTicker\"},{\"attributes\":{\"callback\":null},\"id\":\"2446\",\"type\":\"DataRange1d\"},{\"attributes\":{},\"id\":\"2578\",\"type\":\"BasicTickFormatter\"},{\"attributes\":{\"plot\":{\"id\":\"2444\",\"subtype\":\"Figure\",\"type\":\"Plot\"},\"ticker\":{\"id\":\"2455\",\"type\":\"BasicTicker\"}},\"id\":\"2458\",\"type\":\"Grid\"},{\"attributes\":{},\"id\":\"2580\",\"type\":\"UnionRenderers\"},{\"attributes\":{\"formatter\":{\"id\":\"2578\",\"type\":\"BasicTickFormatter\"},\"plot\":{\"id\":\"2444\",\"subtype\":\"Figure\",\"type\":\"Plot\"},\"ticker\":{\"id\":\"2460\",\"type\":\"BasicTicker\"}},\"id\":\"2459\",\"type\":\"LinearAxis\"},{\"attributes\":{},\"id\":\"2581\",\"type\":\"Selection\"},{\"attributes\":{},\"id\":\"2460\",\"type\":\"BasicTicker\"},{\"attributes\":{\"dimension\":1,\"plot\":{\"id\":\"2444\",\"subtype\":\"Figure\",\"type\":\"Plot\"},\"ticker\":{\"id\":\"2460\",\"type\":\"BasicTicker\"}},\"id\":\"2463\",\"type\":\"Grid\"},{\"attributes\":{\"bottom\":{\"value\":0},\"fill_alpha\":{\"value\":0.5},\"fill_color\":{\"value\":\"navy\"},\"left\":{\"field\":\"left\"},\"line_alpha\":{\"value\":0.5},\"line_color\":{\"value\":\"white\"},\"right\":{\"field\":\"right\"},\"top\":{\"field\":\"top\"}},\"id\":\"2480\",\"type\":\"Quad\"},{\"attributes\":{\"plot\":null,\"text\":\"\\u76f4\\u65b9\\u56fe\"},\"id\":\"2443\",\"type\":\"Title\"},{\"attributes\":{},\"id\":\"2464\",\"type\":\"PanTool\"},{\"attributes\":{},\"id\":\"2465\",\"type\":\"WheelZoomTool\"},{\"attributes\":{\"overlay\":{\"id\":\"2472\",\"type\":\"BoxAnnotation\"}},\"id\":\"2466\",\"type\":\"BoxZoomTool\"},{\"attributes\":{},\"id\":\"2467\",\"type\":\"SaveTool\"},{\"attributes\":{},\"id\":\"2450\",\"type\":\"LinearScale\"},{\"attributes\":{},\"id\":\"2468\",\"type\":\"ResetTool\"},{\"attributes\":{},\"id\":\"2469\",\"type\":\"HelpTool\"},{\"attributes\":{\"active_drag\":\"auto\",\"active_inspect\":\"auto\",\"active_multi\":null,\"active_scroll\":\"auto\",\"active_tap\":\"auto\",\"tools\":[{\"id\":\"2464\",\"type\":\"PanTool\"},{\"id\":\"2465\",\"type\":\"WheelZoomTool\"},{\"id\":\"2466\",\"type\":\"BoxZoomTool\"},{\"id\":\"2467\",\"type\":\"SaveTool\"},{\"id\":\"2468\",\"type\":\"ResetTool\"},{\"id\":\"2469\",\"type\":\"HelpTool\"}]},\"id\":\"2470\",\"type\":\"Toolbar\"},{\"attributes\":{\"data_source\":{\"id\":\"2479\",\"type\":\"ColumnDataSource\"},\"glyph\":{\"id\":\"2480\",\"type\":\"Quad\"},\"hover_glyph\":null,\"muted_glyph\":null,\"nonselection_glyph\":{\"id\":\"2481\",\"type\":\"Quad\"},\"selection_glyph\":null,\"view\":{\"id\":\"2483\",\"type\":\"CDSView\"}},\"id\":\"2482\",\"type\":\"GlyphRenderer\"}],\"root_ids\":[\"2444\"]},\"title\":\"Bokeh Application\",\"version\":\"1.0.4\"}};\n",
       "  var render_items = [{\"docid\":\"000a5207-f29b-4148-b086-ea7ac0511352\",\"roots\":{\"2444\":\"7b8b6e18-c3f1-468a-8f72-36cb25a6be11\"}}];\n",
       "  root.Bokeh.embed.embed_items_notebook(docs_json, render_items);\n",
       "\n",
       "  }\n",
       "  if (root.Bokeh !== undefined) {\n",
       "    embed_document(root);\n",
       "  } else {\n",
       "    var attempts = 0;\n",
       "    var timer = setInterval(function(root) {\n",
       "      if (root.Bokeh !== undefined) {\n",
       "        embed_document(root);\n",
       "        clearInterval(timer);\n",
       "      }\n",
       "      attempts++;\n",
       "      if (attempts > 100) {\n",
       "        console.log(\"Bokeh: ERROR: Unable to run BokehJS code because BokehJS library is missing\");\n",
       "        clearInterval(timer);\n",
       "      }\n",
       "    }, 10, root)\n",
       "  }\n",
       "})(window);"
      ],
      "application/vnd.bokehjs_exec.v0+json": ""
     },
     "metadata": {
      "application/vnd.bokehjs_exec.v0+json": {
       "id": "2444"
      }
     },
     "output_type": "display_data"
    }
   ],
   "source": [
    "mu = 0\n",
    "sigma = 0.5\n",
    "measured = np.random.normal(mu, sigma, 1000)\n",
    "hist, edges = np.histogram(measured, density=True, bins=50)    # ①\n",
    "\n",
    "p = figure(title='直方图')\n",
    "p.quad(top=hist, bottom=0, left=edges[:-1], right=edges[1:],     # ②\n",
    "       fill_color='navy', line_color='white', alpha=0.5)\n",
    "show(p)"
   ]
  },
  {
   "cell_type": "code",
   "execution_count": 13,
   "metadata": {},
   "outputs": [
    {
     "data": {
      "text/html": [
       "\n",
       "\n",
       "\n",
       "\n",
       "\n",
       "\n",
       "  <div class=\"bk-root\" id=\"14501671-6388-436b-b09a-bcf99f4873ac\" data-root-id=\"2632\"></div>\n"
      ]
     },
     "metadata": {},
     "output_type": "display_data"
    },
    {
     "data": {
      "application/javascript": [
       "(function(root) {\n",
       "  function embed_document(root) {\n",
       "    \n",
       "  var docs_json = {\"d33e75c0-1697-49d8-a20f-d86f032c8b27\":{\"roots\":{\"references\":[{\"attributes\":{\"below\":[{\"id\":\"2642\",\"type\":\"LinearAxis\"}],\"left\":[{\"id\":\"2647\",\"type\":\"LinearAxis\"}],\"renderers\":[{\"id\":\"2642\",\"type\":\"LinearAxis\"},{\"id\":\"2646\",\"type\":\"Grid\"},{\"id\":\"2647\",\"type\":\"LinearAxis\"},{\"id\":\"2651\",\"type\":\"Grid\"},{\"id\":\"2660\",\"type\":\"BoxAnnotation\"},{\"id\":\"2670\",\"type\":\"GlyphRenderer\"},{\"id\":\"2675\",\"type\":\"GlyphRenderer\"}],\"title\":{\"id\":\"2631\",\"type\":\"Title\"},\"toolbar\":{\"id\":\"2658\",\"type\":\"Toolbar\"},\"x_range\":{\"id\":\"2634\",\"type\":\"DataRange1d\"},\"x_scale\":{\"id\":\"2638\",\"type\":\"LinearScale\"},\"y_range\":{\"id\":\"2636\",\"type\":\"DataRange1d\"},\"y_scale\":{\"id\":\"2640\",\"type\":\"LinearScale\"}},\"id\":\"2632\",\"subtype\":\"Figure\",\"type\":\"Plot\"},{\"attributes\":{},\"id\":\"2657\",\"type\":\"HelpTool\"},{\"attributes\":{\"bottom\":{\"value\":0},\"fill_alpha\":{\"value\":0.1},\"fill_color\":{\"value\":\"#1f77b4\"},\"left\":{\"field\":\"left\"},\"line_alpha\":{\"value\":0.1},\"line_color\":{\"value\":\"#1f77b4\"},\"right\":{\"field\":\"right\"},\"top\":{\"field\":\"top\"}},\"id\":\"2669\",\"type\":\"Quad\"},{\"attributes\":{\"active_drag\":\"auto\",\"active_inspect\":\"auto\",\"active_multi\":null,\"active_scroll\":\"auto\",\"active_tap\":\"auto\",\"tools\":[{\"id\":\"2652\",\"type\":\"PanTool\"},{\"id\":\"2653\",\"type\":\"WheelZoomTool\"},{\"id\":\"2654\",\"type\":\"BoxZoomTool\"},{\"id\":\"2655\",\"type\":\"SaveTool\"},{\"id\":\"2656\",\"type\":\"ResetTool\"},{\"id\":\"2657\",\"type\":\"HelpTool\"}]},\"id\":\"2658\",\"type\":\"Toolbar\"},{\"attributes\":{\"callback\":null},\"id\":\"2636\",\"type\":\"DataRange1d\"},{\"attributes\":{\"bottom_units\":\"screen\",\"fill_alpha\":{\"value\":0.5},\"fill_color\":{\"value\":\"lightgrey\"},\"left_units\":\"screen\",\"level\":\"overlay\",\"line_alpha\":{\"value\":1.0},\"line_color\":{\"value\":\"black\"},\"line_dash\":[4,4],\"line_width\":{\"value\":2},\"plot\":null,\"render_mode\":\"css\",\"right_units\":\"screen\",\"top_units\":\"screen\"},\"id\":\"2660\",\"type\":\"BoxAnnotation\"},{\"attributes\":{\"bottom\":{\"value\":0},\"fill_alpha\":{\"value\":0.5},\"fill_color\":{\"value\":\"navy\"},\"left\":{\"field\":\"left\"},\"line_alpha\":{\"value\":0.5},\"line_color\":{\"value\":\"white\"},\"right\":{\"field\":\"right\"},\"top\":{\"field\":\"top\"}},\"id\":\"2668\",\"type\":\"Quad\"},{\"attributes\":{},\"id\":\"2640\",\"type\":\"LinearScale\"},{\"attributes\":{\"formatter\":{\"id\":\"2777\",\"type\":\"BasicTickFormatter\"},\"plot\":{\"id\":\"2632\",\"subtype\":\"Figure\",\"type\":\"Plot\"},\"ticker\":{\"id\":\"2643\",\"type\":\"BasicTicker\"}},\"id\":\"2642\",\"type\":\"LinearAxis\"},{\"attributes\":{\"line_alpha\":0.7,\"line_color\":\"#ff8888\",\"line_width\":4,\"x\":{\"field\":\"x\"},\"y\":{\"field\":\"y\"}},\"id\":\"2673\",\"type\":\"Line\"},{\"attributes\":{},\"id\":\"2643\",\"type\":\"BasicTicker\"},{\"attributes\":{\"line_alpha\":0.1,\"line_color\":\"#1f77b4\",\"line_width\":4,\"x\":{\"field\":\"x\"},\"y\":{\"field\":\"y\"}},\"id\":\"2674\",\"type\":\"Line\"},{\"attributes\":{\"plot\":{\"id\":\"2632\",\"subtype\":\"Figure\",\"type\":\"Plot\"},\"ticker\":{\"id\":\"2643\",\"type\":\"BasicTicker\"}},\"id\":\"2646\",\"type\":\"Grid\"},{\"attributes\":{\"data_source\":{\"id\":\"2672\",\"type\":\"ColumnDataSource\"},\"glyph\":{\"id\":\"2673\",\"type\":\"Line\"},\"hover_glyph\":null,\"muted_glyph\":null,\"nonselection_glyph\":{\"id\":\"2674\",\"type\":\"Line\"},\"selection_glyph\":null,\"view\":{\"id\":\"2676\",\"type\":\"CDSView\"}},\"id\":\"2675\",\"type\":\"GlyphRenderer\"},{\"attributes\":{\"formatter\":{\"id\":\"2779\",\"type\":\"BasicTickFormatter\"},\"plot\":{\"id\":\"2632\",\"subtype\":\"Figure\",\"type\":\"Plot\"},\"ticker\":{\"id\":\"2648\",\"type\":\"BasicTicker\"}},\"id\":\"2647\",\"type\":\"LinearAxis\"},{\"attributes\":{\"source\":{\"id\":\"2672\",\"type\":\"ColumnDataSource\"}},\"id\":\"2676\",\"type\":\"CDSView\"},{\"attributes\":{},\"id\":\"2648\",\"type\":\"BasicTicker\"},{\"attributes\":{\"dimension\":1,\"plot\":{\"id\":\"2632\",\"subtype\":\"Figure\",\"type\":\"Plot\"},\"ticker\":{\"id\":\"2648\",\"type\":\"BasicTicker\"}},\"id\":\"2651\",\"type\":\"Grid\"},{\"attributes\":{\"callback\":null,\"data\":{\"left\":{\"__ndarray__\":\"K9bRb8I7+r+ywgKLxiz5vzmvM6bKHfi/wJtkwc4O979IiJXc0v/1v890xvfW8PS/VmH3Etvh87/dTSgu39Lyv2Q6WUnjw/G/7CaKZOe08L/mJnb/1kvvv/T/1zXfLe2/Atk5bOcP678Rspui7/Hovx+L/dj30+a/LmRfDwC25L88PcFFCJjiv0oWI3wQeuC/sN4JZTG43L/QkM3RQXzYv+xCkT5SQNS/CPVUq2IE0L9ITjEw5pDHvwBlcRMOMr6/4FoAjZ+Eqr+AUIgzdGuNP6BBYtMsnbQ/mLwpkHXGwj9gWKK2VD7LPxR6je4Z29E/9MfJgQkX1j/cFQYV+VLaP7xjQqjojt4/zli/HWxl4T/Cf13nY4PjP7Km+7BboeU/ps2ZelO/5z+W9DdES93pP4Yb1g1D++s/ekJ01zoZ7j+1NIlQmRvwPy9IWDWVKvE/p1snGpE58j8fb/b+jEjzP5mCxeOIV/Q/EZaUyIRm9T+LqWOtgHX2PwO9MpJ8hPc/fdABd3iT+D/149BbdKL5Pw==\",\"dtype\":\"float64\",\"shape\":[50]},\"right\":{\"__ndarray__\":\"ssICi8Ys+b85rzOmyh34v8CbZMHODve/SIiV3NL/9b/PdMb31vD0v1Zh9xLb4fO/3U0oLt/S8r9kOllJ48Pxv+wmimTntPC/5iZ2/9ZL77/0/9c13y3tvwLZOWznD+u/EbKbou/x6L8fi/3Y99Pmvy5kXw8AtuS/PD3BRQiY4r9KFiN8EHrgv7DeCWUxuNy/0JDN0UF82L/sQpE+UkDUvwj1VKtiBNC/SE4xMOaQx78AZXETDjK+v+BaAI2fhKq/gFCIM3RrjT+gQWLTLJ20P5i8KZB1xsI/YFiitlQ+yz8Ueo3uGdvRP/THyYEJF9Y/3BUGFflS2j+8Y0Ko6I7eP85Yvx1sZeE/wn9d52OD4z+ypvuwW6HlP6bNmXpTv+c/lvQ3REvd6T+GG9YNQ/vrP3pCdNc6Ge4/tTSJUJkb8D8vSFg1lSrxP6dbJxqROfI/H2/2/oxI8z+ZgsXjiFf0PxGWlMiEZvU/i6ljrYB19j8DvTKSfIT3P33QAXd4k/g/9ePQW3Si+T9s959AcLH6Pw==\",\"dtype\":\"float64\",\"shape\":[50]},\"top\":{\"__ndarray__\":\"eMHtUMP0jj94we1Qw/SOPwAAAAAAAAAAlsHtUMP0jj94we1Qw/SeP3jB7VDD9I4/eMHtUMP0rj94we1Qw/SOP2IJ0OYqFrs/SQnQ5ioWuz/UvIXdrWnBP+yYlBL6WMM/DHWjR0ZIxT/ITv7CB3LQP9y8hd2tadE/yE7+wgdy0D/OBULQ2u3gP21TZjYd/d0/6nPJ6oDl4T/3BhwtoFDkPwgs51QZxOU/CCznVBnE5T8bUbJ8kjfnPya/OZc4L+g/Kppub7+75j8xLcGx3ibpP1sumw6kiew/LHZ9pAur6D8ILOdUGcTlPyqabm+/u+Y/KlKM2Vea6j9KLcGx3ibZP/2YlBL6WOM/JZtIzIQe2j8KBxwtoFDUPxotwbHeJsk/MFGyfJI3xz/xKg34U2HSPy8J0OYqFss/5LyF3a1pwT9bwe1Qw/SeP+S8hd2tacE/lsHtUMP0nj8AAAAAAAAAAJbB7VDD9J4/2ZiUEvpYsz+Wwe1Qw/SOPwAAAAAAAAAAAAAAAAAAAACywe1Qw/SePw==\",\"dtype\":\"float64\",\"shape\":[50]}},\"selected\":{\"id\":\"2782\",\"type\":\"Selection\"},\"selection_policy\":{\"id\":\"2781\",\"type\":\"UnionRenderers\"}},\"id\":\"2667\",\"type\":\"ColumnDataSource\"},{\"attributes\":{},\"id\":\"2777\",\"type\":\"BasicTickFormatter\"},{\"attributes\":{\"data_source\":{\"id\":\"2667\",\"type\":\"ColumnDataSource\"},\"glyph\":{\"id\":\"2668\",\"type\":\"Quad\"},\"hover_glyph\":null,\"muted_glyph\":null,\"nonselection_glyph\":{\"id\":\"2669\",\"type\":\"Quad\"},\"selection_glyph\":null,\"view\":{\"id\":\"2671\",\"type\":\"CDSView\"}},\"id\":\"2670\",\"type\":\"GlyphRenderer\"},{\"attributes\":{},\"id\":\"2779\",\"type\":\"BasicTickFormatter\"},{\"attributes\":{},\"id\":\"2781\",\"type\":\"UnionRenderers\"},{\"attributes\":{\"callback\":null,\"data\":{\"x\":{\"__ndarray__\":\"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\",\"dtype\":\"float64\",\"shape\":[1000]},\"y\":{\"__ndarray__\":\"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\",\"dtype\":\"float64\",\"shape\":[1000]}},\"selected\":{\"id\":\"2784\",\"type\":\"Selection\"},\"selection_policy\":{\"id\":\"2783\",\"type\":\"UnionRenderers\"}},\"id\":\"2672\",\"type\":\"ColumnDataSource\"},{\"attributes\":{\"source\":{\"id\":\"2667\",\"type\":\"ColumnDataSource\"}},\"id\":\"2671\",\"type\":\"CDSView\"},{\"attributes\":{},\"id\":\"2638\",\"type\":\"LinearScale\"},{\"attributes\":{},\"id\":\"2782\",\"type\":\"Selection\"},{\"attributes\":{},\"id\":\"2652\",\"type\":\"PanTool\"},{\"attributes\":{},\"id\":\"2783\",\"type\":\"UnionRenderers\"},{\"attributes\":{},\"id\":\"2653\",\"type\":\"WheelZoomTool\"},{\"attributes\":{},\"id\":\"2656\",\"type\":\"ResetTool\"},{\"attributes\":{},\"id\":\"2784\",\"type\":\"Selection\"},{\"attributes\":{\"overlay\":{\"id\":\"2660\",\"type\":\"BoxAnnotation\"}},\"id\":\"2654\",\"type\":\"BoxZoomTool\"},{\"attributes\":{},\"id\":\"2655\",\"type\":\"SaveTool\"},{\"attributes\":{\"callback\":null},\"id\":\"2634\",\"type\":\"DataRange1d\"},{\"attributes\":{\"plot\":null,\"text\":\"\\u76f4\\u65b9\\u56fe\"},\"id\":\"2631\",\"type\":\"Title\"}],\"root_ids\":[\"2632\"]},\"title\":\"Bokeh Application\",\"version\":\"1.0.4\"}};\n",
       "  var render_items = [{\"docid\":\"d33e75c0-1697-49d8-a20f-d86f032c8b27\",\"roots\":{\"2632\":\"14501671-6388-436b-b09a-bcf99f4873ac\"}}];\n",
       "  root.Bokeh.embed.embed_items_notebook(docs_json, render_items);\n",
       "\n",
       "  }\n",
       "  if (root.Bokeh !== undefined) {\n",
       "    embed_document(root);\n",
       "  } else {\n",
       "    var attempts = 0;\n",
       "    var timer = setInterval(function(root) {\n",
       "      if (root.Bokeh !== undefined) {\n",
       "        embed_document(root);\n",
       "        clearInterval(timer);\n",
       "      }\n",
       "      attempts++;\n",
       "      if (attempts > 100) {\n",
       "        console.log(\"Bokeh: ERROR: Unable to run BokehJS code because BokehJS library is missing\");\n",
       "        clearInterval(timer);\n",
       "      }\n",
       "    }, 10, root)\n",
       "  }\n",
       "})(window);"
      ],
      "application/vnd.bokehjs_exec.v0+json": ""
     },
     "metadata": {
      "application/vnd.bokehjs_exec.v0+json": {
       "id": "2632"
      }
     },
     "output_type": "display_data"
    }
   ],
   "source": [
    "mu = 0\n",
    "sigma = 0.5\n",
    "\n",
    "measured = np.random.normal(mu, sigma, 1000)\n",
    "hist, edges = np.histogram(measured, density=True, bins=50)\n",
    "\n",
    "p = figure(title='直方图')\n",
    "p.quad(top=hist, bottom=0, left=edges[:-1], right=edges[1:], \n",
    "       fill_color='navy', line_color='white', alpha=0.5)\n",
    "\n",
    "x = np.linspace(-2, 2, 1000)\n",
    "pdf = 1/(sigma * np.sqrt(2*np.pi)) * np.exp(-(x-mu)**2 / (2*sigma**2))\n",
    "p.line(x, pdf, line_color=\"#ff8888\", line_width=4, alpha=0.7)\n",
    "\n",
    "show(p)"
   ]
  },
  {
   "cell_type": "code",
   "execution_count": 14,
   "metadata": {},
   "outputs": [
    {
     "data": {
      "text/html": [
       "\n",
       "\n",
       "\n",
       "\n",
       "\n",
       "\n",
       "  <div class=\"bk-root\" id=\"233582f6-0c20-448d-81f0-46b9a18bca10\" data-root-id=\"2846\"></div>\n"
      ]
     },
     "metadata": {},
     "output_type": "display_data"
    },
    {
     "data": {
      "application/javascript": [
       "(function(root) {\n",
       "  function embed_document(root) {\n",
       "    \n",
       "  var docs_json = {\"0da1a78e-e6f6-4c3a-877f-9c0f957e98b7\":{\"roots\":{\"references\":[{\"attributes\":{\"below\":[{\"id\":\"2855\",\"type\":\"LinearAxis\"}],\"left\":[{\"id\":\"2860\",\"type\":\"LinearAxis\"}],\"plot_height\":300,\"plot_width\":300,\"renderers\":[{\"id\":\"2855\",\"type\":\"LinearAxis\"},{\"id\":\"2859\",\"type\":\"Grid\"},{\"id\":\"2860\",\"type\":\"LinearAxis\"},{\"id\":\"2864\",\"type\":\"Grid\"},{\"id\":\"2873\",\"type\":\"BoxAnnotation\"},{\"id\":\"2883\",\"type\":\"GlyphRenderer\"}],\"title\":{\"id\":\"2994\",\"type\":\"Title\"},\"toolbar\":{\"id\":\"2871\",\"type\":\"Toolbar\"},\"x_range\":{\"id\":\"2847\",\"type\":\"DataRange1d\"},\"x_scale\":{\"id\":\"2851\",\"type\":\"LinearScale\"},\"y_range\":{\"id\":\"2849\",\"type\":\"DataRange1d\"},\"y_scale\":{\"id\":\"2853\",\"type\":\"LinearScale\"}},\"id\":\"2846\",\"subtype\":\"Figure\",\"type\":\"Plot\"},{\"attributes\":{\"formatter\":{\"id\":\"2996\",\"type\":\"BasicTickFormatter\"},\"plot\":{\"id\":\"2846\",\"subtype\":\"Figure\",\"type\":\"Plot\"},\"ticker\":{\"id\":\"2856\",\"type\":\"BasicTicker\"}},\"id\":\"2855\",\"type\":\"LinearAxis\"},{\"attributes\":{\"callback\":null},\"id\":\"2849\",\"type\":\"DataRange1d\"},{\"attributes\":{\"formatter\":{\"id\":\"2998\",\"type\":\"BasicTickFormatter\"},\"plot\":{\"id\":\"2846\",\"subtype\":\"Figure\",\"type\":\"Plot\"},\"ticker\":{\"id\":\"2861\",\"type\":\"BasicTicker\"}},\"id\":\"2860\",\"type\":\"LinearAxis\"},{\"attributes\":{\"dimension\":1,\"plot\":{\"id\":\"2846\",\"subtype\":\"Figure\",\"type\":\"Plot\"},\"ticker\":{\"id\":\"2861\",\"type\":\"BasicTicker\"}},\"id\":\"2864\",\"type\":\"Grid\"},{\"attributes\":{},\"id\":\"2861\",\"type\":\"BasicTicker\"},{\"attributes\":{},\"id\":\"2851\",\"type\":\"LinearScale\"},{\"attributes\":{},\"id\":\"3000\",\"type\":\"UnionRenderers\"},{\"attributes\":{},\"id\":\"2856\",\"type\":\"BasicTicker\"},{\"attributes\":{\"plot\":{\"id\":\"2846\",\"subtype\":\"Figure\",\"type\":\"Plot\"},\"ticker\":{\"id\":\"2856\",\"type\":\"BasicTicker\"}},\"id\":\"2859\",\"type\":\"Grid\"},{\"attributes\":{\"data_source\":{\"id\":\"2880\",\"type\":\"ColumnDataSource\"},\"glyph\":{\"id\":\"2881\",\"type\":\"Rect\"},\"hover_glyph\":null,\"muted_glyph\":null,\"nonselection_glyph\":{\"id\":\"2882\",\"type\":\"Rect\"},\"selection_glyph\":null,\"view\":{\"id\":\"2884\",\"type\":\"CDSView\"}},\"id\":\"2883\",\"type\":\"GlyphRenderer\"},{\"attributes\":{\"fill_color\":{\"value\":\"white\"},\"height\":{\"units\":\"data\",\"value\":20},\"line_color\":{\"field\":\"line_color\"},\"width\":{\"units\":\"data\",\"value\":100},\"x\":{\"field\":\"x\"},\"y\":{\"field\":\"y\"}},\"id\":\"2881\",\"type\":\"Rect\"},{\"attributes\":{},\"id\":\"2869\",\"type\":\"ResetTool\"},{\"attributes\":{},\"id\":\"2868\",\"type\":\"SaveTool\"},{\"attributes\":{},\"id\":\"2865\",\"type\":\"PanTool\"},{\"attributes\":{\"callback\":null},\"id\":\"2847\",\"type\":\"DataRange1d\"},{\"attributes\":{},\"id\":\"3001\",\"type\":\"Selection\"},{\"attributes\":{},\"id\":\"2853\",\"type\":\"LinearScale\"},{\"attributes\":{},\"id\":\"2866\",\"type\":\"WheelZoomTool\"},{\"attributes\":{\"overlay\":{\"id\":\"2873\",\"type\":\"BoxAnnotation\"}},\"id\":\"2867\",\"type\":\"BoxZoomTool\"},{\"attributes\":{},\"id\":\"2998\",\"type\":\"BasicTickFormatter\"},{\"attributes\":{\"callback\":null,\"data\":{\"line_color\":[\"red\",\"blue\"],\"x\":[3,5],\"y\":[3,15]},\"selected\":{\"id\":\"3001\",\"type\":\"Selection\"},\"selection_policy\":{\"id\":\"3000\",\"type\":\"UnionRenderers\"}},\"id\":\"2880\",\"type\":\"ColumnDataSource\"},{\"attributes\":{},\"id\":\"2870\",\"type\":\"HelpTool\"},{\"attributes\":{\"bottom_units\":\"screen\",\"fill_alpha\":{\"value\":0.5},\"fill_color\":{\"value\":\"lightgrey\"},\"left_units\":\"screen\",\"level\":\"overlay\",\"line_alpha\":{\"value\":1.0},\"line_color\":{\"value\":\"black\"},\"line_dash\":[4,4],\"line_width\":{\"value\":2},\"plot\":null,\"render_mode\":\"css\",\"right_units\":\"screen\",\"top_units\":\"screen\"},\"id\":\"2873\",\"type\":\"BoxAnnotation\"},{\"attributes\":{\"active_drag\":\"auto\",\"active_inspect\":\"auto\",\"active_multi\":null,\"active_scroll\":\"auto\",\"active_tap\":\"auto\",\"tools\":[{\"id\":\"2865\",\"type\":\"PanTool\"},{\"id\":\"2866\",\"type\":\"WheelZoomTool\"},{\"id\":\"2867\",\"type\":\"BoxZoomTool\"},{\"id\":\"2868\",\"type\":\"SaveTool\"},{\"id\":\"2869\",\"type\":\"ResetTool\"},{\"id\":\"2870\",\"type\":\"HelpTool\"}]},\"id\":\"2871\",\"type\":\"Toolbar\"},{\"attributes\":{\"fill_alpha\":{\"value\":0.1},\"fill_color\":{\"value\":\"#1f77b4\"},\"height\":{\"units\":\"data\",\"value\":20},\"line_alpha\":{\"value\":0.1},\"line_color\":{\"value\":\"#1f77b4\"},\"width\":{\"units\":\"data\",\"value\":100},\"x\":{\"field\":\"x\"},\"y\":{\"field\":\"y\"}},\"id\":\"2882\",\"type\":\"Rect\"},{\"attributes\":{\"plot\":null,\"text\":\"\"},\"id\":\"2994\",\"type\":\"Title\"},{\"attributes\":{\"source\":{\"id\":\"2880\",\"type\":\"ColumnDataSource\"}},\"id\":\"2884\",\"type\":\"CDSView\"},{\"attributes\":{},\"id\":\"2996\",\"type\":\"BasicTickFormatter\"}],\"root_ids\":[\"2846\"]},\"title\":\"Bokeh Application\",\"version\":\"1.0.4\"}};\n",
       "  var render_items = [{\"docid\":\"0da1a78e-e6f6-4c3a-877f-9c0f957e98b7\",\"roots\":{\"2846\":\"233582f6-0c20-448d-81f0-46b9a18bca10\"}}];\n",
       "  root.Bokeh.embed.embed_items_notebook(docs_json, render_items);\n",
       "\n",
       "  }\n",
       "  if (root.Bokeh !== undefined) {\n",
       "    embed_document(root);\n",
       "  } else {\n",
       "    var attempts = 0;\n",
       "    var timer = setInterval(function(root) {\n",
       "      if (root.Bokeh !== undefined) {\n",
       "        embed_document(root);\n",
       "        clearInterval(timer);\n",
       "      }\n",
       "      attempts++;\n",
       "      if (attempts > 100) {\n",
       "        console.log(\"Bokeh: ERROR: Unable to run BokehJS code because BokehJS library is missing\");\n",
       "        clearInterval(timer);\n",
       "      }\n",
       "    }, 10, root)\n",
       "  }\n",
       "})(window);"
      ],
      "application/vnd.bokehjs_exec.v0+json": ""
     },
     "metadata": {
      "application/vnd.bokehjs_exec.v0+json": {
       "id": "2846"
      }
     },
     "output_type": "display_data"
    }
   ],
   "source": [
    "plot = figure(plot_width=300, plot_height=300)\n",
    "plot.rect(x=[3, 5], \n",
    "          y=[3, 15], \n",
    "          width=100, \n",
    "          height=20, \n",
    "          fill_color='white', \n",
    "          color=['red', 'blue'])\n",
    "show(plot)"
   ]
  },
  {
   "cell_type": "code",
   "execution_count": 15,
   "metadata": {},
   "outputs": [
    {
     "name": "stdout",
     "output_type": "stream",
     "text": [
      "<class 'pandas.core.frame.DataFrame'>\n",
      "Int64Index: 336776 entries, 0 to 336775\n",
      "Data columns (total 20 columns):\n",
      "year              336776 non-null int64\n",
      "month             336776 non-null int64\n",
      "day               336776 non-null int64\n",
      "dep_time          328521 non-null float64\n",
      "sched_dep_time    336776 non-null int64\n",
      "dep_delay         328521 non-null float64\n",
      "arr_time          328063 non-null float64\n",
      "sched_arr_time    336776 non-null int64\n",
      "arr_delay         327346 non-null float64\n",
      "carrier           336776 non-null object\n",
      "flight            336776 non-null int64\n",
      "tailnum           334264 non-null object\n",
      "origin            336776 non-null object\n",
      "dest              336776 non-null object\n",
      "air_time          327346 non-null float64\n",
      "distance          336776 non-null int64\n",
      "hour              336776 non-null int64\n",
      "minute            336776 non-null int64\n",
      "time_hour         336776 non-null object\n",
      "name              336776 non-null object\n",
      "dtypes: float64(5), int64(9), object(6)\n",
      "memory usage: 54.0+ MB\n"
     ]
    }
   ],
   "source": [
    "import pandas as pd\n",
    "flights = pd.read_csv(\"/Users/qiwsir/Documents/Codes/DataSet/flights/nycflights.csv\", index_col=0)\n",
    "flights.info()\n",
    "\n"
   ]
  },
  {
   "cell_type": "code",
   "execution_count": 16,
   "metadata": {},
   "outputs": [
    {
     "data": {
      "text/plain": [
       "count    327346.000000\n",
       "mean          6.895377\n",
       "std          44.633292\n",
       "min         -86.000000\n",
       "25%         -17.000000\n",
       "50%          -5.000000\n",
       "75%          14.000000\n",
       "max        1272.000000\n",
       "Name: arr_delay, dtype: float64"
      ]
     },
     "execution_count": 16,
     "metadata": {},
     "output_type": "execute_result"
    }
   ],
   "source": [
    "flights['arr_delay'].describe()"
   ]
  },
  {
   "cell_type": "code",
   "execution_count": 17,
   "metadata": {},
   "outputs": [
    {
     "data": {
      "text/plain": [
       "<matplotlib.axes._subplots.AxesSubplot at 0x11724a320>"
      ]
     },
     "execution_count": 17,
     "metadata": {},
     "output_type": "execute_result"
    },
    {
     "data": {
      "image/png": "[encoded data removed]",
      "text/plain": [
       "<Figure size 432x288 with 1 Axes>"
      ]
     },
     "metadata": {
      "needs_background": "light"
     },
     "output_type": "display_data"
    }
   ],
   "source": [
    "%matplotlib inline\n",
    "import seaborn as sns\n",
    "sns.boxplot(y=\"arr_delay\", data=flights,)"
   ]
  },
  {
   "cell_type": "code",
   "execution_count": 18,
   "metadata": {},
   "outputs": [
    {
     "name": "stderr",
     "output_type": "stream",
     "text": [
      "/Library/Frameworks/Python.framework/Versions/3.7/lib/python3.7/site-packages/numpy/lib/histograms.py:754: RuntimeWarning: invalid value encountered in greater_equal\n",
      "  keep = (tmp_a >= first_edge)\n",
      "/Library/Frameworks/Python.framework/Versions/3.7/lib/python3.7/site-packages/numpy/lib/histograms.py:755: RuntimeWarning: invalid value encountered in less_equal\n",
      "  keep &= (tmp_a <= last_edge)\n"
     ]
    },
    {
     "data": {
      "text/html": [
       "\n",
       "\n",
       "\n",
       "\n",
       "\n",
       "\n",
       "  <div class=\"bk-root\" id=\"f102626e-8f41-4c44-addc-e3ea39ca4799\" data-root-id=\"3058\"></div>\n"
      ]
     },
     "metadata": {},
     "output_type": "display_data"
    },
    {
     "data": {
      "application/javascript": [
       "(function(root) {\n",
       "  function embed_document(root) {\n",
       "    \n",
       "  var docs_json = {\"c2c4eaa1-3906-446d-a84b-d8dfb9348100\":{\"roots\":{\"references\":[{\"attributes\":{\"below\":[{\"id\":\"3068\",\"type\":\"LinearAxis\"}],\"left\":[{\"id\":\"3073\",\"type\":\"LinearAxis\"}],\"renderers\":[{\"id\":\"3068\",\"type\":\"LinearAxis\"},{\"id\":\"3072\",\"type\":\"Grid\"},{\"id\":\"3073\",\"type\":\"LinearAxis\"},{\"id\":\"3077\",\"type\":\"Grid\"},{\"id\":\"3086\",\"type\":\"BoxAnnotation\"},{\"id\":\"3096\",\"type\":\"GlyphRenderer\"}],\"title\":{\"id\":\"3057\",\"type\":\"Title\"},\"toolbar\":{\"id\":\"3084\",\"type\":\"Toolbar\"},\"x_range\":{\"id\":\"3060\",\"type\":\"DataRange1d\"},\"x_scale\":{\"id\":\"3064\",\"type\":\"LinearScale\"},\"y_range\":{\"id\":\"3062\",\"type\":\"DataRange1d\"},\"y_scale\":{\"id\":\"3066\",\"type\":\"LinearScale\"}},\"id\":\"3058\",\"subtype\":\"Figure\",\"type\":\"Plot\"},{\"attributes\":{},\"id\":\"3217\",\"type\":\"BasicTickFormatter\"},{\"attributes\":{},\"id\":\"3221\",\"type\":\"UnionRenderers\"},{\"attributes\":{\"plot\":{\"id\":\"3058\",\"subtype\":\"Figure\",\"type\":\"Plot\"},\"ticker\":{\"id\":\"3069\",\"type\":\"BasicTicker\"}},\"id\":\"3072\",\"type\":\"Grid\"},{\"attributes\":{\"callback\":null},\"id\":\"3060\",\"type\":\"DataRange1d\"},{\"attributes\":{},\"id\":\"3222\",\"type\":\"Selection\"},{\"attributes\":{\"axis_label\":\"Number of Flights\",\"formatter\":{\"id\":\"3219\",\"type\":\"BasicTickFormatter\"},\"plot\":{\"id\":\"3058\",\"subtype\":\"Figure\",\"type\":\"Plot\"},\"ticker\":{\"id\":\"3074\",\"type\":\"BasicTicker\"}},\"id\":\"3073\",\"type\":\"LinearAxis\"},{\"attributes\":{},\"id\":\"3074\",\"type\":\"BasicTicker\"},{\"attributes\":{\"dimension\":1,\"plot\":{\"id\":\"3058\",\"subtype\":\"Figure\",\"type\":\"Plot\"},\"ticker\":{\"id\":\"3074\",\"type\":\"BasicTicker\"}},\"id\":\"3077\",\"type\":\"Grid\"},{\"attributes\":{\"bottom\":{\"value\":0},\"fill_alpha\":{\"value\":0.1},\"fill_color\":{\"value\":\"#1f77b4\"},\"left\":{\"field\":\"left\"},\"line_alpha\":{\"value\":0.1},\"line_color\":{\"value\":\"#1f77b4\"},\"right\":{\"field\":\"right\"},\"top\":{\"field\":\"top\"}},\"id\":\"3095\",\"type\":\"Quad\"},{\"attributes\":{\"bottom\":{\"value\":0},\"fill_color\":{\"value\":\"red\"},\"left\":{\"field\":\"left\"},\"right\":{\"field\":\"right\"},\"top\":{\"field\":\"top\"}},\"id\":\"3094\",\"type\":\"Quad\"},{\"attributes\":{\"plot\":null,\"text\":\"arrive delays\"},\"id\":\"3057\",\"type\":\"Title\"},{\"attributes\":{},\"id\":\"3078\",\"type\":\"PanTool\"},{\"attributes\":{},\"id\":\"3079\",\"type\":\"WheelZoomTool\"},{\"attributes\":{\"overlay\":{\"id\":\"3086\",\"type\":\"BoxAnnotation\"}},\"id\":\"3080\",\"type\":\"BoxZoomTool\"},{\"attributes\":{},\"id\":\"3066\",\"type\":\"LinearScale\"},{\"attributes\":{},\"id\":\"3081\",\"type\":\"SaveTool\"},{\"attributes\":{\"callback\":null},\"id\":\"3062\",\"type\":\"DataRange1d\"},{\"attributes\":{},\"id\":\"3082\",\"type\":\"ResetTool\"},{\"attributes\":{},\"id\":\"3083\",\"type\":\"HelpTool\"},{\"attributes\":{\"active_drag\":\"auto\",\"active_inspect\":\"auto\",\"active_multi\":null,\"active_scroll\":\"auto\",\"active_tap\":\"auto\",\"tools\":[{\"id\":\"3078\",\"type\":\"PanTool\"},{\"id\":\"3079\",\"type\":\"WheelZoomTool\"},{\"id\":\"3080\",\"type\":\"BoxZoomTool\"},{\"id\":\"3081\",\"type\":\"SaveTool\"},{\"id\":\"3082\",\"type\":\"ResetTool\"},{\"id\":\"3083\",\"type\":\"HelpTool\"}]},\"id\":\"3084\",\"type\":\"Toolbar\"},{\"attributes\":{},\"id\":\"3069\",\"type\":\"BasicTicker\"},{\"attributes\":{\"data_source\":{\"id\":\"3093\",\"type\":\"ColumnDataSource\"},\"glyph\":{\"id\":\"3094\",\"type\":\"Quad\"},\"hover_glyph\":null,\"muted_glyph\":null,\"nonselection_glyph\":{\"id\":\"3095\",\"type\":\"Quad\"},\"selection_glyph\":null,\"view\":{\"id\":\"3097\",\"type\":\"CDSView\"}},\"id\":\"3096\",\"type\":\"GlyphRenderer\"},{\"attributes\":{\"bottom_units\":\"screen\",\"fill_alpha\":{\"value\":0.5},\"fill_color\":{\"value\":\"lightgrey\"},\"left_units\":\"screen\",\"level\":\"overlay\",\"line_alpha\":{\"value\":1.0},\"line_color\":{\"value\":\"black\"},\"line_dash\":[4,4],\"line_width\":{\"value\":2},\"plot\":null,\"render_mode\":\"css\",\"right_units\":\"screen\",\"top_units\":\"screen\"},\"id\":\"3086\",\"type\":\"BoxAnnotation\"},{\"attributes\":{\"callback\":null,\"data\":{\"left\":{\"__ndarray__\":\"AAAAAAAATsAAAAAAAABJwAAAAAAAAETAAAAAAAAAPsAAAAAAAAA0wAAAAAAAACTAAAAAAAAAAAAAAAAAAAAkQAAAAAAAADRAAAAAAAAAPkAAAAAAAABEQAAAAAAAAElAAAAAAAAATkAAAAAAAIBRQAAAAAAAAFRAAAAAAACAVkAAAAAAAABZQAAAAAAAgFtAAAAAAAAAXkAAAAAAAEBgQAAAAAAAgGFAAAAAAADAYkAAAAAAAABkQAAAAAAAQGVAAAAAAACAZkAAAAAAAMBnQAAAAAAAAGlAAAAAAABAakAAAAAAAIBrQAAAAAAAwGxAAAAAAAAAbkAAAAAAAEBvQAAAAAAAQHBAAAAAAADgcEAAAAAAAIBxQAAAAAAAIHJA\",\"dtype\":\"float64\",\"shape\":[36]},\"right\":{\"__ndarray__\":\"AAAAAAAAScAAAAAAAABEwAAAAAAAAD7AAAAAAAAANMAAAAAAAAAkwAAAAAAAAAAAAAAAAAAAJEAAAAAAAAA0QAAAAAAAAD5AAAAAAAAAREAAAAAAAABJQAAAAAAAAE5AAAAAAACAUUAAAAAAAABUQAAAAAAAgFZAAAAAAAAAWUAAAAAAAIBbQAAAAAAAAF5AAAAAAABAYEAAAAAAAIBhQAAAAAAAwGJAAAAAAAAAZEAAAAAAAEBlQAAAAAAAgGZAAAAAAADAZ0AAAAAAAABpQAAAAAAAQGpAAAAAAACAa0AAAAAAAMBsQAAAAAAAAG5AAAAAAABAb0AAAAAAAEBwQAAAAAAA4HBAAAAAAACAcUAAAAAAACByQAAAAAAAwHJA\",\"dtype\":\"float64\",\"shape\":[36]},\"top\":[912,4214,14759,39097,66176,63576,43419,26218,15974,10804,7760,5921,4634,3778,3100,2646,2180,1779,1517,1270,1148,881,792,695,588,477,393,337,284,247,225,192,172,141,111,119]},\"selected\":{\"id\":\"3222\",\"type\":\"Selection\"},\"selection_policy\":{\"id\":\"3221\",\"type\":\"UnionRenderers\"}},\"id\":\"3093\",\"type\":\"ColumnDataSource\"},{\"attributes\":{\"source\":{\"id\":\"3093\",\"type\":\"ColumnDataSource\"}},\"id\":\"3097\",\"type\":\"CDSView\"},{\"attributes\":{\"axis_label\":\"Delay(min)\",\"formatter\":{\"id\":\"3217\",\"type\":\"BasicTickFormatter\"},\"plot\":{\"id\":\"3058\",\"subtype\":\"Figure\",\"type\":\"Plot\"},\"ticker\":{\"id\":\"3069\",\"type\":\"BasicTicker\"}},\"id\":\"3068\",\"type\":\"LinearAxis\"},{\"attributes\":{},\"id\":\"3064\",\"type\":\"LinearScale\"},{\"attributes\":{},\"id\":\"3219\",\"type\":\"BasicTickFormatter\"}],\"root_ids\":[\"3058\"]},\"title\":\"Bokeh Application\",\"version\":\"1.0.4\"}};\n",
       "  var render_items = [{\"docid\":\"c2c4eaa1-3906-446d-a84b-d8dfb9348100\",\"roots\":{\"3058\":\"f102626e-8f41-4c44-addc-e3ea39ca4799\"}}];\n",
       "  root.Bokeh.embed.embed_items_notebook(docs_json, render_items);\n",
       "\n",
       "  }\n",
       "  if (root.Bokeh !== undefined) {\n",
       "    embed_document(root);\n",
       "  } else {\n",
       "    var attempts = 0;\n",
       "    var timer = setInterval(function(root) {\n",
       "      if (root.Bokeh !== undefined) {\n",
       "        embed_document(root);\n",
       "        clearInterval(timer);\n",
       "      }\n",
       "      attempts++;\n",
       "      if (attempts > 100) {\n",
       "        console.log(\"Bokeh: ERROR: Unable to run BokehJS code because BokehJS library is missing\");\n",
       "        clearInterval(timer);\n",
       "      }\n",
       "    }, 10, root)\n",
       "  }\n",
       "})(window);"
      ],
      "application/vnd.bokehjs_exec.v0+json": ""
     },
     "metadata": {
      "application/vnd.bokehjs_exec.v0+json": {
       "id": "3058"
      }
     },
     "output_type": "display_data"
    }
   ],
   "source": [
    "hist, edges = np.histogram(flights['arr_delay'], bins=int(180/5), range=[-60, 300])\n",
    "p = figure(plot_height=600, plot_width=600, \n",
    "           title=\"arrive delays\", \n",
    "           x_axis_label='Delay(min)',\n",
    "           y_axis_label='Number of Flights'\n",
    "          )\n",
    "p.quad(top=hist, bottom=0, left=edges[:-1], right=edges[1:],\n",
    "       fill_color='red', line_color='black',\n",
    "      )\n",
    "show(p)"
   ]
  },
  {
   "cell_type": "code",
   "execution_count": 19,
   "metadata": {},
   "outputs": [
    {
     "data": {
      "text/html": [
       "\n",
       "\n",
       "\n",
       "\n",
       "\n",
       "\n",
       "  <div class=\"bk-root\" id=\"e495e31d-9b83-4b46-93c5-6de5243b4de5\" data-root-id=\"3274\"></div>\n"
      ]
     },
     "metadata": {},
     "output_type": "display_data"
    },
    {
     "data": {
      "application/javascript": [
       "(function(root) {\n",
       "  function embed_document(root) {\n",
       "    \n",
       "  var docs_json = {\"da122f4a-518a-4479-b520-c9c82162f832\":{\"roots\":{\"references\":[{\"attributes\":{\"below\":[{\"id\":\"3284\",\"type\":\"LinearAxis\"}],\"left\":[{\"id\":\"3289\",\"type\":\"LinearAxis\"}],\"renderers\":[{\"id\":\"3284\",\"type\":\"LinearAxis\"},{\"id\":\"3288\",\"type\":\"Grid\"},{\"id\":\"3289\",\"type\":\"LinearAxis\"},{\"id\":\"3293\",\"type\":\"Grid\"},{\"id\":\"3302\",\"type\":\"BoxAnnotation\"},{\"id\":\"3313\",\"type\":\"GlyphRenderer\"}],\"title\":{\"id\":\"3273\",\"type\":\"Title\"},\"toolbar\":{\"id\":\"3300\",\"type\":\"Toolbar\"},\"x_range\":{\"id\":\"3276\",\"type\":\"DataRange1d\"},\"x_scale\":{\"id\":\"3280\",\"type\":\"LinearScale\"},\"y_range\":{\"id\":\"3278\",\"type\":\"DataRange1d\"},\"y_scale\":{\"id\":\"3282\",\"type\":\"LinearScale\"}},\"id\":\"3274\",\"subtype\":\"Figure\",\"type\":\"Plot\"},{\"attributes\":{\"active_drag\":\"auto\",\"active_inspect\":\"auto\",\"active_multi\":null,\"active_scroll\":\"auto\",\"active_tap\":\"auto\",\"tools\":[{\"id\":\"3294\",\"type\":\"PanTool\"},{\"id\":\"3295\",\"type\":\"WheelZoomTool\"},{\"id\":\"3296\",\"type\":\"BoxZoomTool\"},{\"id\":\"3297\",\"type\":\"SaveTool\"},{\"id\":\"3298\",\"type\":\"ResetTool\"},{\"id\":\"3299\",\"type\":\"HelpTool\"},{\"id\":\"3315\",\"type\":\"HoverTool\"}]},\"id\":\"3300\",\"type\":\"Toolbar\"},{\"attributes\":{\"callback\":null},\"id\":\"3276\",\"type\":\"DataRange1d\"},{\"attributes\":{\"callback\":null},\"id\":\"3278\",\"type\":\"DataRange1d\"},{\"attributes\":{\"bottom_units\":\"screen\",\"fill_alpha\":{\"value\":0.5},\"fill_color\":{\"value\":\"lightgrey\"},\"left_units\":\"screen\",\"level\":\"overlay\",\"line_alpha\":{\"value\":1.0},\"line_color\":{\"value\":\"black\"},\"line_dash\":[4,4],\"line_width\":{\"value\":2},\"plot\":null,\"render_mode\":\"css\",\"right_units\":\"screen\",\"top_units\":\"screen\"},\"id\":\"3302\",\"type\":\"BoxAnnotation\"},{\"attributes\":{\"data_source\":{\"id\":\"3272\",\"type\":\"ColumnDataSource\"},\"glyph\":{\"id\":\"3310\",\"type\":\"Quad\"},\"hover_glyph\":{\"id\":\"3312\",\"type\":\"Quad\"},\"muted_glyph\":null,\"nonselection_glyph\":{\"id\":\"3311\",\"type\":\"Quad\"},\"selection_glyph\":null,\"view\":{\"id\":\"3314\",\"type\":\"CDSView\"}},\"id\":\"3313\",\"type\":\"GlyphRenderer\"},{\"attributes\":{},\"id\":\"3282\",\"type\":\"LinearScale\"},{\"attributes\":{\"source\":{\"id\":\"3272\",\"type\":\"ColumnDataSource\"}},\"id\":\"3314\",\"type\":\"CDSView\"},{\"attributes\":{\"axis_label\":\"Delay(min)\",\"formatter\":{\"id\":\"3444\",\"type\":\"BasicTickFormatter\"},\"plot\":{\"id\":\"3274\",\"subtype\":\"Figure\",\"type\":\"Plot\"},\"ticker\":{\"id\":\"3285\",\"type\":\"BasicTicker\"}},\"id\":\"3284\",\"type\":\"LinearAxis\"},{\"attributes\":{},\"id\":\"3444\",\"type\":\"BasicTickFormatter\"},{\"attributes\":{},\"id\":\"3285\",\"type\":\"BasicTicker\"},{\"attributes\":{\"plot\":{\"id\":\"3274\",\"subtype\":\"Figure\",\"type\":\"Plot\"},\"ticker\":{\"id\":\"3285\",\"type\":\"BasicTicker\"}},\"id\":\"3288\",\"type\":\"Grid\"},{\"attributes\":{},\"id\":\"3446\",\"type\":\"BasicTickFormatter\"},{\"attributes\":{\"axis_label\":\"Number of Flights\",\"formatter\":{\"id\":\"3446\",\"type\":\"BasicTickFormatter\"},\"plot\":{\"id\":\"3274\",\"subtype\":\"Figure\",\"type\":\"Plot\"},\"ticker\":{\"id\":\"3290\",\"type\":\"BasicTicker\"}},\"id\":\"3289\",\"type\":\"LinearAxis\"},{\"attributes\":{},\"id\":\"3280\",\"type\":\"LinearScale\"},{\"attributes\":{},\"id\":\"3448\",\"type\":\"UnionRenderers\"},{\"attributes\":{},\"id\":\"3290\",\"type\":\"BasicTicker\"},{\"attributes\":{},\"id\":\"3449\",\"type\":\"Selection\"},{\"attributes\":{\"dimension\":1,\"plot\":{\"id\":\"3274\",\"subtype\":\"Figure\",\"type\":\"Plot\"},\"ticker\":{\"id\":\"3290\",\"type\":\"BasicTicker\"}},\"id\":\"3293\",\"type\":\"Grid\"},{\"attributes\":{\"bottom\":{\"value\":0},\"fill_color\":{\"value\":\"navy\"},\"left\":{\"field\":\"left\"},\"line_color\":{\"value\":\"#1f77b4\"},\"right\":{\"field\":\"right\"},\"top\":{\"field\":\"flights\"}},\"id\":\"3312\",\"type\":\"Quad\"},{\"attributes\":{\"bottom\":{\"value\":0},\"fill_color\":{\"value\":\"red\"},\"left\":{\"field\":\"left\"},\"line_color\":{\"value\":\"blue\"},\"right\":{\"field\":\"right\"},\"top\":{\"field\":\"flights\"}},\"id\":\"3310\",\"type\":\"Quad\"},{\"attributes\":{},\"id\":\"3294\",\"type\":\"PanTool\"},{\"attributes\":{},\"id\":\"3295\",\"type\":\"WheelZoomTool\"},{\"attributes\":{\"bottom\":{\"value\":0},\"fill_alpha\":{\"value\":0.1},\"fill_color\":{\"value\":\"#1f77b4\"},\"left\":{\"field\":\"left\"},\"line_alpha\":{\"value\":0.1},\"line_color\":{\"value\":\"#1f77b4\"},\"right\":{\"field\":\"right\"},\"top\":{\"field\":\"flights\"}},\"id\":\"3311\",\"type\":\"Quad\"},{\"attributes\":{\"overlay\":{\"id\":\"3302\",\"type\":\"BoxAnnotation\"}},\"id\":\"3296\",\"type\":\"BoxZoomTool\"},{\"attributes\":{\"callback\":null,\"data\":{\"f_flights\":[912,4214,14759,39097,66176,63576,43419,26218,15974,10804,7760,5921,4634,3778,3100,2646,2180,1779,1517,1270,1148,881,792,695,588,477,393,337,284,247,225,192,172,141,111,119],\"f_interval\":[\"-60 to -50 minutes\",\"-50 to -40 minutes\",\"-40 to -30 minutes\",\"-30 to -20 minutes\",\"-20 to -10 minutes\",\"-10 to 0 minutes\",\"0 to 10 minutes\",\"10 to 20 minutes\",\"20 to 30 minutes\",\"30 to 40 minutes\",\"40 to 50 minutes\",\"50 to 60 minutes\",\"60 to 70 minutes\",\"70 to 80 minutes\",\"80 to 90 minutes\",\"90 to 100 minutes\",\"100 to 110 minutes\",\"110 to 120 minutes\",\"120 to 130 minutes\",\"130 to 140 minutes\",\"140 to 150 minutes\",\"150 to 160 minutes\",\"160 to 170 minutes\",\"170 to 180 minutes\",\"180 to 190 minutes\",\"190 to 200 minutes\",\"200 to 210 minutes\",\"210 to 220 minutes\",\"220 to 230 minutes\",\"230 to 240 minutes\",\"240 to 250 minutes\",\"250 to 260 minutes\",\"260 to 270 minutes\",\"270 to 280 minutes\",\"280 to 290 minutes\",\"290 to 300 minutes\"],\"flights\":[912,4214,14759,39097,66176,63576,43419,26218,15974,10804,7760,5921,4634,3778,3100,2646,2180,1779,1517,1270,1148,881,792,695,588,477,393,337,284,247,225,192,172,141,111,119],\"index\":[0,1,2,3,4,5,6,7,8,9,10,11,12,13,14,15,16,17,18,19,20,21,22,23,24,25,26,27,28,29,30,31,32,33,34,35],\"left\":{\"__ndarray__\":\"AAAAAAAATsAAAAAAAABJwAAAAAAAAETAAAAAAAAAPsAAAAAAAAA0wAAAAAAAACTAAAAAAAAAAAAAAAAAAAAkQAAAAAAAADRAAAAAAAAAPkAAAAAAAABEQAAAAAAAAElAAAAAAAAATkAAAAAAAIBRQAAAAAAAAFRAAAAAAACAVkAAAAAAAABZQAAAAAAAgFtAAAAAAAAAXkAAAAAAAEBgQAAAAAAAgGFAAAAAAADAYkAAAAAAAABkQAAAAAAAQGVAAAAAAACAZkAAAAAAAMBnQAAAAAAAAGlAAAAAAABAakAAAAAAAIBrQAAAAAAAwGxAAAAAAAAAbkAAAAAAAEBvQAAAAAAAQHBAAAAAAADgcEAAAAAAAIBxQAAAAAAAIHJA\",\"dtype\":\"float64\",\"shape\":[36]},\"right\":{\"__ndarray__\":\"AAAAAAAAScAAAAAAAABEwAAAAAAAAD7AAAAAAAAANMAAAAAAAAAkwAAAAAAAAAAAAAAAAAAAJEAAAAAAAAA0QAAAAAAAAD5AAAAAAAAAREAAAAAAAABJQAAAAAAAAE5AAAAAAACAUUAAAAAAAABUQAAAAAAAgFZAAAAAAAAAWUAAAAAAAIBbQAAAAAAAAF5AAAAAAABAYEAAAAAAAIBhQAAAAAAAwGJAAAAAAAAAZEAAAAAAAEBlQAAAAAAAgGZAAAAAAADAZ0AAAAAAAABpQAAAAAAAQGpAAAAAAACAa0AAAAAAAMBsQAAAAAAAAG5AAAAAAABAb0AAAAAAAEBwQAAAAAAA4HBAAAAAAACAcUAAAAAAACByQAAAAAAAwHJA\",\"dtype\":\"float64\",\"shape\":[36]}},\"selected\":{\"id\":\"3449\",\"type\":\"Selection\"},\"selection_policy\":{\"id\":\"3448\",\"type\":\"UnionRenderers\"}},\"id\":\"3272\",\"type\":\"ColumnDataSource\"},{\"attributes\":{},\"id\":\"3297\",\"type\":\"SaveTool\"},{\"attributes\":{\"callback\":null,\"tooltips\":[[\"Delay\",\"@f_interval\"],[\"Num of Flights\",\"@f_flights\"]]},\"id\":\"3315\",\"type\":\"HoverTool\"},{\"attributes\":{},\"id\":\"3298\",\"type\":\"ResetTool\"},{\"attributes\":{\"plot\":null,\"text\":\"arrive delays\"},\"id\":\"3273\",\"type\":\"Title\"},{\"attributes\":{},\"id\":\"3299\",\"type\":\"HelpTool\"}],\"root_ids\":[\"3274\"]},\"title\":\"Bokeh Application\",\"version\":\"1.0.4\"}};\n",
       "  var render_items = [{\"docid\":\"da122f4a-518a-4479-b520-c9c82162f832\",\"roots\":{\"3274\":\"e495e31d-9b83-4b46-93c5-6de5243b4de5\"}}];\n",
       "  root.Bokeh.embed.embed_items_notebook(docs_json, render_items);\n",
       "\n",
       "  }\n",
       "  if (root.Bokeh !== undefined) {\n",
       "    embed_document(root);\n",
       "  } else {\n",
       "    var attempts = 0;\n",
       "    var timer = setInterval(function(root) {\n",
       "      if (root.Bokeh !== undefined) {\n",
       "        embed_document(root);\n",
       "        clearInterval(timer);\n",
       "      }\n",
       "      attempts++;\n",
       "      if (attempts > 100) {\n",
       "        console.log(\"Bokeh: ERROR: Unable to run BokehJS code because BokehJS library is missing\");\n",
       "        clearInterval(timer);\n",
       "      }\n",
       "    }, 10, root)\n",
       "  }\n",
       "})(window);"
      ],
      "application/vnd.bokehjs_exec.v0+json": ""
     },
     "metadata": {
      "application/vnd.bokehjs_exec.v0+json": {
       "id": "3274"
      }
     },
     "output_type": "display_data"
    }
   ],
   "source": [
    "from bokeh.models import ColumnDataSource, HoverTool\n",
    "\n",
    "hist, edges = np.histogram(flights['arr_delay'], bins=int(180/5), range=[-60, 300])\n",
    "\n",
    "delays = pd.DataFrame({'flights': hist, \n",
    "                       'left': edges[:-1], \n",
    "                       'right': edges[1:]})\n",
    "delays['f_interval'] = ['%d to %d minutes' % (left, right) for left, right in zip(delays['left'], delays['right'])]\n",
    "delays['f_flights'] = hist\n",
    "src = ColumnDataSource(delays)\n",
    "\n",
    "p = figure(plot_height=600, plot_width=600, \n",
    "           title=\"arrive delays\", \n",
    "           x_axis_label='Delay(min)',\n",
    "           y_axis_label='Number of Flights'\n",
    "          )\n",
    "p.quad(source=src, bottom=0, top='flights', left='left', right='right',\n",
    "       fill_color='red', line_color='blue',\n",
    "       hover_fill_alpha = 1.0,\n",
    "       hover_fill_color = 'navy',\n",
    "      )\n",
    "hover = HoverTool(tooltips=[('Delay', '@f_interval'),\n",
    "                            ('Num of Flights', '@f_flights')\n",
    "                           ])\n",
    "p.add_tools(hover)\n",
    "show(p)"
   ]
  },
  {
   "cell_type": "code",
   "execution_count": null,
   "metadata": {},
   "outputs": [],
   "source": []
  }
 ],
 "metadata": {
  "kernelspec": {
   "display_name": "Python 3",
   "language": "python",
   "name": "python3"
  },
  "language_info": {
   "codemirror_mode": {
    "name": "ipython",
    "version": 3
   },
   "file_extension": ".py",
   "mimetype": "text/x-python",
   "name": "python",
   "nbconvert_exporter": "python",
   "pygments_lexer": "ipython3",
   "version": "3.7.1"
  }
 },
 "nbformat": 4,
 "nbformat_minor": 2
}
