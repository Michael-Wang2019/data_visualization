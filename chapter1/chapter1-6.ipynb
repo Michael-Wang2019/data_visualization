{
 "cells": [
  {
   "cell_type": "code",
   "execution_count": 1,
   "metadata": {},
   "outputs": [
    {
     "data": {
      "image/png": "[encoded data removed]",
      "text/plain": [
       "<Figure size 432x288 with 2 Axes>"
      ]
     },
     "metadata": {
      "needs_background": "light"
     },
     "output_type": "display_data"
    }
   ],
   "source": [
    "%matplotlib inline\n",
    "import matplotlib.pyplot as plt\n",
    "\n",
    "fig,ax = plt.subplots(1, 2)\n",
    "data = [1, 5, 9, 2]\n",
    "ax[0].boxplot([data]) \n",
    "ax[0].grid(True)\n",
    "ax[1].boxplot([data], showmeans=True)  \n",
    "ax[1].grid(True)"
   ]
  },
  {
   "cell_type": "code",
   "execution_count": 2,
   "metadata": {},
   "outputs": [
    {
     "data": {
      "image/png": "[encoded data removed]",
      "text/plain": [
       "<Figure size 432x288 with 1 Axes>"
      ]
     },
     "metadata": {
      "needs_background": "light"
     },
     "output_type": "display_data"
    }
   ],
   "source": [
    "plt.boxplot([2,4,6,8,10], notch=True)\n",
    "plt.grid(1)"
   ]
  },
  {
   "cell_type": "code",
   "execution_count": 3,
   "metadata": {},
   "outputs": [
    {
     "data": {
      "image/png": "[encoded data removed]",
      "text/plain": [
       "<Figure size 432x288 with 1 Axes>"
      ]
     },
     "metadata": {
      "needs_background": "light"
     },
     "output_type": "display_data"
    }
   ],
   "source": [
    "plt.boxplot([2,4,6,8,10])\n",
    "plt.grid(1)"
   ]
  },
  {
   "cell_type": "code",
   "execution_count": 4,
   "metadata": {},
   "outputs": [],
   "source": [
    "import numpy as np\n",
    "np.random.seed(10)\n",
    "collectn_1 = np.random.normal(100, 10, 200)\n",
    "collectn_2 = np.random.normal(80, 30, 200)\n",
    "collectn_3 = np.random.normal(90, 20, 200)\n",
    "collectn_4 = np.random.normal(70, 25, 200)   \n",
    "data = [collectn_1, collectn_2, collectn_3, collectn_4]"
   ]
  },
  {
   "cell_type": "code",
   "execution_count": 5,
   "metadata": {},
   "outputs": [
    {
     "data": {
      "image/png": "[encoded data removed]",
      "text/plain": [
       "<Figure size 648x432 with 1 Axes>"
      ]
     },
     "metadata": {
      "needs_background": "light"
     },
     "output_type": "display_data"
    }
   ],
   "source": [
    "fig = plt.figure(1, figsize=(9, 6))\n",
    "ax = fig.add_subplot(111)\n",
    "bp = ax.boxplot(data, patch_artist=True)    #①"
   ]
  },
  {
   "cell_type": "code",
   "execution_count": 6,
   "metadata": {},
   "outputs": [
    {
     "data": {
      "image/png": "[encoded data removed]",
      "text/plain": [
       "<Figure size 648x432 with 1 Axes>"
      ]
     },
     "metadata": {
      "needs_background": "light"
     },
     "output_type": "display_data"
    }
   ],
   "source": [
    "fig = plt.figure(1, figsize=(9, 6))\n",
    "ax = fig.add_subplot(111)\n",
    "bp = ax.boxplot(data, patch_artist=True)\n",
    "#修改矩形框内的填充色和矩形框的边线\n",
    "for box in bp['boxes']:\n",
    "    box.set( color='#7570b3', linewidth=2)    #矩形框边线颜色和粗细\n",
    "    box.set( facecolor = '#1b9e77' )    #填充色\n",
    "\n",
    "#须的粗细和颜色\n",
    "for whisker in bp['whiskers']:\n",
    "    whisker.set(color='red', linewidth=2)\n",
    "\n",
    "#表示上下限的线的颜色和粗细\n",
    "for cap in bp['caps']:\n",
    "    cap.set(color='black', linewidth=2)\n",
    "\n",
    "#表示中位数的的线的颜色和粗细\n",
    "for median in bp['medians']:\n",
    "    median.set(color='#b2df8a', linewidth=4)\n",
    "    \n",
    "#表示离群值的符号设置\n",
    "for flier in bp['fliers']:\n",
    "    flier.set(marker='*', color='#e7298a', alpha=0.5)\n",
    "\n",
    "#设置坐标轴\n",
    "ax.set_xticklabels(['Sample1', 'Sample2', 'Sample3', 'Sample4'])\n",
    "ax.get_xaxis().tick_bottom()\n",
    "ax.get_yaxis().tick_left()"
   ]
  },
  {
   "cell_type": "code",
   "execution_count": 8,
   "metadata": {},
   "outputs": [
    {
     "data": {
      "text/html": [
       "<div>\n",
       "<style scoped>\n",
       "    .dataframe tbody tr th:only-of-type {\n",
       "        vertical-align: middle;\n",
       "    }\n",
       "\n",
       "    .dataframe tbody tr th {\n",
       "        vertical-align: top;\n",
       "    }\n",
       "\n",
       "    .dataframe thead th {\n",
       "        text-align: right;\n",
       "    }\n",
       "</style>\n",
       "<table border=\"1\" class=\"dataframe\">\n",
       "  <thead>\n",
       "    <tr style=\"text-align: right;\">\n",
       "      <th></th>\n",
       "      <th>A</th>\n",
       "      <th>B</th>\n",
       "      <th>C</th>\n",
       "      <th>D</th>\n",
       "    </tr>\n",
       "  </thead>\n",
       "  <tbody>\n",
       "    <tr>\n",
       "      <th>0</th>\n",
       "      <td>-0.465984</td>\n",
       "      <td>0.067767</td>\n",
       "      <td>-0.224467</td>\n",
       "      <td>0.071738</td>\n",
       "    </tr>\n",
       "    <tr>\n",
       "      <th>1</th>\n",
       "      <td>-0.116762</td>\n",
       "      <td>-0.469859</td>\n",
       "      <td>-1.109208</td>\n",
       "      <td>-1.238459</td>\n",
       "    </tr>\n",
       "    <tr>\n",
       "      <th>2</th>\n",
       "      <td>0.341388</td>\n",
       "      <td>-0.036968</td>\n",
       "      <td>0.406960</td>\n",
       "      <td>0.436535</td>\n",
       "    </tr>\n",
       "    <tr>\n",
       "      <th>3</th>\n",
       "      <td>-0.128904</td>\n",
       "      <td>1.915653</td>\n",
       "      <td>-0.502276</td>\n",
       "      <td>0.067694</td>\n",
       "    </tr>\n",
       "    <tr>\n",
       "      <th>4</th>\n",
       "      <td>-0.507530</td>\n",
       "      <td>-0.359044</td>\n",
       "      <td>-1.033796</td>\n",
       "      <td>0.680045</td>\n",
       "    </tr>\n",
       "  </tbody>\n",
       "</table>\n",
       "</div>"
      ],
      "text/plain": [
       "          A         B         C         D\n",
       "0 -0.465984  0.067767 -0.224467  0.071738\n",
       "1 -0.116762 -0.469859 -1.109208 -1.238459\n",
       "2  0.341388 -0.036968  0.406960  0.436535\n",
       "3 -0.128904  1.915653 -0.502276  0.067694\n",
       "4 -0.507530 -0.359044 -1.033796  0.680045"
      ]
     },
     "execution_count": 8,
     "metadata": {},
     "output_type": "execute_result"
    }
   ],
   "source": [
    "import pandas as pd\n",
    "import numpy as np\n",
    "data = np.random.randn(25, 4)\n",
    "df = pd.DataFrame(data, columns=list('ABCD'))\n",
    "df.head()"
   ]
  },
  {
   "cell_type": "code",
   "execution_count": 9,
   "metadata": {},
   "outputs": [
    {
     "data": {
      "image/png": "[encoded data removed]",
      "text/plain": [
       "<Figure size 432x288 with 1 Axes>"
      ]
     },
     "metadata": {
      "needs_background": "light"
     },
     "output_type": "display_data"
    }
   ],
   "source": [
    "ax = df.plot.box()"
   ]
  },
  {
   "cell_type": "code",
   "execution_count": 10,
   "metadata": {},
   "outputs": [
    {
     "data": {
      "text/plain": [
       "[Text(0.5, 1.0, 'Pie'), None]"
      ]
     },
     "execution_count": 10,
     "metadata": {},
     "output_type": "execute_result"
    },
    {
     "data": {
      "image/png": "[encoded data removed]",
      "text/plain": [
       "<Figure size 432x288 with 1 Axes>"
      ]
     },
     "metadata": {},
     "output_type": "display_data"
    }
   ],
   "source": [
    "x = [2, 4, 6 ,8]\n",
    "fig, ax = plt.subplots()\n",
    "labels = ['A', 'B', 'C', 'D']\n",
    "colors = ['red', 'yellow', 'blue', 'green']\n",
    "explode = (0, 0.1, 0, 0)\n",
    "ax.pie(x, explode=explode, labels=labels, colors=colors, autopct='%1.1f%%', shadow=True, startangle=90, radius=1.2) \n",
    "ax.set(aspect=\"equal\", title='Pie')"
   ]
  },
  {
   "cell_type": "code",
   "execution_count": 11,
   "metadata": {},
   "outputs": [
    {
     "data": {
      "text/html": [
       "<div>\n",
       "<style scoped>\n",
       "    .dataframe tbody tr th:only-of-type {\n",
       "        vertical-align: middle;\n",
       "    }\n",
       "\n",
       "    .dataframe tbody tr th {\n",
       "        vertical-align: top;\n",
       "    }\n",
       "\n",
       "    .dataframe thead th {\n",
       "        text-align: right;\n",
       "    }\n",
       "</style>\n",
       "<table border=\"1\" class=\"dataframe\">\n",
       "  <thead>\n",
       "    <tr style=\"text-align: right;\">\n",
       "      <th></th>\n",
       "      <th>productColor</th>\n",
       "      <th>color</th>\n",
       "    </tr>\n",
       "  </thead>\n",
       "  <tbody>\n",
       "    <tr>\n",
       "      <th>0</th>\n",
       "      <td>22咖啡色</td>\n",
       "      <td>棕色</td>\n",
       "    </tr>\n",
       "    <tr>\n",
       "      <th>1</th>\n",
       "      <td>02粉色</td>\n",
       "      <td>粉色</td>\n",
       "    </tr>\n",
       "    <tr>\n",
       "      <th>2</th>\n",
       "      <td>071蓝色</td>\n",
       "      <td>蓝色</td>\n",
       "    </tr>\n",
       "    <tr>\n",
       "      <th>3</th>\n",
       "      <td>071黑色</td>\n",
       "      <td>黑色</td>\n",
       "    </tr>\n",
       "    <tr>\n",
       "      <th>4</th>\n",
       "      <td>071肤色</td>\n",
       "      <td>肤色</td>\n",
       "    </tr>\n",
       "  </tbody>\n",
       "</table>\n",
       "</div>"
      ],
      "text/plain": [
       "  productColor color\n",
       "0        22咖啡色    棕色\n",
       "1         02粉色    粉色\n",
       "2        071蓝色    蓝色\n",
       "3        071黑色    黑色\n",
       "4        071肤色    肤色"
      ]
     },
     "execution_count": 11,
     "metadata": {},
     "output_type": "execute_result"
    }
   ],
   "source": [
    "df = pd.read_csv(\"/Users/qiwsir/Documents/Codes/Dataset/bra/colors.csv\")\n",
    "colors = pd.DataFrame({'productColor':df.values[0:,1], 'color':df.values[0:,2]})\n",
    "colors.head()"
   ]
  },
  {
   "cell_type": "code",
   "execution_count": 12,
   "metadata": {},
   "outputs": [
    {
     "data": {
      "text/html": [
       "<div>\n",
       "<style scoped>\n",
       "    .dataframe tbody tr th:only-of-type {\n",
       "        vertical-align: middle;\n",
       "    }\n",
       "\n",
       "    .dataframe tbody tr th {\n",
       "        vertical-align: top;\n",
       "    }\n",
       "\n",
       "    .dataframe thead th {\n",
       "        text-align: right;\n",
       "    }\n",
       "</style>\n",
       "<table border=\"1\" class=\"dataframe\">\n",
       "  <thead>\n",
       "    <tr style=\"text-align: right;\">\n",
       "      <th></th>\n",
       "      <th>creationTime</th>\n",
       "      <th>productColor</th>\n",
       "      <th>productSize</th>\n",
       "      <th>color</th>\n",
       "    </tr>\n",
       "  </thead>\n",
       "  <tbody>\n",
       "    <tr>\n",
       "      <th>0</th>\n",
       "      <td>2016-06-08 17:17:00</td>\n",
       "      <td>22咖啡色</td>\n",
       "      <td>75C</td>\n",
       "      <td>棕色</td>\n",
       "    </tr>\n",
       "    <tr>\n",
       "      <th>1</th>\n",
       "      <td>2017-04-07 19:34:25</td>\n",
       "      <td>22咖啡色</td>\n",
       "      <td>80B</td>\n",
       "      <td>棕色</td>\n",
       "    </tr>\n",
       "    <tr>\n",
       "      <th>2</th>\n",
       "      <td>2016-06-18 19:44:56</td>\n",
       "      <td>02粉色</td>\n",
       "      <td>80C</td>\n",
       "      <td>粉色</td>\n",
       "    </tr>\n",
       "    <tr>\n",
       "      <th>3</th>\n",
       "      <td>2017-08-03 20:39:18</td>\n",
       "      <td>22咖啡色</td>\n",
       "      <td>80B</td>\n",
       "      <td>棕色</td>\n",
       "    </tr>\n",
       "    <tr>\n",
       "      <th>4</th>\n",
       "      <td>2016-07-06 14:02:08</td>\n",
       "      <td>22咖啡色</td>\n",
       "      <td>75B</td>\n",
       "      <td>棕色</td>\n",
       "    </tr>\n",
       "  </tbody>\n",
       "</table>\n",
       "</div>"
      ],
      "text/plain": [
       "          creationTime productColor productSize color\n",
       "0  2016-06-08 17:17:00        22咖啡色         75C    棕色\n",
       "1  2017-04-07 19:34:25        22咖啡色         80B    棕色\n",
       "2  2016-06-18 19:44:56         02粉色         80C    粉色\n",
       "3  2017-08-03 20:39:18        22咖啡色         80B    棕色\n",
       "4  2016-07-06 14:02:08        22咖啡色         75B    棕色"
      ]
     },
     "execution_count": 12,
     "metadata": {},
     "output_type": "execute_result"
    }
   ],
   "source": [
    "df2 = pd.read_csv(\"/Users/qiwsir/Documents/Codes/Dataset/bra/bra.csv\")\n",
    "cbras = pd.merge(df2, colors, on=\"productColor\", how=\"left\")\n",
    "cbras.head()"
   ]
  },
  {
   "cell_type": "code",
   "execution_count": 13,
   "metadata": {},
   "outputs": [
    {
     "data": {
      "text/plain": [
       "<BarContainer object of 10 artists>"
      ]
     },
     "execution_count": 13,
     "metadata": {},
     "output_type": "execute_result"
    },
    {
     "data": {
      "image/png": "[encoded data removed]",
      "text/plain": [
       "<Figure size 432x288 with 1 Axes>"
      ]
     },
     "metadata": {
      "needs_background": "light"
     },
     "output_type": "display_data"
    }
   ],
   "source": [
    "color_count = cbras.groupby('color').count()    # ②\n",
    "datas = color_count['productColor']\n",
    "labels = datas.index\n",
    "position = range(len(datas.index))\n",
    "\n",
    "plt.bar(x=position, height=datas.values, width=0.6, tick_label=labels)"
   ]
  },
  {
   "cell_type": "code",
   "execution_count": 14,
   "metadata": {},
   "outputs": [
    {
     "data": {
      "text/plain": [
       "[None]"
      ]
     },
     "execution_count": 14,
     "metadata": {},
     "output_type": "execute_result"
    },
    {
     "data": {
      "image/png": "[encoded data removed]",
      "text/plain": [
       "<Figure size 432x288 with 1 Axes>"
      ]
     },
     "metadata": {},
     "output_type": "display_data"
    }
   ],
   "source": [
    "# 对df2中的productSize特征的数值进行清洗\n",
    "bras2 = df2['productSize'].str.upper()\n",
    "cup = bras2.str.findall(\"[a-zA-Z]+\").str[0]    #用正则表达式进行初步清洗\n",
    "cup2 = cup.str.replace('M', 'B')    #将其他型号归类为A-E\n",
    "cup3 = cup2.str.replace('L', 'C')\n",
    "cup4 = cup3.str.replace('XC', 'D')\n",
    "cup5 = cup4.str.replace('AB', 'B')\n",
    "df2['cup'] = cup5\n",
    "\n",
    "# 数据清洗完毕，进行分组统计，并用饼图表现结果\n",
    "cup_count = df2.groupby('cup').count()\n",
    "labels = ['A', 'B', 'C', 'D', 'E']\n",
    "fig, ax = plt.subplots()\n",
    "explode = (0, 0.1, 0, 0, 0)\n",
    "ax.pie(cup_count['productColor'], explode=explode, labels=labels, autopct='%1.1f%%', radius=1.2, startangle=0)\n",
    "ax.set(aspect='equal')"
   ]
  },
  {
   "cell_type": "code",
   "execution_count": 15,
   "metadata": {},
   "outputs": [
    {
     "data": {
      "text/plain": [
       "Text(0.5, 1.0, '频数/频率分布直方图')"
      ]
     },
     "execution_count": 15,
     "metadata": {},
     "output_type": "execute_result"
    },
    {
     "data": {
      "image/png": "[encoded data removed]",
      "text/plain": [
       "<Figure size 432x288 with 1 Axes>"
      ]
     },
     "metadata": {
      "needs_background": "light"
     },
     "output_type": "display_data"
    }
   ],
   "source": [
    "import matplotlib \n",
    "matplotlib.rcParams['axes.unicode_minus']=False #③\n",
    "\n",
    "data = np.random.randn(10000)    #④\n",
    "plt.hist(data, bins=40, density=True, facecolor=\"blue\", edgecolor=\"black\", alpha=0.7) \n",
    "plt.xlabel(\"区间\") \n",
    "plt.ylabel(\"频率\") \n",
    "plt.title(\"频数/频率分布直方图\")"
   ]
  },
  {
   "cell_type": "code",
   "execution_count": 16,
   "metadata": {},
   "outputs": [
    {
     "data": {
      "image/png": "[encoded data removed]",
      "text/plain": [
       "<Figure size 432x288 with 1 Axes>"
      ]
     },
     "metadata": {
      "needs_background": "light"
     },
     "output_type": "display_data"
    }
   ],
   "source": [
    "x = np.random.normal(size=100)\n",
    "n, bins, patches = plt.hist(x)"
   ]
  },
  {
   "cell_type": "code",
   "execution_count": 17,
   "metadata": {},
   "outputs": [
    {
     "data": {
      "text/plain": [
       "[None]"
      ]
     },
     "execution_count": 17,
     "metadata": {},
     "output_type": "execute_result"
    },
    {
     "data": {
      "image/png": "[encoded data removed]",
      "text/plain": [
       "<Figure size 432x288 with 1 Axes>"
      ]
     },
     "metadata": {
      "needs_background": "light"
     },
     "output_type": "display_data"
    }
   ],
   "source": [
    "x = np.random.normal(size=100)\n",
    "n, bins, patches = plt.hist(x)\n",
    "plt.setp(patches[0], 'facecolor', 'g')    # ⑤\n",
    "max_index = np.where(n==np.max(n))[0][0]    # ⑥\n",
    "plt.setp(patches[max_index], facecolor='red')    # ⑦"
   ]
  },
  {
   "cell_type": "code",
   "execution_count": 18,
   "metadata": {},
   "outputs": [
    {
     "data": {
      "image/png": "[encoded data removed]",
      "text/plain": [
       "<Figure size 432x288 with 1 Axes>"
      ]
     },
     "metadata": {
      "needs_background": "light"
     },
     "output_type": "display_data"
    }
   ],
   "source": [
    "np.random.seed(19680801)\n",
    "\n",
    "mu, sigma = 100, 15    # 分别表示平均数和标准差\n",
    "x = mu + sigma * np.random.randn(10000)\n",
    "\n",
    "# 绘制直方图，并得到返回值\n",
    "n, bins, patches = plt.hist(x, 50, density=True, facecolor='g', alpha=0.75)    # ⑧\n",
    "\n",
    "# 设置坐标系\n",
    "plt.xlabel('Smarts')\n",
    "plt.ylabel('Probability')\n",
    "plt.title('Histogram of IQ')\n",
    "plt.text(60, .025, r'$\\mu=100,\\ \\sigma=15$')\n",
    "plt.axis([40, 160, 0, 0.03])\n",
    "plt.grid(True)"
   ]
  },
  {
   "cell_type": "code",
   "execution_count": 19,
   "metadata": {},
   "outputs": [
    {
     "data": {
      "text/plain": [
       "(0.0, 80.0)"
      ]
     },
     "execution_count": 19,
     "metadata": {},
     "output_type": "execute_result"
    },
    {
     "data": {
      "image/png": "[encoded data removed]",
      "text/plain": [
       "<Figure size 432x288 with 1 Axes>"
      ]
     },
     "metadata": {
      "needs_background": "light"
     },
     "output_type": "display_data"
    }
   ],
   "source": [
    "np.random.seed(444)\n",
    "d = np.random.laplace(loc=15, scale=3, size=500)\n",
    "n, bins, patches = plt.hist(x=d, bins='auto', color='#0504aa', alpha=0.7, rwidth=0.85)\n",
    "\n",
    "plt.grid(axis='y', alpha=0.75)\n",
    "plt.xlabel('Value')\n",
    "plt.ylabel('Frequency')\n",
    "plt.title('My Very Own Histogram')\n",
    "plt.text(23, 45, r'$\\mu=15, b=3$')\n",
    "maxfreq = n.max()\n",
    "plt.ylim(top=np.ceil(maxfreq / 10) * 10 if maxfreq % 10 else maxfreq + 10)"
   ]
  },
  {
   "cell_type": "code",
   "execution_count": 20,
   "metadata": {},
   "outputs": [
    {
     "data": {
      "text/html": [
       "<div>\n",
       "<style scoped>\n",
       "    .dataframe tbody tr th:only-of-type {\n",
       "        vertical-align: middle;\n",
       "    }\n",
       "\n",
       "    .dataframe tbody tr th {\n",
       "        vertical-align: top;\n",
       "    }\n",
       "\n",
       "    .dataframe thead th {\n",
       "        text-align: right;\n",
       "    }\n",
       "</style>\n",
       "<table border=\"1\" class=\"dataframe\">\n",
       "  <thead>\n",
       "    <tr style=\"text-align: right;\">\n",
       "      <th></th>\n",
       "      <th>a</th>\n",
       "      <th>b</th>\n",
       "    </tr>\n",
       "  </thead>\n",
       "  <tbody>\n",
       "    <tr>\n",
       "      <th>min</th>\n",
       "      <td>-2.93</td>\n",
       "      <td>14.40</td>\n",
       "    </tr>\n",
       "    <tr>\n",
       "      <th>max</th>\n",
       "      <td>22.58</td>\n",
       "      <td>27.08</td>\n",
       "    </tr>\n",
       "    <tr>\n",
       "      <th>mean</th>\n",
       "      <td>9.58</td>\n",
       "      <td>19.93</td>\n",
       "    </tr>\n",
       "    <tr>\n",
       "      <th>std</th>\n",
       "      <td>4.18</td>\n",
       "      <td>1.92</td>\n",
       "    </tr>\n",
       "  </tbody>\n",
       "</table>\n",
       "</div>"
      ],
      "text/plain": [
       "          a      b\n",
       "min   -2.93  14.40\n",
       "max   22.58  27.08\n",
       "mean   9.58  19.93\n",
       "std    4.18   1.92"
      ]
     },
     "execution_count": 20,
     "metadata": {},
     "output_type": "execute_result"
    }
   ],
   "source": [
    "means = 10, 20\n",
    "stdevs = 4, 2\n",
    "dist = pd.DataFrame(np.random.normal(loc=means, scale=stdevs, size=(1000, 2)), columns=['a', 'b'])\n",
    "dist.agg(['min', 'max', 'mean', 'std']).round(decimals=2)"
   ]
  },
  {
   "cell_type": "code",
   "execution_count": 21,
   "metadata": {},
   "outputs": [
    {
     "data": {
      "image/png": "[encoded data removed]",
      "text/plain": [
       "<Figure size 432x288 with 1 Axes>"
      ]
     },
     "metadata": {
      "needs_background": "light"
     },
     "output_type": "display_data"
    }
   ],
   "source": [
    "fig, ax = plt.subplots()\n",
    "dist.plot.hist(density=True, ax=ax)    # ⑨\n",
    "dist.plot.kde(ax=ax, legend=False, title='Histogram: A vs. B')    # ⑩\n",
    "\n",
    "ax.set_ylabel('Probability')\n",
    "ax.grid(axis='y')\n",
    "ax.set_facecolor('#d8dcd6')"
   ]
  },
  {
   "cell_type": "code",
   "execution_count": null,
   "metadata": {},
   "outputs": [],
   "source": []
  }
 ],
 "metadata": {
  "kernelspec": {
   "display_name": "Python 3",
   "language": "python",
   "name": "python3"
  },
  "language_info": {
   "codemirror_mode": {
    "name": "ipython",
    "version": 3
   },
   "file_extension": ".py",
   "mimetype": "text/x-python",
   "name": "python",
   "nbconvert_exporter": "python",
   "pygments_lexer": "ipython3",
   "version": "3.7.1"
  }
 },
 "nbformat": 4,
 "nbformat_minor": 2
}
